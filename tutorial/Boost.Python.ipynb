{
 "metadata": {
  "name": ""
 },
 "nbformat": 3,
 "nbformat_minor": 0,
 "worksheets": [
  {
   "cells": [
    {
     "cell_type": "heading",
     "level": 1,
     "metadata": {
      "slideshow": {
       "slide_type": "slide"
      }
     },
     "source": [
      "Integrating C++ and Python with Boost.Python\n"
     ]
    },
    {
     "cell_type": "markdown",
     "metadata": {
      "slideshow": {
       "slide_type": "-"
      }
     },
     "source": [
      "## Austin Bingham\n",
      "\n",
      "### @austin_bingham\n",
      "\n",
      "----\n",
      "\n",
      "<img src=\"files/media/SixtyNorth_logo.png\" width=\"25%\">"
     ]
    },
    {
     "cell_type": "markdown",
     "metadata": {
      "slideshow": {
       "slide_type": "subslide"
      }
     },
     "source": [
      "<img src=\"files/media/intro.png\" width=\"100%\">"
     ]
    },
    {
     "cell_type": "heading",
     "level": 1,
     "metadata": {
      "slideshow": {
       "slide_type": "slide"
      }
     },
     "source": [
      "What is Python / C++ Integration?"
     ]
    },
    {
     "cell_type": "heading",
     "level": 1,
     "metadata": {
      "slideshow": {
       "slide_type": "subslide"
      }
     },
     "source": [
      "A lot of language integration can happen between processes"
     ]
    },
    {
     "cell_type": "markdown",
     "metadata": {},
     "source": [
      "<img src=\"files/media/IPC.png\">"
     ]
    },
    {
     "cell_type": "markdown",
     "metadata": {},
     "source": [
      "This is useful and interesting, but not what we're talking about here."
     ]
    },
    {
     "cell_type": "heading",
     "level": 1,
     "metadata": {
      "slideshow": {
       "slide_type": "subslide"
      }
     },
     "source": [
      "Python is a C library"
     ]
    },
    {
     "cell_type": "markdown",
     "metadata": {},
     "source": [
      "<img src=\"files/media/python_libpython.png\">\n",
      "\n",
      "For this presentation, in-process interaction with Python is what we're interested in.\n",
      "\n",
      "This interaction is based on using `libpython`."
     ]
    },
    {
     "cell_type": "heading",
     "level": 1,
     "metadata": {
      "slideshow": {
       "slide_type": "subslide"
      }
     },
     "source": [
      "Integration is fundamentally just using `libpython` as a library"
     ]
    },
    {
     "cell_type": "markdown",
     "metadata": {},
     "source": [
      "<table border=\"\">\n",
      "<tr><td><h2>Extension</h2></td><td><h2>Embedding</h2></td></tr>\n",
      "<tr><td><img src=\"files/media/extension_module.png\"></td><td><img src=\"files/media/embedding.png\"></td></tr>\n",
      "</table>"
     ]
    },
    {
     "cell_type": "heading",
     "level": 1,
     "metadata": {
      "slideshow": {
       "slide_type": "subslide"
      }
     },
     "source": [
      "Everything Python does, you can do, too!"
     ]
    },
    {
     "cell_type": "heading",
     "level": 2,
     "metadata": {},
     "source": [
      "This is great because..."
     ]
    },
    {
     "cell_type": "markdown",
     "metadata": {
      "slideshow": {
       "slide_type": "fragment"
      }
     },
     "source": [
      "...it gives you a lot of power."
     ]
    },
    {
     "cell_type": "markdown",
     "metadata": {
      "slideshow": {
       "slide_type": "fragment"
      }
     },
     "source": [
      "...it can help with performance."
     ]
    },
    {
     "cell_type": "markdown",
     "metadata": {
      "slideshow": {
       "slide_type": "fragment"
      }
     },
     "source": [
      "...it provides interoperability with a broad base of existing software."
     ]
    },
    {
     "cell_type": "heading",
     "level": 2,
     "metadata": {
      "slideshow": {
       "slide_type": "fragment"
      }
     },
     "source": [
      "This is terrible because..."
     ]
    },
    {
     "cell_type": "markdown",
     "metadata": {
      "slideshow": {
       "slide_type": "fragment"
      }
     },
     "source": [
      "...the C API can be hard to work with."
     ]
    },
    {
     "cell_type": "markdown",
     "metadata": {
      "slideshow": {
       "slide_type": "fragment"
      }
     },
     "source": [
      "...you are responsible for doing things correctly."
     ]
    },
    {
     "cell_type": "markdown",
     "metadata": {
      "slideshow": {
       "slide_type": "fragment"
      }
     },
     "source": [
      "...it introduces the possibility for bugs that are impossible in pure Python."
     ]
    },
    {
     "cell_type": "heading",
     "level": 1,
     "metadata": {
      "slideshow": {
       "slide_type": "subslide"
      }
     },
     "source": [
      "Are you sure you still want to do this?"
     ]
    },
    {
     "cell_type": "markdown",
     "metadata": {},
     "source": [
      "<img src=\"files/media/dante.jpg\">"
     ]
    },
    {
     "cell_type": "heading",
     "level": 1,
     "metadata": {
      "slideshow": {
       "slide_type": "slide"
      }
     },
     "source": [
      "Basics of the Python C API"
     ]
    },
    {
     "cell_type": "markdown",
     "metadata": {},
     "source": [
      "<img src=\"files/media/python-logo.png\">"
     ]
    },
    {
     "cell_type": "heading",
     "level": 1,
     "metadata": {
      "slideshow": {
       "slide_type": "subslide"
      }
     },
     "source": [
      "PyObject"
     ]
    },
    {
     "cell_type": "markdown",
     "metadata": {
      "slideshow": {
       "slide_type": "fragment"
      }
     },
     "source": [
      "`PyObject` is the central type for everything that happens in the Python C API."
     ]
    },
    {
     "cell_type": "markdown",
     "metadata": {
      "slideshow": {
       "slide_type": "fragment"
      }
     },
     "source": [
      "Every \"thing\" in Python is represented as a `PyObject`."
     ]
    },
    {
     "cell_type": "markdown",
     "metadata": {
      "slideshow": {
       "slide_type": "fragment"
      }
     },
     "source": [
      "`PyObject` manages two central details in Python:\n",
      "\n",
      " * an object's *type*\n",
      " * and object's *reference count*"
     ]
    },
    {
     "cell_type": "markdown",
     "metadata": {
      "slideshow": {
       "slide_type": "fragment"
      }
     },
     "source": [
      "*Examples of `PyObject` in the C API:*\n",
      "\n",
      "```C\n",
      "PyObject* PyObject_GetAttr(PyObject *o, PyObject *attr_name)\n",
      "\n",
      "PyObject* PyEval_GetCallStats(PyObject *self)\n",
      "\n",
      "PyObject* PyErr_SetFromErrnoWithFilenameObject(PyObject *type, PyObject *filenameObject)\n",
      "```"
     ]
    },
    {
     "cell_type": "heading",
     "level": 2,
     "metadata": {
      "slideshow": {
       "slide_type": "subslide"
      }
     },
     "source": [
      "Reference counting"
     ]
    },
    {
     "cell_type": "markdown",
     "metadata": {
      "slideshow": {
       "slide_type": "fragment"
      }
     },
     "source": [
      "Every object contains a count of references to that object."
     ]
    },
    {
     "cell_type": "markdown",
     "metadata": {
      "slideshow": {
       "slide_type": "fragment"
      }
     },
     "source": [
      "The garbage collector uses this number to determine when an object can be de/reallocated."
     ]
    },
    {
     "cell_type": "markdown",
     "metadata": {
      "slideshow": {
       "slide_type": "fragment"
      }
     },
     "source": [
      "This is generally invisible to users at the Python level, but it's **critical** to users of the C API."
     ]
    },
    {
     "cell_type": "heading",
     "level": 3,
     "metadata": {
      "slideshow": {
       "slide_type": "subslide"
      }
     },
     "source": [
      "Reference count example"
     ]
    },
    {
     "cell_type": "code",
     "collapsed": false,
     "input": [
      "from sys import getrefcount\n",
      "\n",
      "x = 'a simple string'\n",
      "print('Ref-count of string with on reference: {}'.format(getrefcount(x)))\n",
      "\n",
      "y = x\n",
      "print('Ref-count of string with an alias: {}'.format(getrefcount(x)))\n",
      "\n",
      "y = None\n",
      "print('Ref-count of string after removing alias: {}'.format(getrefcount(x)))"
     ],
     "language": "python",
     "metadata": {},
     "outputs": [
      {
       "output_type": "stream",
       "stream": "stdout",
       "text": [
        "Ref-count of string with on reference: 3\n",
        "Ref-count of string with an alias: 4\n",
        "Ref-count of string after removing alias: 3\n"
       ]
      }
     ],
     "prompt_number": 1
    },
    {
     "cell_type": "heading",
     "level": 3,
     "metadata": {
      "slideshow": {
       "slide_type": "subslide"
      }
     },
     "source": [
      "Reference count example illustrated"
     ]
    },
    {
     "cell_type": "markdown",
     "metadata": {
      "slideshow": {
       "slide_type": "fragment"
      }
     },
     "source": [
      "The string starts with a single reference, `x`.\n",
      "\n",
      "<img src=\"files/media/ref_count_1.png\">"
     ]
    },
    {
     "cell_type": "markdown",
     "metadata": {
      "slideshow": {
       "slide_type": "fragment"
      }
     },
     "source": [
      "The creation of the new reference `y` increments the reference count by 1.\n",
      "\n",
      "<img src=\"files/media/ref_count_2.png\">"
     ]
    },
    {
     "cell_type": "markdown",
     "metadata": {
      "slideshow": {
       "slide_type": "fragment"
      }
     },
     "source": [
      "Reassignment of `y` decrements the reference count on the string.\n",
      "\n",
      "<img src=\"files/media/ref_count_3.png\">"
     ]
    },
    {
     "cell_type": "heading",
     "level": 3,
     "metadata": {
      "slideshow": {
       "slide_type": "subslide"
      }
     },
     "source": [
      "Everything has a ref-count"
     ]
    },
    {
     "cell_type": "code",
     "collapsed": false,
     "input": [
      "import sys\n",
      "\n",
      "print('Ref-count of None: {}'.format(getrefcount(None)))\n",
      "print('Ref-count of sys: {}'.format(getrefcount(sys)))\n",
      "print('Ref-count of sys.getrefcount: {}'.format(getrefcount(getrefcount)))"
     ],
     "language": "python",
     "metadata": {},
     "outputs": [
      {
       "output_type": "stream",
       "stream": "stdout",
       "text": [
        "Ref-count of None: 11896\n",
        "Ref-count of sys: 244\n",
        "Ref-count of sys.getrefcount: 5\n"
       ]
      }
     ],
     "prompt_number": 2
    },
    {
     "cell_type": "heading",
     "level": 3,
     "metadata": {
      "slideshow": {
       "slide_type": "subslide"
      }
     },
     "source": [
      "What can go wrong with reference counting?"
     ]
    },
    {
     "cell_type": "markdown",
     "metadata": {
      "slideshow": {
       "slide_type": "fragment"
      }
     },
     "source": [
      "You can forget to increment it."
     ]
    },
    {
     "cell_type": "markdown",
     "metadata": {
      "slideshow": {
       "slide_type": "fragment"
      }
     },
     "source": [
      "You can forget to decrement it."
     ]
    },
    {
     "cell_type": "markdown",
     "metadata": {
      "slideshow": {
       "slide_type": "fragment"
      }
     },
     "source": [
      "You can increment it too many times."
     ]
    },
    {
     "cell_type": "markdown",
     "metadata": {
      "slideshow": {
       "slide_type": "fragment"
      }
     },
     "source": [
      "You can decrement it too many times."
     ]
    },
    {
     "cell_type": "heading",
     "level": 3,
     "metadata": {
      "slideshow": {
       "slide_type": "subslide"
      }
     },
     "source": [
      "Reference counting API"
     ]
    },
    {
     "cell_type": "markdown",
     "metadata": {},
     "source": [
      "The primary functions (really macros) for doing reference counting are:\n",
      "\n",
      " * `Py_INCREF()`\n",
      " * `Py_XINCREF()` - checks for NULL first\n",
      " * `Py_DECREF()`\n",
      " * `Py_XDECREF()` - checks for NULL first\n",
      " * `Py_CLEAR()` - checks for NULL first\n",
      " \n",
      "See [the documentation](http://docs.python.org/3/c-api/refcounting.html) for full details."
     ]
    },
    {
     "cell_type": "heading",
     "level": 2,
     "metadata": {
      "slideshow": {
       "slide_type": "subslide"
      }
     },
     "source": [
      "Exceptions and error handling"
     ]
    },
    {
     "cell_type": "markdown",
     "metadata": {
      "slideshow": {
       "slide_type": "fragment"
      }
     },
     "source": [
      "C doesn't have exceptions, so Python's exceptions are expressed purely in terms of the C language."
     ]
    },
    {
     "cell_type": "markdown",
     "metadata": {
      "slideshow": {
       "slide_type": "fragment"
      }
     },
     "source": [
      "What this ultimately means is that there are some global exception variables which indicate if an exception has been thrown."
     ]
    },
    {
     "cell_type": "markdown",
     "metadata": {
      "slideshow": {
       "slide_type": "fragment"
      }
     },
     "source": [
      "It is up to callers to check and set these as appropriate. "
     ]
    },
    {
     "cell_type": "heading",
     "level": 2,
     "metadata": {
      "slideshow": {
       "slide_type": "subslide"
      }
     },
     "source": [
      "Raising exceptions"
     ]
    },
    {
     "cell_type": "markdown",
     "metadata": {},
     "source": [
      "There are a number of ways to raise exceptions with the C API."
     ]
    },
    {
     "cell_type": "markdown",
     "metadata": {
      "slideshow": {
       "slide_type": "fragment"
      }
     },
     "source": [
      "The most common is `PyErr_SetString`:\n",
      "\n",
      "    void PyErr_SetString(PyObject *type, const char *message)"
     ]
    },
    {
     "cell_type": "heading",
     "level": 3,
     "metadata": {
      "slideshow": {
       "slide_type": "fragment"
      }
     },
     "source": [
      "The exception API can be tricky"
     ]
    },
    {
     "cell_type": "markdown",
     "metadata": {
      "slideshow": {
       "slide_type": "fragment"
      }
     },
     "source": [
      "Many C API calls will clear the exception registers."
     ]
    },
    {
     "cell_type": "markdown",
     "metadata": {
      "slideshow": {
       "slide_type": "fragment"
      }
     },
     "source": [
      "Some functions require the registers to be set."
     ]
    },
    {
     "cell_type": "markdown",
     "metadata": {
      "slideshow": {
       "slide_type": "subslide"
      }
     },
     "source": [
      "Read up on the exception API at http://docs.python.org/3/c-api/exceptions.html"
     ]
    },
    {
     "cell_type": "heading",
     "level": 2,
     "metadata": {
      "slideshow": {
       "slide_type": "subslide"
      }
     },
     "source": [
      "Protocols"
     ]
    },
    {
     "cell_type": "markdown",
     "metadata": {
      "slideshow": {
       "slide_type": "-"
      }
     },
     "source": [
      "The various *protocols* in Python each have their own set of API."
     ]
    },
    {
     "cell_type": "markdown",
     "metadata": {
      "slideshow": {
       "slide_type": "-"
      }
     },
     "source": [
      "For example:\n",
      "\n",
      " * `PySequence_*` for working with *sequences*\n",
      " * `PyIter_*` for working with *iterators* and *iterables*\n",
      " * `PyFunction_*` for working with functions (not actually a protocol, but a concrete type)"
     ]
    },
    {
     "cell_type": "heading",
     "level": 2,
     "metadata": {
      "slideshow": {
       "slide_type": "subslide"
      }
     },
     "source": [
      "Read all about it"
     ]
    },
    {
     "cell_type": "markdown",
     "metadata": {},
     "source": [
      "The Python C API is well documented. It's a large API, but the documentation is well-structured enough to generally guide you to where you need to be.\n",
      "\n",
      "You can the full details of the C API at:\n",
      "\n",
      "**http://docs.python.org/3/c-api/index.html**\n",
      "\n",
      "<img src=\"files/media/python-logo.png\">"
     ]
    },
    {
     "cell_type": "heading",
     "level": 1,
     "metadata": {
      "slideshow": {
       "slide_type": "slide"
      }
     },
     "source": [
      "Core Boost.Python"
     ]
    },
    {
     "cell_type": "markdown",
     "metadata": {},
     "source": [
      "<img src=\"files/media/boost_python.png\">"
     ]
    },
    {
     "cell_type": "heading",
     "level": 1,
     "metadata": {
      "slideshow": {
       "slide_type": "subslide"
      }
     },
     "source": [
      "`boost::python::object` and `boost::python::handle`"
     ]
    },
    {
     "cell_type": "markdown",
     "metadata": {},
     "source": [
      "`bp::handle<>` is used to take initial ownership of a `PyObject`."
     ]
    },
    {
     "cell_type": "markdown",
     "metadata": {
      "slideshow": {
       "slide_type": "fragment"
      }
     },
     "source": [
      "`bp::object` is constructed from a `bp::handle<>`."
     ]
    },
    {
     "cell_type": "markdown",
     "metadata": {
      "slideshow": {
       "slide_type": "fragment"
      }
     },
     "source": [
      "`bp::object` uses **RAII** manage reference counting on a `PyObject` so that it's harder (but not impossible) for you mess it up."
     ]
    },
    {
     "cell_type": "markdown",
     "metadata": {
      "slideshow": {
       "slide_type": "fragment"
      }
     },
     "source": [
      "<img src=\"files/media/object_to_pyobject.png\">"
     ]
    },
    {
     "cell_type": "heading",
     "level": 1,
     "metadata": {
      "slideshow": {
       "slide_type": "subslide"
      }
     },
     "source": [
      "`boost::python::object` usage example"
     ]
    },
    {
     "cell_type": "markdown",
     "metadata": {},
     "source": [
      "Taking ownership of a so-called *new* refererence:"
     ]
    },
    {
     "cell_type": "markdown",
     "metadata": {},
     "source": [
      "```\n",
      "// This creates a \"new\" reference. We are responsible for decref'ing it at some point.\n",
      "PyObject* pyobj = PyList_New(10);\n",
      "\n",
      "// handle<> and object do not incref an object normally.\n",
      "boost::python::object obj(\n",
      "    boost::python::handle<>(pyobj);\n",
      "```"
     ]
    },
    {
     "cell_type": "markdown",
     "metadata": {
      "slideshow": {
       "slide_type": "fragment"
      }
     },
     "source": [
      "Taking a *borrowed* reference:"
     ]
    },
    {
     "cell_type": "markdown",
     "metadata": {
      "slideshow": {
       "slide_type": "fragment"
      }
     },
     "source": [
      "```\n",
      "// Getting a list item returns a borrowed reference\n",
      "PyObject* list_item = PyList_GetItem(list_obj, 3);\n",
      "\n",
      "// So we use borrowed() to incref it.\n",
      "boost::python::object obj(\n",
      "    boost::python::handle<>(\n",
      "        boost::python::borrowed(list_item)));\n",
      "```"
     ]
    },
    {
     "cell_type": "heading",
     "level": 1,
     "metadata": {
      "slideshow": {
       "slide_type": "subslide"
      }
     },
     "source": [
      "Attribute access with `boost::python::object::attr()`"
     ]
    },
    {
     "cell_type": "markdown",
     "metadata": {},
     "source": [
      "To access attributes on an `object` use the `attr()` member function."
     ]
    },
    {
     "cell_type": "markdown",
     "metadata": {},
     "source": [
      "```\n",
      "boost::python::object obj(...);\n",
      "\n",
      "// Access the \"foo\" attribute on the object. Equivalent to \"x = obj.foo\" in Python.\n",
      "boost::python::object x = obj.attr(\"foo\");\n",
      "```"
     ]
    },
    {
     "cell_type": "heading",
     "level": 1,
     "metadata": {
      "slideshow": {
       "slide_type": "subslide"
      }
     },
     "source": [
      "Calling objects"
     ]
    },
    {
     "cell_type": "markdown",
     "metadata": {},
     "source": [
      "You can *call* `boost::python::objects`. This can fail if the object is not a callable.\n",
      "\n",
      "```\n",
      "boost::python::object obj = . . .;\n",
      "\n",
      "// Call the object to get another object\n",
      "boost::python::object result = obj();\n",
      "\n",
      "// And of course you can pass arguments to the call\n",
      "boost::python::object next_result = result(42, \"llamas\");\n",
      "```"
     ]
    },
    {
     "cell_type": "heading",
     "level": 1,
     "metadata": {
      "slideshow": {
       "slide_type": "subslide"
      }
     },
     "source": [
      "Constructing `object`s from C++ objects"
     ]
    },
    {
     "cell_type": "markdown",
     "metadata": {},
     "source": [
      "You can construct `object` instances from arbitrary C++ objects."
     ]
    },
    {
     "cell_type": "markdown",
     "metadata": {
      "slideshow": {
       "slide_type": "fragment"
      }
     },
     "source": [
      "This will always compile, but it may fail at runtime if Boost.Python can't find a type converter."
     ]
    },
    {
     "cell_type": "markdown",
     "metadata": {
      "slideshow": {
       "slide_type": "fragment"
      }
     },
     "source": [
      "It looks like this:\n",
      "\n",
      "```\n",
      "class Foo {};\n",
      "\n",
      "void some_function() {\n",
      "    Foo f;\n",
      "\n",
      "    // This invokes a type-converter lookup and, if successful, conversion.\n",
      "    boost::python::object obj(f);\n",
      "\n",
      "    . . .\n",
      "}\n",
      "```"
     ]
    },
    {
     "cell_type": "markdown",
     "metadata": {
      "slideshow": {
       "slide_type": "fragment"
      }
     },
     "source": [
      "We will look at type-conversion in more detail later."
     ]
    },
    {
     "cell_type": "heading",
     "level": 1,
     "metadata": {
      "slideshow": {
       "slide_type": "subslide"
      }
     },
     "source": [
      "Extracting C++ object from Python objects with `extract<>`"
     ]
    },
    {
     "cell_type": "markdown",
     "metadata": {
      "slideshow": {
       "slide_type": "-"
      }
     },
     "source": [
      "You can convert `boost::python::object` instances into other C++ types with `boost::python::extract<>`."
     ]
    },
    {
     "cell_type": "markdown",
     "metadata": {
      "slideshow": {
       "slide_type": "fragment"
      }
     },
     "source": [
      "`extract<>` is a class, not a function, but its general use looks like a function call:\n",
      "\n",
      "```\n",
      "boost::python::object obj = ...;\n",
      "\n",
      "// Use extract<> to convert obj into a more useful type.\n",
      "Foo f = boost::python::extract<Foo>(obj.attr(\"get_foo\")());\n",
      "```"
     ]
    },
    {
     "cell_type": "heading",
     "level": 1,
     "metadata": {
      "slideshow": {
       "slide_type": "subslide"
      }
     },
     "source": [
      "Exceptions with Boost.Python"
     ]
    },
    {
     "cell_type": "heading",
     "level": 1,
     "metadata": {
      "slideshow": {
       "slide_type": "subslide"
      }
     },
     "source": [
      "Translating C++ exceptions into Python"
     ]
    },
    {
     "cell_type": "markdown",
     "metadata": {},
     "source": [
      "By default Boost.Python will translate C++ exceptions into a `RuntimeError` with the message \"Unidentifiable C++ exception.\""
     ]
    },
    {
     "cell_type": "markdown",
     "metadata": {
      "slideshow": {
       "slide_type": "fragment"
      }
     },
     "source": [
      "To provide better custom exception translation, you can use `boost::python::register_exception_translator()`."
     ]
    },
    {
     "cell_type": "markdown",
     "metadata": {
      "slideshow": {
       "slide_type": "fragment"
      }
     },
     "source": [
      "Read about it in the Boost.Python documentation at http://www.boost.org/doc/libs/1_41_0/libs/python/doc/v2/exception_translator.html"
     ]
    },
    {
     "cell_type": "heading",
     "level": 1,
     "metadata": {
      "slideshow": {
       "slide_type": "subslide"
      }
     },
     "source": [
      "Translating Python exceptions into C++"
     ]
    },
    {
     "cell_type": "markdown",
     "metadata": {},
     "source": [
      "Boost.Python will translate all Python exceptions into a `boost::python::error_already_set` exception."
     ]
    },
    {
     "cell_type": "markdown",
     "metadata": {
      "slideshow": {
       "slide_type": "fragment"
      }
     },
     "source": [
      "You can catch these, interrogate the Python C API exception registers, and take the appropriate action."
     ]
    },
    {
     "cell_type": "markdown",
     "metadata": {
      "slideshow": {
       "slide_type": "fragment"
      }
     },
     "source": [
      "**Handy debugging tip!** Boost.Python always throws `error_already_set` exceptions using `boost::python::throw_error_already_set()`. Setting a breakpoint here can be **very** useful when debugging exceptions."
     ]
    },
    {
     "cell_type": "heading",
     "level": 1,
     "metadata": {
      "slideshow": {
       "slide_type": "slide"
      }
     },
     "source": [
      "Build plumbing"
     ]
    },
    {
     "cell_type": "markdown",
     "metadata": {},
     "source": [
      "<img src=\"files/media/pipeline.jpg\" width=\"50%\">"
     ]
    },
    {
     "cell_type": "heading",
     "level": 2,
     "metadata": {
      "slideshow": {
       "slide_type": "subslide"
      }
     },
     "source": [
      "Compile time requirements"
     ]
    },
    {
     "cell_type": "markdown",
     "metadata": {},
     "source": [
      "You need to install the Python headers and make sure they're accessible.\n",
      "\n",
      "Likewise you'll need to be able to include the Boost headers."
     ]
    },
    {
     "cell_type": "markdown",
     "metadata": {
      "slideshow": {
       "slide_type": "fragment"
      }
     },
     "source": [
      "When including Boost.Python headers, a simple route is to simply include `boost/python.hpp`."
     ]
    },
    {
     "cell_type": "markdown",
     "metadata": {
      "slideshow": {
       "slide_type": "fragment"
      }
     },
     "source": [
      "However, this pulls in *all* of the Boost.Python headers, and this can lead to unnecessarily long compilation times. As you get used to Boost.Python, learn to use just the headers you need.\n",
      "\n",
      "For example, if you only need to use `boost::python::object`, then you can include `boost/python/object.hpp` instead of just `boost/python.hpp`.\n",
      "\n",
      "With that said, including `boost/python.hpp` is simpler and often doesn't lead to compilation problems. This is what we'll use for the rest of this course."
     ]
    },
    {
     "cell_type": "heading",
     "level": 2,
     "metadata": {
      "slideshow": {
       "slide_type": "subslide"
      }
     },
     "source": [
      "Link time requirements"
     ]
    },
    {
     "cell_type": "markdown",
     "metadata": {},
     "source": [
      "You'll need to link against both `libpython` and `libboost_python`. (The exact names will depend on your system, of course.)\n",
      "\n",
      "It is **critical** that your `libboost_python` is built against the exact version of `libpython` you link against. This can be a bit tricky to set up sometimes, though most packaged versions of Boost will just \"do the right thing.\"\n",
      "\n",
      "If you mismatch the libraries, you may experience strange link errors, crashes, etc. "
     ]
    },
    {
     "cell_type": "heading",
     "level": 1,
     "metadata": {
      "slideshow": {
       "slide_type": "slide"
      }
     },
     "source": [
      "Interlude: Notebook setup"
     ]
    },
    {
     "cell_type": "markdown",
     "metadata": {
      "slideshow": {
       "slide_type": "fragment"
      }
     },
     "source": [
      "First we need to do a little bit of setup so that the notebook knows how to deal with C++/Boost.Python code. \n",
      "\n",
      "The hardest part comes first. In the directory containing this notebook you should find a file named ``bp_magic.py``. This file contains code that tell IPython Notebook how to compile C++ code against your installation of Boost.Python.\n",
      "\n",
      "Here we load the `bp_magic` notebook extension."
     ]
    },
    {
     "cell_type": "code",
     "collapsed": false,
     "input": [
      "%reload_ext bp_magic"
     ],
     "language": "python",
     "metadata": {
      "slideshow": {
       "slide_type": "fragment"
      }
     },
     "outputs": [],
     "prompt_number": 3
    },
    {
     "cell_type": "markdown",
     "metadata": {
      "slideshow": {
       "slide_type": "fragment"
      }
     },
     "source": [
      "> *NOTE:* Right now `bp_magic.py` only works on unix-y systems with the command `g++`. It will likely require some fiddling to get \n",
      "> it working on your particular system. I'm open to any and all ideas on how to improve `bp_magic`, so let me know! "
     ]
    },
    {
     "cell_type": "markdown",
     "metadata": {
      "slideshow": {
       "slide_type": "fragment"
      }
     },
     "source": [
      "And here we verify that it works."
     ]
    },
    {
     "cell_type": "code",
     "collapsed": false,
     "input": [
      "%%bp_program cpp_verify\n",
      "\n",
      "#include<iostream>\n",
      "\n",
      "int main(int, char**)\n",
      "{\n",
      "    std::cout << \"It works!\\n\";\n",
      "    return 0;\n",
      "}"
     ],
     "language": "python",
     "metadata": {
      "slideshow": {
       "slide_type": "fragment"
      }
     },
     "outputs": [
      {
       "metadata": {},
       "output_type": "pyout",
       "prompt_number": 4,
       "text": [
        "\"['It works!']\""
       ]
      }
     ],
     "prompt_number": 4
    },
    {
     "cell_type": "heading",
     "level": 2,
     "metadata": {
      "slideshow": {
       "slide_type": "subslide"
      }
     },
     "source": [
      "Verifying that Boost.Python compiles/links"
     ]
    },
    {
     "cell_type": "markdown",
     "metadata": {
      "slideshow": {
       "slide_type": "-"
      }
     },
     "source": [
      "Now that the C++ compiler appears to be working, let's make sure that we can properly use Boost.Python. From a C++ construction point of view, this means that we can see the `boost/python.hpp` header and link to `libboost_python`. Let's check that:"
     ]
    },
    {
     "cell_type": "code",
     "collapsed": false,
     "input": [
      "%%bp_program plumbing_test\n",
      "\n",
      "#include <iostream>\n",
      "#include <boost/python.hpp>\n",
      "\n",
      "int main(int, char**) {\n",
      "    std::cout << \"Successfully linked to Boost.Python!!\\n\";\n",
      "    boost::python::object obj;\n",
      "    return 0;\n",
      "}"
     ],
     "language": "python",
     "metadata": {
      "slideshow": {
       "slide_type": "-"
      }
     },
     "outputs": [
      {
       "metadata": {},
       "output_type": "pyout",
       "prompt_number": 5,
       "text": [
        "\"['Successfully linked to Boost.Python!!']\""
       ]
      }
     ],
     "prompt_number": 5
    },
    {
     "cell_type": "heading",
     "level": 2,
     "metadata": {
      "slideshow": {
       "slide_type": "subslide"
      }
     },
     "source": [
      "Make a *smoke test* module"
     ]
    },
    {
     "cell_type": "markdown",
     "metadata": {
      "slideshow": {
       "slide_type": "-"
      }
     },
     "source": [
      "Since we can link to Boost.Python, that means we're ready to make our first module with it. We'll name this module `smoke_test` since it won't do much more than verify that it can be imported."
     ]
    },
    {
     "cell_type": "code",
     "collapsed": false,
     "input": [
      "%%bp_module smoke_test\n",
      "\n",
      "#include <boost/python.hpp>\n",
      "\n",
      "namespace bp=boost::python;\n",
      "\n",
      "int test() { return 42; }\n",
      "\n",
      "BOOST_PYTHON_MODULE(smoke_test) {\n",
      "    bp::def(\"test\", test);\n",
      "}"
     ],
     "language": "python",
     "metadata": {
      "slideshow": {
       "slide_type": "-"
      }
     },
     "outputs": [],
     "prompt_number": 6
    },
    {
     "cell_type": "heading",
     "level": 2,
     "metadata": {
      "slideshow": {
       "slide_type": "subslide"
      }
     },
     "source": [
      "Verify that the module works"
     ]
    },
    {
     "cell_type": "markdown",
     "metadata": {
      "slideshow": {
       "slide_type": "-"
      }
     },
     "source": [
      "And of course now we want to import and execute that module."
     ]
    },
    {
     "cell_type": "code",
     "collapsed": false,
     "input": [
      "import smoke_test\n",
      "smoke_test.test()"
     ],
     "language": "python",
     "metadata": {
      "slideshow": {
       "slide_type": "-"
      }
     },
     "outputs": [
      {
       "metadata": {},
       "output_type": "pyout",
       "prompt_number": 7,
       "text": [
        "42"
       ]
      }
     ],
     "prompt_number": 7
    },
    {
     "cell_type": "markdown",
     "metadata": {
      "slideshow": {
       "slide_type": "-"
      }
     },
     "source": [
      "Awesome! If you saw `42` output from the last script, then you're ready to move on to bigger things."
     ]
    },
    {
     "cell_type": "heading",
     "level": 1,
     "metadata": {
      "slideshow": {
       "slide_type": "slide"
      }
     },
     "source": [
      "Writing extension modules with Boost.Python"
     ]
    },
    {
     "cell_type": "heading",
     "level": 2,
     "metadata": {
      "slideshow": {
       "slide_type": "subslide"
      }
     },
     "source": [
      "What is an extension module?"
     ]
    },
    {
     "cell_type": "markdown",
     "metadata": {},
     "source": [
      "An extension module is a Python module written in a different language.\n",
      "\n",
      "In our case, it's a module written in C++ using Boost.Python instead of directly using the C API."
     ]
    },
    {
     "cell_type": "markdown",
     "metadata": {},
     "source": [
      "<img src=\"files/media/extension_module.png\">"
     ]
    },
    {
     "cell_type": "heading",
     "level": 2,
     "metadata": {
      "slideshow": {
       "slide_type": "subslide"
      }
     },
     "source": [
      "The `BOOST_PYTHON_MODULE` macro"
     ]
    },
    {
     "cell_type": "markdown",
     "metadata": {},
     "source": [
      "Python modules are required to expose a specific set of symbols, the naming of which are based upon the module name itself.\n",
      "\n",
      "These symbols refer to tables and structures telling Python how to make names to functions, classes, and so forth.\n",
      "\n",
      "Boost.Python goes to great lengths to make this much easier and more intuitive than the C API.\n",
      "\n",
      "A critical thing that you must do for every module is use the `BOOST_PYTHON_MODULE` macro to generate the required boilerplate. Here's how an empty module looks:"
     ]
    },
    {
     "cell_type": "code",
     "collapsed": false,
     "input": [
      "%%bp_module empty_module\n",
      "\n",
      "#include <boost/python.hpp>\n",
      "\n",
      "BOOST_PYTHON_MODULE(empty_module) {\n",
      "    // module-level symbols are defined here.\n",
      "}"
     ],
     "language": "python",
     "metadata": {},
     "outputs": [],
     "prompt_number": 8
    },
    {
     "cell_type": "markdown",
     "metadata": {},
     "source": [
      "If we import that import Python, we'll see that the module has no contents:"
     ]
    },
    {
     "cell_type": "code",
     "collapsed": false,
     "input": [
      "import empty_module\n",
      "dir(empty_module)"
     ],
     "language": "python",
     "metadata": {},
     "outputs": [
      {
       "metadata": {},
       "output_type": "pyout",
       "prompt_number": 9,
       "text": [
        "['__doc__', '__file__', '__name__', '__package__']"
       ]
      }
     ],
     "prompt_number": 9
    },
    {
     "cell_type": "heading",
     "level": 2,
     "metadata": {
      "slideshow": {
       "slide_type": "subslide"
      }
     },
     "source": [
      "The `BOOST_PYTHON_MODULE` macro: don't pass a quoted string"
     ]
    },
    {
     "cell_type": "markdown",
     "metadata": {
      "slideshow": {
       "slide_type": "-"
      }
     },
     "source": [
      "First, don't pass the module name as a string in quotes. Don't do this:\n",
      "\n",
      "    BOOST_PYTHON_MODULE(\"module_name\")  // WRONG!\n",
      "    \n",
      "but instead leave the quotes off:\n",
      "\n",
      "    BOOST_PYTHON_MODULE(module_name)    // Correct"
     ]
    },
    {
     "cell_type": "heading",
     "level": 2,
     "metadata": {
      "slideshow": {
       "slide_type": "subslide"
      }
     },
     "source": [
      "The `BOOST_PYTHON_MODULE` macro: module name must match library"
     ]
    },
    {
     "cell_type": "markdown",
     "metadata": {
      "slideshow": {
       "slide_type": "-"
      }
     },
     "source": [
      "Second, make sure that the name you use for the module matches the library name you generate. So if you use:\n",
      "\n",
      "    BOOST_PYTHON_MODULE(foobar)\n",
      "    \n",
      "then make sure that your module is named \"foobar\". \n",
      "\n",
      "This means that your library will be named `foobar.so` (or `foobar.dll` or whatever.) "
     ]
    },
    {
     "cell_type": "markdown",
     "metadata": {
      "slideshow": {
       "slide_type": "fragment"
      }
     },
     "source": [
      "Here's what happens when things don't match up."
     ]
    },
    {
     "cell_type": "code",
     "collapsed": false,
     "input": [
      "%%bp_module different_names\n",
      "\n",
      "#include <boost/python.hpp>\n",
      "\n",
      "BOOST_PYTHON_MODULE(forskjellige_navn) {}"
     ],
     "language": "python",
     "metadata": {},
     "outputs": [],
     "prompt_number": 10
    },
    {
     "cell_type": "code",
     "collapsed": false,
     "input": [
      "import different_names"
     ],
     "language": "python",
     "metadata": {},
     "outputs": [
      {
       "ename": "ImportError",
       "evalue": "dynamic module does not define init function (initdifferent_names)",
       "output_type": "pyerr",
       "traceback": [
        "\u001b[0;31m---------------------------------------------------------------------------\u001b[0m\n\u001b[0;31mImportError\u001b[0m                               Traceback (most recent call last)",
        "\u001b[0;32m<ipython-input-11-bc676b99eb20>\u001b[0m in \u001b[0;36m<module>\u001b[0;34m()\u001b[0m\n\u001b[0;32m----> 1\u001b[0;31m \u001b[0;32mimport\u001b[0m \u001b[0mdifferent_names\u001b[0m\u001b[0;34m\u001b[0m\u001b[0m\n\u001b[0m",
        "\u001b[0;31mImportError\u001b[0m: dynamic module does not define init function (initdifferent_names)"
       ]
      }
     ],
     "prompt_number": 11
    },
    {
     "cell_type": "heading",
     "level": 2,
     "metadata": {
      "slideshow": {
       "slide_type": "subslide"
      }
     },
     "source": [
      "The module is executed at import time"
     ]
    },
    {
     "cell_type": "markdown",
     "metadata": {},
     "source": [
      "Like all Python modules, the modules created with Boost.Python are imported and executed dynamically. As such, they can execute initialization and setup code as needed, a technique that can be very useful."
     ]
    },
    {
     "cell_type": "code",
     "collapsed": false,
     "input": [
      "%%bp_module module_init\n",
      "\n",
      "#include <fstream>\n",
      "#include <boost/python.hpp>\n",
      "\n",
      "void initialize() {\n",
      "    std::ofstream ofs(\"module_init.txt\");\n",
      "    ofs << \"Module has been initialized!\";\n",
      "}\n",
      "\n",
      "BOOST_PYTHON_MODULE(module_init) {\n",
      "    initialize();\n",
      "}"
     ],
     "language": "python",
     "metadata": {},
     "outputs": [],
     "prompt_number": 12
    },
    {
     "cell_type": "code",
     "collapsed": false,
     "input": [
      "import os\n",
      "\n",
      "INIT_FILE = 'module_init.txt'\n",
      "\n",
      "# Ensure and verify that the module init file doesn't exist\n",
      "if os.path.exists(INIT_FILE): \n",
      "    os.remove(INIT_FILE)\n",
      "assert not os.path.exists(INIT_FILE)\n",
      "\n",
      "# Import the module\n",
      "import module_init\n",
      "\n",
      "assert os.path.exists(INIT_FILE)"
     ],
     "language": "python",
     "metadata": {},
     "outputs": [],
     "prompt_number": 13
    },
    {
     "cell_type": "heading",
     "level": 2,
     "metadata": {
      "slideshow": {
       "slide_type": "subslide"
      }
     },
     "source": [
      "Exposing functions"
     ]
    },
    {
     "cell_type": "markdown",
     "metadata": {},
     "source": [
      "You expose function using `boost::python::def()`. Most commonly you only need to pass the Python name of the function followed by the C++ function name. \n",
      "\n",
      "`def()` must be called *inside* the module macro block to be included in the module. \n",
      "\n",
      "Note how Boost.Python automatically determines the types involved in the function signature. You normally never need to tell it about return or argument types."
     ]
    },
    {
     "cell_type": "code",
     "collapsed": false,
     "input": [
      "%%snippet\n",
      "\n",
      "int cpp_function(const std::string& x) { . . .}\n",
      "\n",
      "BOOST_PYTHON_MODULE(module_name) {\n",
      "    def(\"python_name\", cpp_function);\n",
      "}"
     ],
     "language": "python",
     "metadata": {},
     "outputs": [],
     "prompt_number": 14
    },
    {
     "cell_type": "heading",
     "level": 2,
     "metadata": {
      "slideshow": {
       "slide_type": "subslide"
      }
     },
     "source": [
      "Exposing functions: the `prime_detector` module"
     ]
    },
    {
     "cell_type": "markdown",
     "metadata": {
      "slideshow": {
       "slide_type": "-"
      }
     },
     "source": [
      "Let's define a simple prime-number detector function for our first real module:"
     ]
    },
    {
     "cell_type": "code",
     "collapsed": false,
     "input": [
      "%%bp_module prime_detector\n",
      "\n",
      "#include <cmath>\n",
      "#include <boost/python.hpp>\n",
      "\n",
      "bool isPrime(unsigned long x) {\n",
      "    if (x <= 2) return true;\n",
      "    \n",
      "    if (x % 2 == 0) return false;\n",
      "    \n",
      "    for (unsigned long div = 3; div <= sqrt(x); div += 2) {\n",
      "        if (x % div == 0) return false;\n",
      "    }\n",
      "    return true;\n",
      "}\n",
      "\n",
      "BOOST_PYTHON_MODULE(prime_detector) {\n",
      "    boost::python::def(\"is_prime\",  // The first argument is the Python name \n",
      "                       isPrime);    // The second argument is the C++ function \n",
      "                                    // you're exposing\n",
      "}"
     ],
     "language": "python",
     "metadata": {},
     "outputs": [],
     "prompt_number": 15
    },
    {
     "cell_type": "code",
     "collapsed": false,
     "input": [
      "from prime_detector import is_prime\n",
      "\n",
      "for i in range(1, 10):\n",
      "    print(i, 'prime' if is_prime(i) else 'not prime')"
     ],
     "language": "python",
     "metadata": {
      "slideshow": {
       "slide_type": "fragment"
      }
     },
     "outputs": [
      {
       "output_type": "stream",
       "stream": "stdout",
       "text": [
        "(1, 'prime')\n",
        "(2, 'prime')\n",
        "(3, 'prime')\n",
        "(4, 'not prime')\n",
        "(5, 'prime')\n",
        "(6, 'not prime')\n",
        "(7, 'prime')\n",
        "(8, 'not prime')\n",
        "(9, 'not prime')\n"
       ]
      }
     ],
     "prompt_number": 18
    },
    {
     "cell_type": "heading",
     "level": 2,
     "metadata": {
      "slideshow": {
       "slide_type": "subslide"
      }
     },
     "source": [
      "Exposing overloaded functions to Python"
     ]
    },
    {
     "cell_type": "markdown",
     "metadata": {},
     "source": [
      "For an overloaded function, `def` can't automatically figure out which overload you mean from just the name.\n",
      "\n",
      "To support overloading, you have to use function-pointer aliases so that `def` can associated Python names with the correct version of a function.\n",
      "\n",
      "Consider a set of functions that calculate volumes in 3, 4, and 5 dimensions:"
     ]
    },
    {
     "cell_type": "code",
     "collapsed": false,
     "input": [
      "%%bp_module volume_overload\n",
      "\n",
      "#include <boost/python.hpp>\n",
      "\n",
      "double volume(double a, double b, double c) { return a * b * c; }\n",
      "double volume(double a, double b, double c, double d) { return a * b * c * d; }\n",
      "double volume(double a, double b, double c, double d, double e) { return a * b * c * d * e; }\n",
      "\n",
      "double (*volume3)(double, double, double) = &volume;\n",
      "double (*volume4)(double, double, double, double) = &volume;\n",
      "double (*volume5)(double, double, double, double, double) = &volume;\n",
      "\n",
      "BOOST_PYTHON_MODULE(volume_overload) {\n",
      "    boost::python::def(\"volume\", volume3);\n",
      "    boost::python::def(\"volume\", volume4);\n",
      "    boost::python::def(\"volume\", volume5);\n",
      "}"
     ],
     "language": "python",
     "metadata": {},
     "outputs": [],
     "prompt_number": 19
    },
    {
     "cell_type": "code",
     "collapsed": false,
     "input": [
      "from volume_overload import volume\n",
      "\n",
      "print(volume(3, 7, 2))\n",
      "print(volume(6, 9, 3, 4))\n",
      "print(volume(4, 5, 6, 7, 8))"
     ],
     "language": "python",
     "metadata": {
      "slideshow": {
       "slide_type": "fragment"
      }
     },
     "outputs": [
      {
       "output_type": "stream",
       "stream": "stdout",
       "text": [
        "42.0\n",
        "648.0\n",
        "6720.0\n"
       ]
      }
     ],
     "prompt_number": 20
    },
    {
     "cell_type": "heading",
     "level": 2,
     "metadata": {
      "slideshow": {
       "slide_type": "subslide"
      }
     },
     "source": [
      "Default argument values"
     ]
    },
    {
     "cell_type": "markdown",
     "metadata": {},
     "source": [
      "An alternative - and probably simpler - way of implementing our volume calculator is with default argument value.\n",
      "\n",
      "Ultimately, there's no way for `def` to know anything about default values, so one strategy for exposing functions with default argument values is to create wrapper functions:\n",
      "\n",
      "```\n",
      "// The main function\n",
      "double volume(double a, double b, double c, double d=1, double e=1) { return a * b * c * d * e; }\n",
      "\n",
      "// Wrappers for the various arities\n",
      "double volume3(double a, double b, double c) { return volume(a, b, c); }\n",
      "double volume4(double a, double b, double c, double d) { return volume(a, b, c, d); }\n",
      "double volume5(double a, double b, double c, double d, double e) { return volume(a, b, c, d, e); }\n",
      "\n",
      "// We would now expose the three wrapper functions instead of volume().\n",
      "```"
     ]
    },
    {
     "cell_type": "markdown",
     "metadata": {
      "slideshow": {
       "slide_type": "fragment"
      }
     },
     "source": [
      "This is clearly a bit tedious and mechanical, so recent versions of Boost.Python now include the `BOOST_PYTHON_FUNCTION_OVERLOADS` macro for automating this work."
     ]
    },
    {
     "cell_type": "heading",
     "level": 2,
     "metadata": {
      "slideshow": {
       "slide_type": "subslide"
      }
     },
     "source": [
      "Default argument values: BOOST_PYTHON_FUNCTION_OVERLOADS"
     ]
    },
    {
     "cell_type": "markdown",
     "metadata": {},
     "source": [
      "`BOOST_PYTHON_FUNCTION_OVERLOADS` takes the following arguments:\n",
      "\n",
      " * The name of the overloads class to create\n",
      " * The name of the function with default argument values\n",
      " * The minimum number of arguments the function accepts\n",
      " * The maximum number of arguments the function accepts\n",
      " \n",
      "So for our volume calculator the entire modules looks something like this:"
     ]
    },
    {
     "cell_type": "code",
     "collapsed": false,
     "input": [
      "%%bp_module volume_defaults\n",
      "\n",
      "#include <boost/python.hpp>\n",
      "\n",
      "double volume(double a, double b, double c, double d=1, double e=1) { return a * b * c * d * e; }\n",
      "\n",
      "BOOST_PYTHON_FUNCTION_OVERLOADS(volume_overloads, volume, 3, 5);\n",
      "\n",
      "BOOST_PYTHON_MODULE(volume_defaults) {\n",
      "    // Notice that def() takes three arguments here.\n",
      "    boost::python::def(\"volume\", volume, volume_overloads());\n",
      "}"
     ],
     "language": "python",
     "metadata": {},
     "outputs": [],
     "prompt_number": 21
    },
    {
     "cell_type": "code",
     "collapsed": false,
     "input": [
      "from volume_defaults import volume\n",
      "\n",
      "print(volume(1, 1, 2))\n",
      "print(volume(3, 5, 8, 13))\n",
      "print(volume(21, 34, 55, 89, 144))"
     ],
     "language": "python",
     "metadata": {
      "slideshow": {
       "slide_type": "fragment"
      }
     },
     "outputs": [
      {
       "output_type": "stream",
       "stream": "stdout",
       "text": [
        "2.0\n",
        "1560.0\n",
        "503284320.0\n"
       ]
      }
     ],
     "prompt_number": 22
    },
    {
     "cell_type": "markdown",
     "metadata": {
      "slideshow": {
       "slide_type": "fragment"
      }
     },
     "source": [
      "And of course the Python function requires a minimum number of arguments:"
     ]
    },
    {
     "cell_type": "code",
     "collapsed": false,
     "input": [
      "print(volume(3, 5))\n"
     ],
     "language": "python",
     "metadata": {
      "slideshow": {
       "slide_type": "fragment"
      }
     },
     "outputs": [
      {
       "ename": "ArgumentError",
       "evalue": "Python argument types in\n    volume_defaults.volume(int, int)\ndid not match C++ signature:\n    volume(double, double, double)\n    volume(double, double, double, double)\n    volume(double, double, double, double, double)",
       "output_type": "pyerr",
       "traceback": [
        "\u001b[0;31m---------------------------------------------------------------------------\u001b[0m\n\u001b[0;31mArgumentError\u001b[0m                             Traceback (most recent call last)",
        "\u001b[0;32m<ipython-input-23-305488c4906f>\u001b[0m in \u001b[0;36m<module>\u001b[0;34m()\u001b[0m\n\u001b[0;32m----> 1\u001b[0;31m \u001b[0;32mprint\u001b[0m\u001b[0;34m(\u001b[0m\u001b[0mvolume\u001b[0m\u001b[0;34m(\u001b[0m\u001b[0;36m3\u001b[0m\u001b[0;34m,\u001b[0m \u001b[0;36m5\u001b[0m\u001b[0;34m)\u001b[0m\u001b[0;34m)\u001b[0m\u001b[0;34m\u001b[0m\u001b[0m\n\u001b[0m",
        "\u001b[0;31mArgumentError\u001b[0m: Python argument types in\n    volume_defaults.volume(int, int)\ndid not match C++ signature:\n    volume(double, double, double)\n    volume(double, double, double, double)\n    volume(double, double, double, double, double)"
       ]
      }
     ],
     "prompt_number": 23
    },
    {
     "cell_type": "markdown",
     "metadata": {
      "slideshow": {
       "slide_type": "fragment"
      }
     },
     "source": [
      "and a maximum:"
     ]
    },
    {
     "cell_type": "code",
     "collapsed": false,
     "input": [
      "print(volume(1, 2, 3, 4, 5, 6))\n"
     ],
     "language": "python",
     "metadata": {
      "slideshow": {
       "slide_type": "fragment"
      }
     },
     "outputs": [
      {
       "ename": "ArgumentError",
       "evalue": "Python argument types in\n    volume_defaults.volume(int, int, int, int, int, int)\ndid not match C++ signature:\n    volume(double, double, double)\n    volume(double, double, double, double)\n    volume(double, double, double, double, double)",
       "output_type": "pyerr",
       "traceback": [
        "\u001b[0;31m---------------------------------------------------------------------------\u001b[0m\n\u001b[0;31mArgumentError\u001b[0m                             Traceback (most recent call last)",
        "\u001b[0;32m<ipython-input-24-b8b8f12ec77c>\u001b[0m in \u001b[0;36m<module>\u001b[0;34m()\u001b[0m\n\u001b[0;32m----> 1\u001b[0;31m \u001b[0;32mprint\u001b[0m\u001b[0;34m(\u001b[0m\u001b[0mvolume\u001b[0m\u001b[0;34m(\u001b[0m\u001b[0;36m1\u001b[0m\u001b[0;34m,\u001b[0m \u001b[0;36m2\u001b[0m\u001b[0;34m,\u001b[0m \u001b[0;36m3\u001b[0m\u001b[0;34m,\u001b[0m \u001b[0;36m4\u001b[0m\u001b[0;34m,\u001b[0m \u001b[0;36m5\u001b[0m\u001b[0;34m,\u001b[0m \u001b[0;36m6\u001b[0m\u001b[0;34m)\u001b[0m\u001b[0;34m)\u001b[0m\u001b[0;34m\u001b[0m\u001b[0m\n\u001b[0m",
        "\u001b[0;31mArgumentError\u001b[0m: Python argument types in\n    volume_defaults.volume(int, int, int, int, int, int)\ndid not match C++ signature:\n    volume(double, double, double)\n    volume(double, double, double, double)\n    volume(double, double, double, double, double)"
       ]
      }
     ],
     "prompt_number": 24
    },
    {
     "cell_type": "heading",
     "level": 2,
     "metadata": {
      "slideshow": {
       "slide_type": "subslide"
      }
     },
     "source": [
      "Call policies"
     ]
    },
    {
     "cell_type": "markdown",
     "metadata": {},
     "source": [
      "Because C++ can work at very low level with direct references and pointers, it is possible to create situations where Boost.Python can't determine lifetime relationships between objects.\n",
      "\n",
      "To address this problem, Boost.Python has a notion of *call policies* that allow you to explicitly declare lifetime relationships that would otherwise be obscure."
     ]
    },
    {
     "cell_type": "markdown",
     "metadata": {
      "slideshow": {
       "slide_type": "fragment"
      }
     },
     "source": [
      "Consider the following (admittedly silly) code:\n",
      "\n"
     ]
    },
    {
     "cell_type": "code",
     "collapsed": false,
     "input": [
      "%%snippet\n",
      "\n",
      "class Peach {\n",
      "public:\n",
      "    Pit& pit() { return pit_; }\n",
      "    \n",
      "private:\n",
      "    Pit pit_;\n",
      "};"
     ],
     "language": "python",
     "metadata": {
      "slideshow": {
       "slide_type": "fragment"
      }
     },
     "outputs": [],
     "prompt_number": 25
    },
    {
     "cell_type": "markdown",
     "metadata": {
      "slideshow": {
       "slide_type": "fragment"
      }
     },
     "source": [
      "We haven't yet talked about how to move `Peach` instances between Python and C++, but assume that we had that ability. \n",
      "\n",
      "We would then have problems with code like this:"
     ]
    },
    {
     "cell_type": "code",
     "collapsed": false,
     "input": [
      "%%snippet\n",
      "\n",
      "peach = create_peach() # peach refers to a Peach instance\n",
      "pit = peach.pit()      # pit refers to the Pit instance inside peach\n",
      "del peach              # We've now potentially lost all references to the Peach instance\n",
      "print(pit)             # Uh oh! pit is probably referring to deallocated memory!"
     ],
     "language": "python",
     "metadata": {
      "slideshow": {
       "slide_type": "fragment"
      }
     },
     "outputs": [],
     "prompt_number": 26
    },
    {
     "cell_type": "heading",
     "level": 2,
     "metadata": {
      "slideshow": {
       "slide_type": "subslide"
      }
     },
     "source": [
      "Call policies: the available options"
     ]
    },
    {
     "cell_type": "markdown",
     "metadata": {},
     "source": [
      "The available call policies are:\n",
      "\n",
      " * `with_custodian_and_ward`\n",
      " * `with_custodian_and_ward_postcall`\n",
      " * `return_internal_reference`\n",
      " * `return_value_policy<T>` where T is one of:\n",
      "   * `reference_existing_object`\n",
      "   * `copy_const_reference`\n",
      "   * `copy_non_const_reference`\n",
      "   * `manage_new_object`\n",
      "   \n",
      "Full detail can be found at [the Boost.Python function documentation](http://www.boost.org/doc/libs/1_55_0/libs/python/doc/tutorial/doc/html/python/functions.html) and [the Boost.Python reference documentation](http://www.boost.org/doc/libs/1_55_0/libs/python/doc/v2/reference.html#models_of_call_policies).\n"
     ]
    },
    {
     "cell_type": "heading",
     "level": 1,
     "metadata": {
      "slideshow": {
       "slide_type": "subslide"
      }
     },
     "source": [
      "A note on notation"
     ]
    },
    {
     "cell_type": "markdown",
     "metadata": {},
     "source": [
      "In some code samples the shortened namespace `bp` will sometimes be used instead of `boost::python`. In these cases the code is written as if\n",
      "\n",
      "`namespace bp=boost::python`\n",
      "\n",
      "preceded the sample."
     ]
    },
    {
     "cell_type": "heading",
     "level": 1,
     "metadata": {
      "slideshow": {
       "slide_type": "subslide"
      }
     },
     "source": [
      "Exposing classes"
     ]
    },
    {
     "cell_type": "markdown",
     "metadata": {},
     "source": [
      "Just like we use the `def` function to expose functions to Python, Boost.Python provides the `class_<>` template for exposing classes. \n",
      "\n",
      "The basic form for wrapping a class is `class_<ClassToBeWrapped>(\"PythonClassName\")`. For example:"
     ]
    },
    {
     "cell_type": "code",
     "collapsed": false,
     "input": [
      "%%bp_module matrix1\n",
      "\n",
      "#include <boost/python.hpp>\n",
      "\n",
      "namespace matrix1 {\n",
      "                   \n",
      "class Matrix {};\n",
      "\n",
      "}\n",
      "\n",
      "BOOST_PYTHON_MODULE(matrix1) {\n",
      "    using namespace matrix1;\n",
      "    \n",
      "    boost::python::class_<Matrix>(\"Matrix\");\n",
      "}"
     ],
     "language": "python",
     "metadata": {},
     "outputs": [],
     "prompt_number": 27
    },
    {
     "cell_type": "markdown",
     "metadata": {},
     "source": [
      "> *Note on implementation details:* The reason we need to use different names and namespaces - e.g. \"matrix1\" - throughout these example is because of how IPython, Python, and Boost.Python all interact. Don't get confused by these details. What's important to focus on is the evolution of the `Matrix` class and the module definition."
     ]
    },
    {
     "cell_type": "markdown",
     "metadata": {
      "slideshow": {
       "slide_type": "fragment"
      }
     },
     "source": [
      "With this, you can import your module and create new `Matrix` objects in Python:\n"
     ]
    },
    {
     "cell_type": "code",
     "collapsed": false,
     "input": [
      "from matrix1 import Matrix\n",
      "\n",
      "print(Matrix)\n",
      "\n",
      "m = Matrix()\n",
      "print(type(m))\n",
      "print(dir(m))"
     ],
     "language": "python",
     "metadata": {
      "slideshow": {
       "slide_type": "fragment"
      }
     },
     "outputs": [
      {
       "output_type": "stream",
       "stream": "stdout",
       "text": [
        "<class 'matrix1.Matrix'>\n",
        "<class 'matrix1.Matrix'>\n",
        "['__class__', '__delattr__', '__dict__', '__doc__', '__format__', '__getattribute__', '__hash__', '__init__', '__instance_size__', '__module__', '__new__', '__reduce__', '__reduce_ex__', '__repr__', '__setattr__', '__sizeof__', '__str__', '__subclasshook__', '__weakref__']\n"
       ]
      }
     ],
     "prompt_number": 28
    },
    {
     "cell_type": "heading",
     "level": 2,
     "metadata": {
      "slideshow": {
       "slide_type": "subslide"
      }
     },
     "source": [
      "Member functions"
     ]
    },
    {
     "cell_type": "markdown",
     "metadata": {},
     "source": [
      "Exposing empty classes is not that interesting, and of course Boost.Python provides a way to expose member functions.\n",
      "\n",
      "Like normal functions, you use a function called `def()` to expose member functions. This version of `def()` is a member of the value returned by `class_<>`.\n",
      "\n",
      "First let's update our class with some member functions for accessing the size of the `Matrix`:"
     ]
    },
    {
     "cell_type": "code",
     "collapsed": false,
     "input": [
      "%%bp_module matrix2\n",
      "\n",
      "#include <boost/python.hpp>\n",
      "\n",
      "namespace matrix2 {\n",
      "\n",
      "class Matrix {\n",
      "public:\n",
      "    Matrix() : size_x_(0), size_y_(0) {}\n",
      "    unsigned int size_x() const { return size_x_; }\n",
      "    unsigned int size_y() const { return size_y_; }\n",
      "    \n",
      "private:\n",
      "    unsigned int size_x_;\n",
      "    unsigned int size_y_;\n",
      "};\n",
      "\n",
      "}\n",
      "\n",
      "BOOST_PYTHON_MODULE(matrix2) {\n",
      "    using namespace matrix2;\n",
      "    boost::python::class_<Matrix>(\"Matrix\")\n",
      "        .def(\"size_x\", &Matrix::size_x)\n",
      "        .def(\"size_y\", &Matrix::size_y)\n",
      "        ;\n",
      "}"
     ],
     "language": "python",
     "metadata": {},
     "outputs": [],
     "prompt_number": 29
    },
    {
     "cell_type": "markdown",
     "metadata": {
      "slideshow": {
       "slide_type": "fragment"
      }
     },
     "source": [
      "It's still not much of a matrix implementation, but it's getting there. We can see that it works in Python:"
     ]
    },
    {
     "cell_type": "code",
     "collapsed": false,
     "input": [
      "from matrix2 import Matrix\n",
      "\n",
      "m = Matrix()\n",
      "print(m.size_x())\n",
      "print(m.size_y())"
     ],
     "language": "python",
     "metadata": {
      "slideshow": {
       "slide_type": "fragment"
      }
     },
     "outputs": [
      {
       "output_type": "stream",
       "stream": "stdout",
       "text": [
        "0\n",
        "0\n"
       ]
      }
     ],
     "prompt_number": 30
    },
    {
     "cell_type": "heading",
     "level": 1,
     "metadata": {
      "slideshow": {
       "slide_type": "subslide"
      }
     },
     "source": [
      "Constructors"
     ]
    },
    {
     "cell_type": "markdown",
     "metadata": {},
     "source": [
      "An obvious shortcoming of our Matrix implementation so far is that you can only have zero-sized matrices. To allow users to create matrices with positive size, we need to add a constructor to the Matrix class.\n",
      "\n",
      "With Boost.Python you use the `init<>` class to define constructors. `init<>` takes any number (really, up to a practical limit) of template arguments specifying the types of arguments to the constructor.\n",
      "\n",
      "For your class's first constructor, you pass the `init<>` as the second argument of the `class_<>` constructor. For any subsequent constructors, you can call `def()` with `init<>` instances."
     ]
    },
    {
     "cell_type": "markdown",
     "metadata": {
      "slideshow": {
       "slide_type": "fragment"
      }
     },
     "source": [
      "Let's add some proper constructors to our Matrix to see how this works:"
     ]
    },
    {
     "cell_type": "code",
     "collapsed": false,
     "input": [
      "%%bp_module matrix3\n",
      "\n",
      "#include <boost/python.hpp>\n",
      "\n",
      "namespace matrix3 {\n",
      " \n",
      "class Matrix {\n",
      "public:\n",
      "    Matrix(const Matrix& m) : size_x_ (m.size_x()), size_y_(m.size_y()) {}\n",
      "    Matrix(unsigned int x, unsigned int y) : size_x_(x), size_y_(y) {}\n",
      "    unsigned int size_x() const { return size_x_; }\n",
      "    unsigned int size_y() const { return size_y_; }\n",
      "              \n",
      "private:\n",
      "    unsigned int size_x_;\n",
      "    unsigned int size_y_;\n",
      "};\n",
      " \n",
      "}\n",
      "\n",
      "BOOST_PYTHON_MODULE(matrix3) {\n",
      "    using namespace matrix3;\n",
      "    namespace bp=boost::python;\n",
      "    \n",
      "    boost::python::class_<Matrix>(\"Matrix\", bp::init<unsigned int, unsigned int>())\n",
      "        .def(bp::init<const Matrix&>())\n",
      "        .def(\"size_x\", &Matrix::size_x)\n",
      "        .def(\"size_y\", &Matrix::size_y)\n",
      "        ;\n",
      "}"
     ],
     "language": "python",
     "metadata": {
      "slideshow": {
       "slide_type": "fragment"
      }
     },
     "outputs": [],
     "prompt_number": 31
    },
    {
     "cell_type": "markdown",
     "metadata": {
      "slideshow": {
       "slide_type": "fragment"
      }
     },
     "source": [
      "We can see that the two-argument constructor works as expected:"
     ]
    },
    {
     "cell_type": "code",
     "collapsed": false,
     "input": [
      "from matrix3 import Matrix\n",
      "\n",
      "m = Matrix(123, 456)\n",
      "print(m.size_x())\n",
      "print(m.size_y())"
     ],
     "language": "python",
     "metadata": {
      "slideshow": {
       "slide_type": "fragment"
      }
     },
     "outputs": [
      {
       "output_type": "stream",
       "stream": "stdout",
       "text": [
        "123\n",
        "456\n"
       ]
      }
     ],
     "prompt_number": 32
    },
    {
     "cell_type": "markdown",
     "metadata": {
      "slideshow": {
       "slide_type": "fragment"
      }
     },
     "source": [
      "and that the copy constructor version works as well:"
     ]
    },
    {
     "cell_type": "code",
     "collapsed": false,
     "input": [
      "m2 = Matrix(m)\n",
      "print(m2.size_x(), m2.size_y())"
     ],
     "language": "python",
     "metadata": {
      "slideshow": {
       "slide_type": "fragment"
      }
     },
     "outputs": [
      {
       "output_type": "stream",
       "stream": "stdout",
       "text": [
        "(123, 456)\n"
       ]
      }
     ],
     "prompt_number": 33
    },
    {
     "cell_type": "heading",
     "level": 1,
     "metadata": {
      "slideshow": {
       "slide_type": "subslide"
      }
     },
     "source": [
      "Data members"
     ]
    },
    {
     "cell_type": "markdown",
     "metadata": {},
     "source": [
      "Boost.Python also allows you to expose C++ data members.\n",
      "\n",
      "Use the `def_readonly` and `def_readwrite` functions of `class_<>` to add read-only and read-write data members, respectively.\n",
      "\n",
      "There's no great reason to add public data members to our `Matrix` class, so we're going to leave that example for now and create a different class to demonstrate data members:"
     ]
    },
    {
     "cell_type": "code",
     "collapsed": false,
     "input": [
      "%%bp_module data_members\n",
      "\n",
      "#include <boost/python.hpp>\n",
      "#include <string>\n",
      "\n",
      "namespace data_members {\n",
      "    \n",
      "struct Identifiable {\n",
      "    Identifiable(const int id,\n",
      "                 const std::string& name) : id_(id), name_(name) {}\n",
      "    const int id_;\n",
      "    std::string name_;\n",
      "};\n",
      "\n",
      "}\n",
      "\n",
      "BOOST_PYTHON_MODULE(data_members) {\n",
      "    using namespace data_members;\n",
      "    namespace bp=boost::python;\n",
      "    \n",
      "    bp::class_<Identifiable>(\"Identifiable\", bp::init<int, const std::string&>())\n",
      "        .def_readonly(\"id\", &Identifiable::id_)\n",
      "        .def_readwrite(\"name\", &Identifiable::name_)\n",
      "        ;\n",
      "}"
     ],
     "language": "python",
     "metadata": {},
     "outputs": [],
     "prompt_number": 34
    },
    {
     "cell_type": "markdown",
     "metadata": {
      "slideshow": {
       "slide_type": "fragment"
      }
     },
     "source": [
      "In Python we can see that these data members are exposed as we expect:"
     ]
    },
    {
     "cell_type": "code",
     "collapsed": false,
     "input": [
      "from data_members import Identifiable\n",
      "\n",
      "i = Identifiable(4, \"Fred\")\n",
      "print(i.id, i.name)"
     ],
     "language": "python",
     "metadata": {
      "slideshow": {
       "slide_type": "fragment"
      }
     },
     "outputs": [
      {
       "output_type": "stream",
       "stream": "stdout",
       "text": [
        "(4, 'Fred')\n"
       ]
      }
     ],
     "prompt_number": 35
    },
    {
     "cell_type": "markdown",
     "metadata": {
      "slideshow": {
       "slide_type": "fragment"
      }
     },
     "source": [
      "We can edit the `name` field:"
     ]
    },
    {
     "cell_type": "code",
     "collapsed": false,
     "input": [
      "i.name = \"Fredrick\"\n",
      "print(i.id, i.name)"
     ],
     "language": "python",
     "metadata": {
      "slideshow": {
       "slide_type": "fragment"
      }
     },
     "outputs": [
      {
       "output_type": "stream",
       "stream": "stdout",
       "text": [
        "(4, 'Fredrick')\n"
       ]
      }
     ],
     "prompt_number": 36
    },
    {
     "cell_type": "markdown",
     "metadata": {
      "slideshow": {
       "slide_type": "fragment"
      }
     },
     "source": [
      "but not the id:"
     ]
    },
    {
     "cell_type": "code",
     "collapsed": false,
     "input": [
      "i.id = 1234"
     ],
     "language": "python",
     "metadata": {
      "slideshow": {
       "slide_type": "fragment"
      }
     },
     "outputs": [
      {
       "ename": "AttributeError",
       "evalue": "can't set attribute",
       "output_type": "pyerr",
       "traceback": [
        "\u001b[0;31m---------------------------------------------------------------------------\u001b[0m\n\u001b[0;31mAttributeError\u001b[0m                            Traceback (most recent call last)",
        "\u001b[0;32m<ipython-input-37-fabc4c2fa401>\u001b[0m in \u001b[0;36m<module>\u001b[0;34m()\u001b[0m\n\u001b[0;32m----> 1\u001b[0;31m \u001b[0mi\u001b[0m\u001b[0;34m.\u001b[0m\u001b[0mid\u001b[0m \u001b[0;34m=\u001b[0m \u001b[0;36m1234\u001b[0m\u001b[0;34m\u001b[0m\u001b[0m\n\u001b[0m",
        "\u001b[0;31mAttributeError\u001b[0m: can't set attribute"
       ]
      }
     ],
     "prompt_number": 37
    },
    {
     "cell_type": "heading",
     "level": 1,
     "metadata": {
      "slideshow": {
       "slide_type": "subslide"
      }
     },
     "source": [
      "Inheritance"
     ]
    },
    {
     "cell_type": "markdown",
     "metadata": {},
     "source": [
      "Boost.Python allows you specify inheritance relationships between your C++ classes when exposing them to Python.\n",
      "\n",
      "When you do this, the Python classes for derived C++ classes get all of the base Python class's attributes.\n",
      "\n",
      "You express inheritance in Boost.Python by passing a `bases<>` template instantiation as the second template parameter to the `class_<>` template, like this:\n",
      "\n",
      "```\n",
      "class_<SomeClass, bases<BaseClass> >( . . .);\n",
      "```"
     ]
    },
    {
     "cell_type": "markdown",
     "metadata": {
      "slideshow": {
       "slide_type": "fragment"
      }
     },
     "source": [
      "To demonstrate this, let's derive our Matrix class from Identifiable (with some modification for readability):"
     ]
    },
    {
     "cell_type": "code",
     "collapsed": false,
     "input": [
      "%%bp_module matrix4\n",
      "\n",
      "#include <boost/python.hpp>\n",
      "#include <string>\n",
      "\n",
      "namespace matrix4 {\n",
      "    \n",
      "struct Identifiable {\n",
      "    Identifiable(const int id,\n",
      "                 const std::string& name) : id_(id), name_(name) {}\n",
      "    const int id_;\n",
      "    std::string name_;\n",
      "};\n",
      "\n",
      "class Matrix : public Identifiable {\n",
      "public:\n",
      "    Matrix(unsigned int x, \n",
      "           unsigned int y, \n",
      "           int id, \n",
      "           const std::string& name) : Identifiable(id, name),\n",
      "                                               size_x_(x), \n",
      "                                               size_y_(y) {}\n",
      "    unsigned int size_x() const { return size_x_; }\n",
      "    unsigned int size_y() const { return size_y_; }\n",
      "              \n",
      "private:\n",
      "    unsigned int size_x_;\n",
      "    unsigned int size_y_;\n",
      "};\n",
      "\n",
      "}\n",
      "\n",
      "BOOST_PYTHON_MODULE(matrix4) {\n",
      "    using namespace matrix4;\n",
      "    namespace bp=boost::python;\n",
      "    \n",
      "    bp::class_<Identifiable>(\"Identifiable\", bp::init<int, const std::string&>())\n",
      "        .def_readonly(\"id\", &Identifiable::id_)\n",
      "        .def_readwrite(\"name\", &Identifiable::name_)\n",
      "        ;\n",
      "        \n",
      "    bp::class_<Matrix, bp::bases<Identifiable> >(\"Matrix\", \n",
      "                                                 bp::init<unsigned int, \n",
      "                                                          unsigned int, \n",
      "                                                          int, \n",
      "                                                          const std::string&>())\n",
      "        .def(\"size_x\", &Matrix::size_x)\n",
      "        .def(\"size_y\", &Matrix::size_y)\n",
      "        ;\n",
      "}"
     ],
     "language": "python",
     "metadata": {
      "slideshow": {
       "slide_type": "fragment"
      }
     },
     "outputs": [],
     "prompt_number": 38
    },
    {
     "cell_type": "markdown",
     "metadata": {
      "slideshow": {
       "slide_type": "fragment"
      }
     },
     "source": [
      "Now if we create a Matrix in Python, we can see that it has all of the attribute of an Identifiable:"
     ]
    },
    {
     "cell_type": "code",
     "collapsed": false,
     "input": [
      "from matrix4 import Matrix\n",
      "\n",
      "m = Matrix(100, 200, 5, \"important data\")\n",
      "print(m.size_x(), m.size_y())\n",
      "print(m.id, m.name)"
     ],
     "language": "python",
     "metadata": {
      "slideshow": {
       "slide_type": "fragment"
      }
     },
     "outputs": [
      {
       "output_type": "stream",
       "stream": "stdout",
       "text": [
        "(100, 200)\n",
        "(5, 'important data')\n"
       ]
      }
     ],
     "prompt_number": 39
    },
    {
     "cell_type": "heading",
     "level": 1,
     "metadata": {
      "slideshow": {
       "slide_type": "subslide"
      }
     },
     "source": [
      "Properties"
     ]
    },
    {
     "cell_type": "markdown",
     "metadata": {},
     "source": [
      "Let's look at how we can make our Python APIs a bit more Pythonic with *properties*.\n",
      "\n",
      "Properties don't have a real analogue in C++, but Boost.Python provides the `add_property()` function for adding properties which are backed by C++ functions.\n",
      "\n",
      "`add_property()` takes the property's names as its first argument. The second argument is the function which *gets* the property value, and the optional third argument is the *setter* function."
     ]
    },
    {
     "cell_type": "markdown",
     "metadata": {
      "slideshow": {
       "slide_type": "fragment"
      }
     },
     "source": [
      "Let's update Identifiable to use properties rather than functions for its attributes:"
     ]
    },
    {
     "cell_type": "code",
     "collapsed": false,
     "input": [
      "%%bp_module properties\n",
      "\n",
      "#include <boost/python.hpp>\n",
      "#include <string>\n",
      "\n",
      "namespace properties {\n",
      "\n",
      "class Identifiable {\n",
      "public:\n",
      "    Identifiable(int id, const std::string& name) : id_(id), name_(name) {}\n",
      "    int id() const { return id_; }\n",
      "    \n",
      "    std::string name() const { return name_; }\n",
      "    void set_name(const std::string& name) { name_ = name; }\n",
      "                    \n",
      "private:\n",
      "    const int id_;\n",
      "    std::string name_;\n",
      "};\n",
      "                      \n",
      "}\n",
      "\n",
      "BOOST_PYTHON_MODULE(properties) {\n",
      "    using namespace properties;\n",
      "    namespace bp=boost::python;\n",
      "    \n",
      "    bp::class_<Identifiable>(\"Identifiable\", bp::init<int, const std::string&>())\n",
      "        .add_property(\"id\", &Identifiable::id)\n",
      "        .add_property(\"name\", &Identifiable::name, &Identifiable::set_name)\n",
      "        ;\n",
      "}"
     ],
     "language": "python",
     "metadata": {
      "slideshow": {
       "slide_type": "fragment"
      }
     },
     "outputs": [],
     "prompt_number": 40
    },
    {
     "cell_type": "markdown",
     "metadata": {
      "slideshow": {
       "slide_type": "fragment"
      }
     },
     "source": [
      "This is probably a better design in C++ than the original struct. And we can still have the nice, property-oriented Python API we want:"
     ]
    },
    {
     "cell_type": "code",
     "collapsed": false,
     "input": [
      "from properties import Identifiable\n",
      "\n",
      "i = Identifiable(96, \"Johnny Allen\")\n",
      "print(i.id, i.name)"
     ],
     "language": "python",
     "metadata": {
      "slideshow": {
       "slide_type": "fragment"
      }
     },
     "outputs": [
      {
       "output_type": "stream",
       "stream": "stdout",
       "text": [
        "(96, 'Johnny Allen')\n"
       ]
      }
     ],
     "prompt_number": 41
    },
    {
     "cell_type": "code",
     "collapsed": false,
     "input": [
      "i.name = \"James Marshall\"\n",
      "print(i.id, i.name)"
     ],
     "language": "python",
     "metadata": {
      "slideshow": {
       "slide_type": "fragment"
      }
     },
     "outputs": [
      {
       "output_type": "stream",
       "stream": "stdout",
       "text": [
        "(96, 'James Marshall')\n"
       ]
      }
     ],
     "prompt_number": 42
    },
    {
     "cell_type": "code",
     "collapsed": false,
     "input": [
      "i.id = 13"
     ],
     "language": "python",
     "metadata": {
      "slideshow": {
       "slide_type": "fragment"
      }
     },
     "outputs": [
      {
       "ename": "AttributeError",
       "evalue": "can't set attribute",
       "output_type": "pyerr",
       "traceback": [
        "\u001b[0;31m---------------------------------------------------------------------------\u001b[0m\n\u001b[0;31mAttributeError\u001b[0m                            Traceback (most recent call last)",
        "\u001b[0;32m<ipython-input-43-400e286b83a0>\u001b[0m in \u001b[0;36m<module>\u001b[0;34m()\u001b[0m\n\u001b[0;32m----> 1\u001b[0;31m \u001b[0mi\u001b[0m\u001b[0;34m.\u001b[0m\u001b[0mid\u001b[0m \u001b[0;34m=\u001b[0m \u001b[0;36m13\u001b[0m\u001b[0;34m\u001b[0m\u001b[0m\n\u001b[0m",
        "\u001b[0;31mAttributeError\u001b[0m: can't set attribute"
       ]
      }
     ],
     "prompt_number": 43
    },
    {
     "cell_type": "heading",
     "level": 2,
     "metadata": {
      "slideshow": {
       "slide_type": "subslide"
      }
     },
     "source": [
      "Passing instances back into C++"
     ]
    },
    {
     "cell_type": "markdown",
     "metadata": {},
     "source": [
      "Once you've created Python wrapper for a C++ class, what you can you do with it? We've seen that you can instantiate the classes in Python, and often that's all you really need to do.\n",
      "\n",
      "On top of that, you can also pass these objects across the Python/C++ boundary seamlessly. A C++ function can return an exposed class into Python, and it can accept wrapped classes from Python.\n",
      "\n",
      "Let's see how that work:"
     ]
    },
    {
     "cell_type": "code",
     "collapsed": false,
     "input": [
      "%%bp_module matrix5\n",
      "\n",
      "#include <boost/python.hpp>\n",
      "\n",
      "namespace matrix5 {\n",
      "\n",
      "class Matrix {\n",
      "public:\n",
      "    Matrix(unsigned int x, \n",
      "           unsigned int y) : size_x_(x), \n",
      "                             size_y_(y) {}\n",
      "    unsigned int size_x() const { return size_x_; }\n",
      "    unsigned int size_y() const { return size_y_; }\n",
      "              \n",
      "private:\n",
      "    unsigned int size_x_;\n",
      "    unsigned int size_y_;\n",
      "};\n",
      "\n",
      "Matrix make_square_matrix(unsigned int size) { return Matrix(size, size); }\n",
      "\n",
      "bool is_square(const Matrix& m) { return m.size_x() == m.size_y(); }\n",
      "\n",
      "}\n",
      "\n",
      "BOOST_PYTHON_MODULE(matrix5) {\n",
      "    using namespace matrix5;\n",
      "    namespace bp=boost::python;\n",
      "        \n",
      "    bp::class_<Matrix>(\"Matrix\", \n",
      "                       bp::init<unsigned int, unsigned int>())\n",
      "        .add_property(\"size_x\", &Matrix::size_x)\n",
      "        .add_property(\"size_y\", &Matrix::size_y)\n",
      "        ;\n",
      "        \n",
      "    bp::def(\"make_square_matrix\", make_square_matrix);\n",
      "    bp::def(\"is_square\", is_square);\n",
      "}"
     ],
     "language": "python",
     "metadata": {
      "slideshow": {
       "slide_type": "fragment"
      }
     },
     "outputs": [],
     "prompt_number": 44
    },
    {
     "cell_type": "code",
     "collapsed": false,
     "input": [
      "from matrix5 import *\n",
      "\n",
      "m = make_square_matrix(10)\n",
      "print(m, m.size_x, m.size_y)\n",
      "\n",
      "print('square?', is_square(m))"
     ],
     "language": "python",
     "metadata": {
      "slideshow": {
       "slide_type": "fragment"
      }
     },
     "outputs": [
      {
       "output_type": "stream",
       "stream": "stdout",
       "text": [
        "(<matrix5.Matrix object at 0x101da9de0>, 10, 10)\n",
        "('square?', True)\n"
       ]
      }
     ],
     "prompt_number": 45
    },
    {
     "cell_type": "heading",
     "level": 2,
     "metadata": {
      "slideshow": {
       "slide_type": "subslide"
      }
     },
     "source": [
      "This is awesome!"
     ]
    },
    {
     "cell_type": "markdown",
     "metadata": {
      "slideshow": {
       "slide_type": "fragment"
      }
     },
     "source": [
      "At this point you've got a great many useful tools as your disposal. \n",
      "\n",
      "You can easily - almost trivially - expose C++ functions and classes to Python.\n",
      "\n",
      "You can pass wrapped classes back and forth across the Python/C++ boundary.\n",
      "\n",
      "You can define Python APIs straight from C++.\n",
      "\n",
      "You can express all of this in ways that don't obscure your intent."
     ]
    },
    {
     "cell_type": "heading",
     "level": 2,
     "metadata": {
      "slideshow": {
       "slide_type": "subslide"
      }
     },
     "source": [
      "C++ exceptions"
     ]
    },
    {
     "cell_type": "markdown",
     "metadata": {},
     "source": [
      "The Python and C++ exception models are conceptually similar, but their implementations are entirely different.\n",
      "\n",
      "When exceptions come from C++ to the Python/C++ interface, they need to be translated from the C++ model to Python. \n",
      "\n",
      "By default, Boost.Python will translate any C++ exceptions into `RuntimeErrors` in Python."
     ]
    },
    {
     "cell_type": "code",
     "collapsed": false,
     "input": [
      "%%bp_module default_exception\n",
      "\n",
      "#include <boost/python.hpp>\n",
      "\n",
      "class MyException : public std::exception {};\n",
      "\n",
      "void throw_exception() { throw MyException(); }\n",
      "\n",
      "BOOST_PYTHON_MODULE(default_exception) {\n",
      "    boost::python::def(\"throw_exception\", throw_exception);\n",
      "}"
     ],
     "language": "python",
     "metadata": {
      "slideshow": {
       "slide_type": "fragment"
      }
     },
     "outputs": [],
     "prompt_number": 46
    },
    {
     "cell_type": "code",
     "collapsed": false,
     "input": [
      "from default_exception import throw_exception\n",
      "\n",
      "throw_exception()"
     ],
     "language": "python",
     "metadata": {
      "slideshow": {
       "slide_type": "fragment"
      }
     },
     "outputs": [
      {
       "ename": "RuntimeError",
       "evalue": "std::exception",
       "output_type": "pyerr",
       "traceback": [
        "\u001b[0;31m---------------------------------------------------------------------------\u001b[0m\n\u001b[0;31mRuntimeError\u001b[0m                              Traceback (most recent call last)",
        "\u001b[0;32m<ipython-input-47-ff0c51f0c2a3>\u001b[0m in \u001b[0;36m<module>\u001b[0;34m()\u001b[0m\n\u001b[1;32m      1\u001b[0m \u001b[0;32mfrom\u001b[0m \u001b[0mdefault_exception\u001b[0m \u001b[0;32mimport\u001b[0m \u001b[0mthrow_exception\u001b[0m\u001b[0;34m\u001b[0m\u001b[0m\n\u001b[1;32m      2\u001b[0m \u001b[0;34m\u001b[0m\u001b[0m\n\u001b[0;32m----> 3\u001b[0;31m \u001b[0mthrow_exception\u001b[0m\u001b[0;34m(\u001b[0m\u001b[0;34m)\u001b[0m\u001b[0;34m\u001b[0m\u001b[0m\n\u001b[0m",
        "\u001b[0;31mRuntimeError\u001b[0m: std::exception"
       ]
      }
     ],
     "prompt_number": 47
    },
    {
     "cell_type": "heading",
     "level": 2,
     "metadata": {
      "slideshow": {
       "slide_type": "subslide"
      }
     },
     "source": [
      "Explicitly translating C++ exceptions"
     ]
    },
    {
     "cell_type": "markdown",
     "metadata": {},
     "source": [
      "If you want to convert C++ exceptions into a more appropriate Python exception, you can catch them and use the Python C API to produce what you want.\n",
      "\n",
      "In this case, we'll translate `MyException` into a `SystemError` (just to keep things simple.)"
     ]
    },
    {
     "cell_type": "code",
     "collapsed": false,
     "input": [
      "%%bp_module explicit_raise\n",
      "\n",
      "#include <boost/python.hpp>\n",
      "\n",
      "class MyException : public std::exception {};\n",
      "\n",
      "void throw_exception() { throw MyException(); }\n",
      "\n",
      "void throw_exception_with_translate() {\n",
      "    try {\n",
      "         throw_exception();\n",
      "    } \n",
      "    catch (const MyException&) {\n",
      "        PyErr_SetString(PyExc_SystemError, \"Caught a MyException error...not sure what to do!\");\n",
      "    }\n",
      "}\n",
      "\n",
      "BOOST_PYTHON_MODULE(explicit_raise) {\n",
      "    boost::python::def(\"throw_exception\", throw_exception_with_translate);\n",
      "}"
     ],
     "language": "python",
     "metadata": {
      "slideshow": {
       "slide_type": "fragment"
      }
     },
     "outputs": [],
     "prompt_number": 48
    },
    {
     "cell_type": "code",
     "collapsed": false,
     "input": [
      "from explicit_raise import throw_exception\n",
      "\n",
      "throw_exception()"
     ],
     "language": "python",
     "metadata": {
      "slideshow": {
       "slide_type": "fragment"
      }
     },
     "outputs": [
      {
       "ename": "SystemError",
       "evalue": "Caught a MyException error...not sure what to do!",
       "output_type": "pyerr",
       "traceback": [
        "\u001b[0;31m---------------------------------------------------------------------------\u001b[0m\n\u001b[0;31mSystemError\u001b[0m                               Traceback (most recent call last)",
        "\u001b[0;31mSystemError\u001b[0m: Caught a MyException error...not sure what to do!"
       ]
      }
     ],
     "prompt_number": 49
    },
    {
     "cell_type": "heading",
     "level": 2,
     "metadata": {
      "slideshow": {
       "slide_type": "subslide"
      }
     },
     "source": [
      "Registering C++ exception translators"
     ]
    },
    {
     "cell_type": "markdown",
     "metadata": {},
     "source": [
      "A more scalable and maintainable approach to translating C++ exceptions is to use Boost.Python's `register_exception_translator<>` function.\n",
      "\n",
      "This will set up a global translator for specific C++ exception types, meaning that you don't have to explicitly catch and translate them yourself.\n",
      "\n",
      "Here's how that looks:"
     ]
    },
    {
     "cell_type": "code",
     "collapsed": false,
     "input": [
      "%%bp_module registered_exception_translator\n",
      "\n",
      "#include <boost/python.hpp>\n",
      "\n",
      "class MyException : public std::exception {};\n",
      "\n",
      "void throw_exception() { throw MyException(); }\n",
      "\n",
      "void translate_MyException(const MyException&) {\n",
      "    PyErr_SetString(PyExc_SystemError, \"Translator handling a MyException error...still not sure what to do!\");\n",
      "}\n",
      "\n",
      "BOOST_PYTHON_MODULE(registered_exception_translator) {\n",
      "    boost::python::register_exception_translator<MyException>(\n",
      "        translate_MyException);\n",
      "    \n",
      "    boost::python::def(\"throw_exception\", throw_exception);\n",
      "}"
     ],
     "language": "python",
     "metadata": {
      "slideshow": {
       "slide_type": "fragment"
      }
     },
     "outputs": [],
     "prompt_number": 50
    },
    {
     "cell_type": "code",
     "collapsed": false,
     "input": [
      "from registered_exception_translator import throw_exception\n",
      "\n",
      "throw_exception()"
     ],
     "language": "python",
     "metadata": {
      "slideshow": {
       "slide_type": "fragment"
      }
     },
     "outputs": [
      {
       "ename": "SystemError",
       "evalue": "Translator handling a MyException error...still not sure what to do!",
       "output_type": "pyerr",
       "traceback": [
        "\u001b[0;31m---------------------------------------------------------------------------\u001b[0m\n\u001b[0;31mSystemError\u001b[0m                               Traceback (most recent call last)",
        "\u001b[0;32m<ipython-input-51-31435548de4b>\u001b[0m in \u001b[0;36m<module>\u001b[0;34m()\u001b[0m\n\u001b[1;32m      1\u001b[0m \u001b[0;32mfrom\u001b[0m \u001b[0mregistered_exception_translator\u001b[0m \u001b[0;32mimport\u001b[0m \u001b[0mthrow_exception\u001b[0m\u001b[0;34m\u001b[0m\u001b[0m\n\u001b[1;32m      2\u001b[0m \u001b[0;34m\u001b[0m\u001b[0m\n\u001b[0;32m----> 3\u001b[0;31m \u001b[0mthrow_exception\u001b[0m\u001b[0;34m(\u001b[0m\u001b[0;34m)\u001b[0m\u001b[0;34m\u001b[0m\u001b[0m\n\u001b[0m",
        "\u001b[0;31mSystemError\u001b[0m: Translator handling a MyException error...still not sure what to do!"
       ]
      }
     ],
     "prompt_number": 51
    },
    {
     "cell_type": "heading",
     "level": 2,
     "metadata": {
      "slideshow": {
       "slide_type": "subslide"
      }
     },
     "source": [
      "Enums"
     ]
    },
    {
     "cell_type": "markdown",
     "metadata": {},
     "source": [
      "Boost.Python provides a way to expose C++ `enum`s in Python even though Python doesn't have a native notion of `enum`s.\n",
      "\n",
      "As you might have guessed, you do this by using the `enum_<>` template. This takes the C++ enum as its argument, and it allows you to add Python attributes which map to constant values in C++.\n",
      "\n",
      "Here's a simple example of this looks:"
     ]
    },
    {
     "cell_type": "code",
     "collapsed": false,
     "input": [
      "%%bp_module enums\n",
      "\n",
      "#include <boost/python.hpp>\n",
      "\n",
      "// The obvious choices for projections...\n",
      "enum Projection {\n",
      "    Mercator,\n",
      "    Dymaxion,\n",
      "    Sinusoidal\n",
      "};\n",
      "\n",
      "BOOST_PYTHON_MODULE(enums) {\n",
      "    boost::python::enum_<Projection>(\"Projection\")\n",
      "        .value(\"Mercator\", Mercator)\n",
      "        .value(\"Dymaxion\", Dymaxion)\n",
      "        .value(\"Sinusoidal\", Sinusoidal)\n",
      "        ;\n",
      "}"
     ],
     "language": "python",
     "metadata": {
      "slideshow": {
       "slide_type": "fragment"
      }
     },
     "outputs": [],
     "prompt_number": 52
    },
    {
     "cell_type": "code",
     "collapsed": false,
     "input": [
      "import enums\n",
      "\n",
      "print('Class:' ,enums.Projection)\n",
      "print('names:', enums.Projection.names)\n",
      "print('Mercator:', enums.Projection.Mercator)\n",
      "print('Mercator == 0?', enums.Projection.Mercator == 0)\n",
      "print('Dymaxion value:', int(enums.Projection.Dymaxion))"
     ],
     "language": "python",
     "metadata": {
      "slideshow": {
       "slide_type": "fragment"
      }
     },
     "outputs": [
      {
       "output_type": "stream",
       "stream": "stdout",
       "text": [
        "('Class:', <class 'enums.Projection'>)\n",
        "('names:', {'Dymaxion': enums.Projection.Dymaxion, 'Sinusoidal': enums.Projection.Sinusoidal, 'Mercator': enums.Projection.Mercator})\n",
        "('Mercator:', enums.Projection.Mercator)\n",
        "('Mercator == 0?', True)\n",
        "('Dymaxion value:', 1)\n"
       ]
      }
     ],
     "prompt_number": 53
    },
    {
     "cell_type": "heading",
     "level": 1,
     "metadata": {
      "slideshow": {
       "slide_type": "skip"
      }
     },
     "source": [
      "Working with `boost::python::object`"
     ]
    },
    {
     "cell_type": "markdown",
     "metadata": {
      "slideshow": {
       "slide_type": "skip"
      }
     },
     "source": [
      "Learning how to use `boost::python::object` is one key to really mastering Boost.Python.\n",
      "\n",
      "`object` can be passed between Python and C++ seamlessly, and is sort of the lowest common form of an API. Since all Python objects are represented uniformly by `bp::object` in Boost.Python C++ code, `bp::object` can be used to carry all sorts of objects around.\n",
      "\n",
      "Likewise, the `bp::object` API allows you to introspect Python object from C++ and manipulate them in a very explicit way."
     ]
    },
    {
     "cell_type": "heading",
     "level": 2,
     "metadata": {
      "slideshow": {
       "slide_type": "skip"
      }
     },
     "source": [
      "Constructing `object` from C++ objects"
     ]
    },
    {
     "cell_type": "markdown",
     "metadata": {
      "slideshow": {
       "slide_type": "skip"
      }
     },
     "source": [
      "In C++ code, you sometimes need to create `bp::object` instances explicitly from C++ objects. The `bp::object` constructor can accept any type, and a check will be made at runtime to see if a conversion exists from C++ to Python.\n",
      "\n",
      "Generally you won't need to use this feature, but it's good to know about. Normally the creation of `bp::object`s from C++ objects happens explicitly via C++'s normal conversion rules."
     ]
    },
    {
     "cell_type": "heading",
     "level": 2,
     "metadata": {
      "slideshow": {
       "slide_type": "skip"
      }
     },
     "source": [
      "Extracting C++ objects from `bp::object`"
     ]
    },
    {
     "cell_type": "markdown",
     "metadata": {
      "slideshow": {
       "slide_type": "skip"
      }
     },
     "source": [
      "Much more common that explicit `object` construction is the need to extract C++ objects from `bp::object` instances.\n",
      "\n",
      "This is done with the `boost::python::extract<>` class"
     ]
    },
    {
     "cell_type": "heading",
     "level": 2,
     "metadata": {
      "slideshow": {
       "slide_type": "skip"
      }
     },
     "source": [
      "`boost::python::object::attr`"
     ]
    },
    {
     "cell_type": "markdown",
     "metadata": {
      "slideshow": {
       "slide_type": "skip"
      }
     },
     "source": [
      "`bp::object` has a function `attr()` which accepts a string, finds the attribute on the object with that name, and returns that attribute as another `bp::object`. "
     ]
    },
    {
     "cell_type": "heading",
     "level": 2,
     "metadata": {
      "slideshow": {
       "slide_type": "skip"
      }
     },
     "source": [
      "Passing `object` to and from C++"
     ]
    },
    {
     "cell_type": "markdown",
     "metadata": {
      "slideshow": {
       "slide_type": "skip"
      }
     },
     "source": [
      "If you're not concerned about concrete types and just need to ferry Python object between the languages, use `object` in your C++ interface."
     ]
    },
    {
     "cell_type": "code",
     "collapsed": false,
     "input": [
      "%%bp_module object_interface\n",
      "\n",
      "#include <boost/python.hpp>"
     ],
     "language": "python",
     "metadata": {
      "slideshow": {
       "slide_type": "skip"
      }
     },
     "outputs": []
    },
    {
     "cell_type": "heading",
     "level": 1,
     "metadata": {
      "slideshow": {
       "slide_type": "slide"
      }
     },
     "source": [
      "Derived object types"
     ]
    },
    {
     "cell_type": "markdown",
     "metadata": {},
     "source": [
      "We've looked a bit at `boost::python::object`, and we've seen how to define our own wrappers around C++ classes.\n",
      "\n",
      "Boost.Python also provides a number of `boost::python::object` subclasses which we can use in C++ for interacting with standard Python types like `list`, `dict`, and `tuple`.\n",
      "\n",
      "These can be useful if you want to accept standard Python types in your C++ code, or if you want to pass them back from C++ functions."
     ]
    },
    {
     "cell_type": "code",
     "collapsed": false,
     "input": [
      "%%bp_module list_example\n",
      "\n",
      "#include <boost/python.hpp>\n",
      "\n",
      "namespace bp=boost::python;\n",
      "        \n",
      "int expensive_computation(int x, int factor) {\n",
      "    // This is a fake expensive computation\n",
      "    return x * factor;\n",
      "}\n",
      "\n",
      "bp::list run_calculation(bp::list values, int factor) {\n",
      "    bp::list rslt;\n",
      "    for (int idx = 0; idx < bp::len(values); ++idx) {  \n",
      "        int val = bp::extract<int>(values[idx]);\n",
      "        rslt.append(\n",
      "            bp::make_tuple(\n",
      "                val, \n",
      "                expensive_computation(val, factor)));\n",
      "    }\n",
      "    return rslt;\n",
      "}\n",
      "    \n",
      "BOOST_PYTHON_MODULE(list_example) {\n",
      "    bp::def(\"run_calculation\", &run_calculation);\n",
      "}"
     ],
     "language": "python",
     "metadata": {
      "slideshow": {
       "slide_type": "fragment"
      }
     },
     "outputs": [],
     "prompt_number": 54
    },
    {
     "cell_type": "code",
     "collapsed": false,
     "input": [
      "from list_example import run_calculation\n",
      "\n",
      "data = list(range(10))\n",
      "run_calculation(data, 3)"
     ],
     "language": "python",
     "metadata": {
      "slideshow": {
       "slide_type": "fragment"
      }
     },
     "outputs": [
      {
       "metadata": {},
       "output_type": "pyout",
       "prompt_number": 55,
       "text": [
        "[(0, 0),\n",
        " (1, 3),\n",
        " (2, 6),\n",
        " (3, 9),\n",
        " (4, 12),\n",
        " (5, 15),\n",
        " (6, 18),\n",
        " (7, 21),\n",
        " (8, 24),\n",
        " (9, 27)]"
       ]
      }
     ],
     "prompt_number": 55
    },
    {
     "cell_type": "markdown",
     "metadata": {},
     "source": [
      "Full details on Boost.Python's derived types can be found in [the documentation](http://www.boost.org/doc/libs/1_55_0/libs/python/doc/tutorial/doc/html/python/object.html#python.derived_object_types)."
     ]
    },
    {
     "cell_type": "heading",
     "level": 1,
     "metadata": {
      "slideshow": {
       "slide_type": "slide"
      }
     },
     "source": [
      "Type Conversion"
     ]
    },
    {
     "cell_type": "markdown",
     "metadata": {},
     "source": [
      "Often you can rely on the type-conversion support created automatically by Boost.Python. For example, when you use the `class_<>` template, Boost.Python ensures that your wrapped C++ type can cross the Python/C++ boundary without any extra work.\n",
      "\n",
      "There are times, however, when you might need to create explicit converters for your types. These converters are invoked when:\n",
      "\n",
      " * you construct an `bp::object` from a C++ object\n",
      " * you use `bp::extract<>` to convert a Python object into C++"
     ]
    },
    {
     "cell_type": "markdown",
     "metadata": {
      "slideshow": {
       "slide_type": "fragment"
      }
     },
     "source": [
      "To create a converter, you need to implement three functions:\n",
      "\n",
      " * A function to convert from your C++ type into a `PyObject`\n",
      " * A function to check if a Python object can be converted into your C++ type\n",
      " * A function to convert a Python object into your C++ type\n",
      " \n",
      " Likewise, you need to register these converters with the Boost.Python runtime. Let's see how all of that looks."
     ]
    },
    {
     "cell_type": "heading",
     "level": 2,
     "metadata": {
      "slideshow": {
       "slide_type": "subslide"
      }
     },
     "source": [
      "A simple `Coordinate` class"
     ]
    },
    {
     "cell_type": "markdown",
     "metadata": {},
     "source": [
      "We will use this simple `Coordinate` class to demonstrate conversion. We want to be able to convert this class to and from Python tuples. Specifically, we want to convert to and from Python tuples of size 2 containing numeric values.\n",
      "\n",
      "Here's the class itself:"
     ]
    },
    {
     "cell_type": "code",
     "collapsed": false,
     "input": [
      "%%snippet\n",
      "\n",
      "struct Coordinate {\n",
      "    Coordinate(long xin, long yin) : x(xin), y(yin) {}\n",
      "    long x;\n",
      "    long y;\n",
      "};"
     ],
     "language": "python",
     "metadata": {},
     "outputs": [],
     "prompt_number": 56
    },
    {
     "cell_type": "heading",
     "level": 2,
     "metadata": {
      "slideshow": {
       "slide_type": "subslide"
      }
     },
     "source": [
      "A to-python converter"
     ]
    },
    {
     "cell_type": "markdown",
     "metadata": {},
     "source": [
      "A to-python converter is a function that takes your C++ type as an argument and returns a new `PyObject`. This function must be a static function named `convert` on a struct or class.\n",
      "\n",
      "A to-python converter for our `Coordinate` looks like this:"
     ]
    },
    {
     "cell_type": "code",
     "collapsed": false,
     "input": [
      "%snippet\n",
      "\n",
      "struct Coordinate_to_tuple\n",
      "{\n",
      "    static PyObject* convert(const Coordinate& c)\n",
      "        {\n",
      "            return bp::incref<>(\n",
      "                bp::make_tuple(c.x, c.y).ptr());\n",
      "        }\n",
      "};"
     ],
     "language": "python",
     "metadata": {},
     "outputs": [
      {
       "ename": "SyntaxError",
       "evalue": "invalid syntax (<ipython-input-57-16f6933bd76f>, line 3)",
       "output_type": "pyerr",
       "traceback": [
        "\u001b[0;36m  File \u001b[0;32m\"<ipython-input-57-16f6933bd76f>\"\u001b[0;36m, line \u001b[0;32m3\u001b[0m\n\u001b[0;31m    struct Coordinate_to_tuple\u001b[0m\n\u001b[0m                             ^\u001b[0m\n\u001b[0;31mSyntaxError\u001b[0m\u001b[0;31m:\u001b[0m invalid syntax\n"
       ]
      }
     ],
     "prompt_number": 57
    },
    {
     "cell_type": "markdown",
     "metadata": {
      "slideshow": {
       "slide_type": "fragment"
      }
     },
     "source": [
      "Notice how we create a Boost.Python managed tuple, extract it's `PyObject` pointer, and `incref` that pointer before returning it.\n",
      "\n",
      "We do this `incref` because otherwise Python will garbage collect the tuple object after the Boost.Python objects in this function destruct."
     ]
    },
    {
     "cell_type": "markdown",
     "metadata": {
      "slideshow": {
       "slide_type": "fragment"
      }
     },
     "source": [
      "To register this converter with Boost.Python, use `bp::to_python_converter` like this:"
     ]
    },
    {
     "cell_type": "code",
     "collapsed": false,
     "input": [
      "%%snippet\n",
      "\n",
      "bp::to_python_converter<\n",
      "        Coordinate,\n",
      "        Coordinate_to_tuple>();"
     ],
     "language": "python",
     "metadata": {
      "slideshow": {
       "slide_type": "fragment"
      }
     },
     "outputs": [],
     "prompt_number": 58
    },
    {
     "cell_type": "heading",
     "level": 2,
     "metadata": {
      "slideshow": {
       "slide_type": "subslide"
      }
     },
     "source": [
      "Testing for from-python convertibility"
     ]
    },
    {
     "cell_type": "markdown",
     "metadata": {},
     "source": [
      "The next piece of functionality we need is a function to test if a `PyObject` can be converted into our C++ type. This will be invoked when `bp::extract<>` used to create a C++ object from a Python object.\n",
      "\n",
      "A convertibility test function must accept a `PyObject*` as its only argument. It should return `0` if the `PyObject` can not be converted to the requested C++ type. Otherwise it should return the `PyObject*` argument.\n",
      "\n",
      "A convertbility tester for our `Coordinate` looks like this:"
     ]
    },
    {
     "cell_type": "code",
     "collapsed": false,
     "input": [
      "%%snippet\n",
      "\n",
      "static void* convertible(PyObject* obj_ptr)\n",
      "{\n",
      "    if (!PyTuple_Check(obj_ptr)) return 0;\n",
      "    if (PyTuple_Size(obj_ptr) != 2) return 0;\n",
      "    if (!PyNumber_Check(PyTuple_GetItem(obj_ptr, 0))) return 0;\n",
      "    if (!PyNumber_Check(PyTuple_GetItem(obj_ptr, 1))) return 0;\n",
      "\n",
      "    return obj_ptr;\n",
      "}"
     ],
     "language": "python",
     "metadata": {
      "slideshow": {
       "slide_type": "fragment"
      }
     },
     "outputs": [],
     "prompt_number": 59
    },
    {
     "cell_type": "heading",
     "level": 2,
     "metadata": {
      "slideshow": {
       "slide_type": "subslide"
      }
     },
     "source": [
      "Converting from Python to C++"
     ]
    },
    {
     "cell_type": "markdown",
     "metadata": {},
     "source": [
      "The final piece of conversion machinery is the from-python converter function which takes the `PyObject` and converts it into a C++ object.\n",
      "\n",
      "This ultimately involves performing an in-place construction using memory provided to you by the Boost.Python runtime. The details are a bit complex, but fortunately it's not necessary to understand them deeply. Instead, you can simply follow this example and replace the types as needed in your own code:"
     ]
    },
    {
     "cell_type": "code",
     "collapsed": false,
     "input": [
      "%%snippet\n",
      "\n",
      "static void construct(\n",
      "    PyObject* obj_ptr,\n",
      "    bp::converter::rvalue_from_python_stage1_data* data)\n",
      "{\n",
      "    // Extract integral values from tuple\n",
      "    long x_coord = PyLong_AsLong(PyNumber_Long(PyTuple_GetItem(obj_ptr, 0)));\n",
      "    long y_coord = PyLong_AsLong(PyNumber_Long(PyTuple_GetItem(obj_ptr, 1)));\n",
      "\n",
      "    // Grab pointer to memory into which to construct the new Coordinate\n",
      "    void* storage = (\n",
      "        bp::converter::rvalue_from_python_storage<Coordinate>*)\n",
      "        data)->storage.bytes;\n",
      "\n",
      "    // in-place construct the new Coordinate using the character data\n",
      "    // extraced from the python object\n",
      "    new (storage) Coordinate(x_coord, y_coord);\n",
      "\n",
      "    // Stash the memory chunk pointer for later use by boost.python\n",
      "    data->convertible = storage;\n",
      "}"
     ],
     "language": "python",
     "metadata": {},
     "outputs": [],
     "prompt_number": 60
    },
    {
     "cell_type": "heading",
     "level": 2,
     "metadata": {
      "slideshow": {
       "slide_type": "subslide"
      }
     },
     "source": [
      "Registering from-python converters"
     ]
    },
    {
     "cell_type": "markdown",
     "metadata": {},
     "source": [
      "To register your from-python converters with Boost.Python, use `bp::converter::registry::push_back` with your functions and the type-id of your C++ class. That looks like this:"
     ]
    },
    {
     "cell_type": "code",
     "collapsed": false,
     "input": [
      "%%snippet\n",
      "\n",
      "bp::converter::registry::push_back(\n",
      "    &convertible,\n",
      "    &construct,\n",
      "    bp::type_id<Coordinate>());"
     ],
     "language": "python",
     "metadata": {},
     "outputs": [],
     "prompt_number": 61
    },
    {
     "cell_type": "markdown",
     "metadata": {},
     "source": [
      "The full code for this example can be found [in this gist](https://gist.github.com/anonymous/9687369)."
     ]
    },
    {
     "cell_type": "heading",
     "level": 1,
     "metadata": {
      "slideshow": {
       "slide_type": "slide"
      }
     },
     "source": [
      "Embedding"
     ]
    },
    {
     "cell_type": "heading",
     "level": 2,
     "metadata": {
      "slideshow": {
       "slide_type": "subslide"
      }
     },
     "source": [
      "What is embedding?"
     ]
    },
    {
     "cell_type": "markdown",
     "metadata": {},
     "source": [
      "In a nutshell, *embedding* is using your own program to drive `libpython` in place of the normal Python executable. \n",
      "\n",
      "Another way to think of it is as calling Python code from C++.\n",
      "\n",
      "The main thing to keep in mind with embedding is that *you are in charge of doing what the Python executable normally does*. This includes:\n",
      "\n",
      " * Initializing Python\n",
      " * Ensuring that the GIL is properly managed\n",
      " * Shutting Python down\n",
      " \n",
      "It's not really very difficult, but - as with extensions - you can get some very strange errors if you do things incorrectly.\n",
      "\n",
      "<img src=\"files/media/embedding.png\">"
     ]
    },
    {
     "cell_type": "heading",
     "level": 2,
     "metadata": {
      "slideshow": {
       "slide_type": "subslide"
      }
     },
     "source": [
      "Intializing Python"
     ]
    },
    {
     "cell_type": "markdown",
     "metadata": {},
     "source": [
      "Probably the single most important thing to remember when embedding Python is to initialize the runtime with `Py_Initialize()`. If you forget to do this, then almost all of your interaction with `libpython` will be undefined and likely to simply crash."
     ]
    },
    {
     "cell_type": "code",
     "collapsed": false,
     "input": [
      "%%snippet\n",
      "\n",
      "#include <Python.h>\n",
      "\n",
      "int main(int, char**) {\n",
      "    Py_Initialize();\n",
      "    . . .\n",
      "}"
     ],
     "language": "python",
     "metadata": {},
     "outputs": [],
     "prompt_number": 62
    },
    {
     "cell_type": "markdown",
     "metadata": {},
     "source": [
      "Generally just do this early in your program, before you start interacting with Python or Boost.Python in any way."
     ]
    },
    {
     "cell_type": "heading",
     "level": 2,
     "metadata": {
      "slideshow": {
       "slide_type": "subslide"
      }
     },
     "source": [
      "Importing Python modules"
     ]
    },
    {
     "cell_type": "markdown",
     "metadata": {
      "slideshow": {
       "slide_type": "fragment"
      }
     },
     "source": [
      "One reason for embedding Python is to access functionality written in Python. (Another common reason is to add a \"scripting layer\" to an application.)\n",
      "\n",
      "Since almost everything in Python exists in a *module*, you need to be able to import modules in order to access most things.\n",
      "\n",
      "Fortunately, Boost.Python provides the `bp::import()` function which returns a module object.\n",
      "\n",
      "Here's how that looks:"
     ]
    },
    {
     "cell_type": "code",
     "collapsed": false,
     "input": [
      "%%bp_program import_example\n",
      "\n",
      "#include <boost/python.hpp>\n",
      "#include <iostream>\n",
      "\n",
      "namespace bp=boost::python;\n",
      "\n",
      "// Imitate the md5 example in the Python documentation at http://docs.python.org/2.7/library/md5.html\n",
      "int main(int, char**) {\n",
      "    Py_Initialize();\n",
      "    \n",
      "    // Grab the md5 module\n",
      "    bp::object md5_mod = bp::import(\"md5\");\n",
      "    \n",
      "    // Call md5.new()\n",
      "    bp::object m = md5_mod.attr(\"new\")();\n",
      "    \n",
      "    // Update the md5 object a few times with important data\n",
      "    m.attr(\"update\")(\"Nobody inspects\");\n",
      "    m.attr(\"update\")(\" the spammish repetition\");\n",
      "    \n",
      "    // Calculate the digest and print it.\n",
      "    bp::object dig = m.attr(\"digest\")();\n",
      "    std::cout << bp::extract<std::string>(dig)() << std::endl;\n",
      "    \n",
      "    return 0;\n",
      "}"
     ],
     "language": "python",
     "metadata": {
      "slideshow": {
       "slide_type": "fragment"
      }
     },
     "outputs": [
      {
       "metadata": {},
       "output_type": "pyout",
       "prompt_number": 5,
       "text": [
        "\"['\\\\xbbd\\\\x9c\\\\x83\\\\xdd\\\\x1e\\\\xa5\\\\xc9\\\\xd9\\\\xde\\\\xc9\\\\xa1\\\\x8d\\\\xf0\\\\xff\\\\xe9']\""
       ]
      }
     ],
     "prompt_number": 5
    },
    {
     "cell_type": "markdown",
     "metadata": {
      "slideshow": {
       "slide_type": "fragment"
      }
     },
     "source": [
      "As you can see, you can get very direct and intuitive access to Python with Boost.Python. If you've got functionality built in Python that you need to use in C++, techniques like this can get you very far."
     ]
    },
    {
     "cell_type": "heading",
     "level": 2,
     "metadata": {
      "slideshow": {
       "slide_type": "subslide"
      }
     },
     "source": [
      "Exceptions"
     ]
    },
    {
     "cell_type": "markdown",
     "metadata": {},
     "source": [
      "As mentioned earlier, exceptions coming from Python code into C++ are translated by Boost.Python into `boost::python::error_already_set` exceptions. \n",
      "\n",
      "While this is useful as a first line of defense, you often want more detailed information about what kind of exception occurred and where it was raised.\n",
      "\n",
      "To get this, you need to first catch the `bp::error_already_set` and then check the Python exception registers to see what happened.\n",
      "\n",
      "Here's a simple example of how to do this:"
     ]
    },
    {
     "cell_type": "code",
     "collapsed": false,
     "input": [
      "%%bp_program error_already_set_example\n",
      "\n",
      "#include <boost/python.hpp>\n",
      "\n",
      "using namespace boost::python;\n",
      "\n",
      "int main(int, char**) {\n",
      "    Py_Initialize();\n",
      "    \n",
      "    object op_module = import(\"operator\");\n",
      "    object div_func = op_module.attr(\"div\");\n",
      "    \n",
      "    try {\n",
      "        // Dividing by zero results in an exception. But \n",
      "        // let's pretend we didn't know that.\n",
      "        div_func(1, 0);\n",
      "    }\n",
      "    catch (const error_already_set&) {\n",
      "        // This dumps information about the current exception to stdout.\n",
      "        // This is a cheap, simple way to get to the bottom of 90% of your Python exception.\n",
      "        PyErr_Print();\n",
      "    }\n",
      "                       \n",
      "    return 0;\n",
      "}"
     ],
     "language": "python",
     "metadata": {
      "slideshow": {
       "slide_type": "fragment"
      }
     },
     "outputs": [
      {
       "metadata": {},
       "output_type": "pyout",
       "prompt_number": 6,
       "text": [
        "\"['ZeroDivisionError: integer division or modulo by zero']\""
       ]
      }
     ],
     "prompt_number": 6
    },
    {
     "cell_type": "markdown",
     "metadata": {
      "slideshow": {
       "slide_type": "fragment"
      }
     },
     "source": [
      "This demonstrates the very basics of interrogating Python's exception registers. \n",
      "\n",
      "It's worth noting that `PyErr_Print()` also *clears* the exception registers, so you can't call it and then try to inspect the registers for more information."
     ]
    },
    {
     "cell_type": "markdown",
     "metadata": {
      "slideshow": {
       "slide_type": "fragment"
      }
     },
     "source": [
      "Other useful functions for dealing with Python exception can be found in [the Python documentation](http://docs.python.org/2.7/c-api/exceptions.html)."
     ]
    },
    {
     "cell_type": "markdown",
     "metadata": {
      "slideshow": {
       "slide_type": "fragment"
      }
     },
     "source": [
      "Also, it is possible to automate large parts of your Python-to-C++ exception translation. For an example of that, see [the **ackward** project](http://code.google.com/p/ackward/)."
     ]
    },
    {
     "cell_type": "heading",
     "level": 2,
     "metadata": {
      "slideshow": {
       "slide_type": "subslide"
      }
     },
     "source": [
      "Const-ness"
     ]
    },
    {
     "cell_type": "markdown",
     "metadata": {},
     "source": [
      "One significant difference between Python and C++ is that C++ has a strong concept of *const-ness* whereas Python generally allows you to change anything at any time."
     ]
    },
    {
     "cell_type": "markdown",
     "metadata": {},
     "source": [
      "This is not generally a problem in practice, but it can catch you off-guard if you're trying to create const-correct C++ APIs which use Python objects."
     ]
    },
    {
     "cell_type": "markdown",
     "metadata": {},
     "source": [
      "For instance, consider this code:"
     ]
    },
    {
     "cell_type": "code",
     "collapsed": false,
     "input": [
      "%%bp_program const_demo\n",
      "\n",
      "#include <iostream>\n",
      "#include <boost/python.hpp>\n",
      "\n",
      "namespace bp=boost::python;\n",
      "\n",
      "class Wrapper\n",
      "{\n",
      "public:\n",
      "    Wrapper() { data_.append(42); }\n",
      "    int tail() const { return bp::extract<int>(data_[-1]); }\n",
      "    void append(int x) { data_.append(x); }\n",
      "\n",
      "private:\n",
      "    boost::python::list data_;\n",
      "};\n",
      "\n",
      "int main(int, char**)\n",
      "{\n",
      "    Py_Initialize();\n",
      "\n",
      "    // Create a const Wrapper\n",
      "    const Wrapper w;\n",
      "    std::cout << w.tail() << \"\\n\";\n",
      "\n",
      "    // Make a non-const copy\n",
      "    Wrapper w2 = w;\n",
      "    w2.append(1337);\n",
      "\n",
      "    // Oops! We've modified the const version accidentally!\n",
      "    std::cout << w.tail() << \"\\n\";\n",
      "\n",
      "    return 0;\n",
      "}"
     ],
     "language": "python",
     "metadata": {
      "slideshow": {
       "slide_type": "fragment"
      }
     },
     "outputs": [
      {
       "metadata": {},
       "output_type": "pyout",
       "prompt_number": 7,
       "text": [
        "\"['42', '1337']\""
       ]
      }
     ],
     "prompt_number": 7
    },
    {
     "cell_type": "markdown",
     "metadata": {
      "slideshow": {
       "slide_type": "fragment"
      }
     },
     "source": [
      "This may or may not concern you or be a problem for your systems. You can address it in a number of ways:\n",
      "\n",
      " * Disallow copying\n",
      " * Clone the underlying Python object on copy\n",
      " * Use a smart-pointer/handle that retains const-ness\n",
      " \n",
      "Ultimately you need to decide how/if this impacts your work, but for many simple cases it's not an issue."
     ]
    },
    {
     "cell_type": "heading",
     "level": 2,
     "metadata": {
      "slideshow": {
       "slide_type": "subslide"
      }
     },
     "source": [
      "The Global Interpreter Lock (GIL)"
     ]
    },
    {
     "cell_type": "markdown",
     "metadata": {},
     "source": [
      "**Boost.Python offers no magic solution to GIL management!**"
     ]
    },
    {
     "cell_type": "markdown",
     "metadata": {},
     "source": [
      "When using multiple threads to call into an embedded Python runtime, you need to follow all of the rules for GIL management that you would in the absence of Boost.Python."
     ]
    },
    {
     "cell_type": "markdown",
     "metadata": {},
     "source": [
      "The basic rules are very simple:\n",
      "\n",
      " * When calling Python C-API functions, you must hold the GIL\n",
      " * Release the GIL when other threads might need to use the Python C-API"
     ]
    },
    {
     "cell_type": "markdown",
     "metadata": {},
     "source": [
      "On corrolary to these rules is that, for a single-threaded system, you can simply grab the GIL and never release it."
     ]
    },
    {
     "cell_type": "heading",
     "level": 2,
     "metadata": {
      "slideshow": {
       "slide_type": "subslide"
      }
     },
     "source": [
      "Basic GIL management"
     ]
    },
    {
     "cell_type": "markdown",
     "metadata": {},
     "source": [
      "Here's the basic structure for managing the GIL from non-Python-created threads:"
     ]
    },
    {
     "cell_type": "code",
     "collapsed": false,
     "input": [
      "%%snippet\n",
      "\n",
      "PyGILState_STATE gstate;\n",
      "gstate = PyGILState_Ensure();\n",
      "\n",
      "/* Perform Python actions here. */\n",
      "result = CallSomeFunction();\n",
      "/* evaluate result or handle exception */\n",
      "\n",
      "/* Release the thread. No Python API allowed beyond this point. */\n",
      "PyGILState_Release(gstate);"
     ],
     "language": "python",
     "metadata": {},
     "outputs": [],
     "prompt_number": 3
    },
    {
     "cell_type": "markdown",
     "metadata": {},
     "source": [
      "This is taken directly from the [Python documentation](https://docs.python.org/3.4/c-api/init.html#thread-state-and-the-global-interpreter-lock), which can fill you in on all of the gory details."
     ]
    },
    {
     "cell_type": "markdown",
     "metadata": {
      "slideshow": {
       "slide_type": "fragment"
      }
     },
     "source": [
      "In C++, you can of course create an RAII-style class to manage this for you, something like this:"
     ]
    },
    {
     "cell_type": "code",
     "collapsed": false,
     "input": [
      "%%snippet\n",
      "\n",
      "class GILLock : boost::noncopyable {\n",
      "public:\n",
      "    GILLock() { gstate_ = PyGILState_Ensure(); }\n",
      "    ~GILLock() { PyGILState_Release(gstate_); }\n",
      "    \n",
      "private:\n",
      "    PyGILState_STATE gstate_;\n",
      "};"
     ],
     "language": "python",
     "metadata": {
      "slideshow": {
       "slide_type": "fragment"
      }
     },
     "outputs": []
    },
    {
     "cell_type": "heading",
     "level": 1,
     "metadata": {
      "slideshow": {
       "slide_type": "slide"
      }
     },
     "source": [
      "Debugging"
     ]
    },
    {
     "cell_type": "markdown",
     "metadata": {},
     "source": [
      "Debugging Python and C++ concurrently is not always easy. But there are some techniques you can use to simplify your life."
     ]
    },
    {
     "cell_type": "markdown",
     "metadata": {},
     "source": [
      "Here's what a typical stack trace will look like when using Boost.Python:"
     ]
    },
    {
     "cell_type": "code",
     "collapsed": false,
     "input": [
      "%%snippet\n",
      "\n",
      "% lldb python\n",
      "(lldb) r\n",
      "\n",
      ">>> import divide\n",
      ">>> divide.divide(1, 0)\n",
      "(lldb) bt\n",
      "* thread #1: tid = 0x10d5a, 0x00000001001e96c7 divide.so`divide(x=<unavailable>, y=<unavailable>) + 7 at broken_module.cpp:4, queue = 'com.apple.main-thread', stop reason = EXC_ARITHMETIC (code=EXC_I386_DIV, subcode=0x0)\n",
      "  * frame #0: 0x00000001001e96c7 divide.so`divide(x=<unavailable>, y=<unavailable>) + 7 at broken_module.cpp:4\n",
      "    frame #1: 0x00000001001e9b38 divide.so`boost::python::detail::caller_arity<2u>::impl<int (*)(int, int), boost::python::default_call_policies, boost::mpl::vector3<int, int, int> >::operator()(_object*, _object*) [inlined] _object* boost::python::detail::invoke<boost::python::to_python_value<int const&>, int (f=<unavailable>, ac0=0x00007fff5fbff4a8, ac1=0x00007fff5fbff488)(int, int), boost::python::arg_from_python<int>, boost::python::arg_from_python<int> >(boost::python::detail::invoke_tag_<false, false>, boost::python::to_python_value<int const&> const&, int (*&)(int, int), boost::python::arg_from_python<int>&, boost::python::arg_from_python<int>&) + 60 at invoke.hpp:75\n",
      "    frame #2: 0x00000001001e9afc divide.so`boost::python::detail::caller_arity<2u>::impl<int (this=<unavailable>, args_=<unavailable>, (null)=<unavailable>)(int, int), boost::python::default_call_policies, boost::mpl::vector3<int, int, int> >::operator()(_object*, _object*) + 108 at caller.hpp:218\n",
      "    frame #3: 0x000000010068a10e libboost_python.dylib`boost::python::objects::function::call(_object*, _object*) const + 766\n",
      "    frame #4: 0x000000010068c25a libboost_python.dylib`boost::detail::function::void_function_ref_invoker0<boost::python::objects::(anonymous namespace)::bind_return, void>::invoke(boost::detail::function::function_buffer&) + 26\n",
      "    frame #5: 0x0000000100691fc5 libboost_python.dylib`boost::python::handle_exception_impl(boost::function0<void>) + 85\n",
      "    frame #6: 0x000000010068bc63 libboost_python.dylib`function_call + 83\n",
      "    frame #7: 0x000000010000df6d Python`PyObject_Call + 101\n",
      "    frame #8: 0x0000000100088454 Python`PyEval_EvalFrameEx + 16042\n",
      "    frame #9: 0x0000000100084480 Python`PyEval_EvalCodeEx + 1638\n",
      "    frame #10: 0x0000000100083e14 Python`PyEval_EvalCode + 54\n",
      "    frame #11: 0x00000001000a33c4 Python`run_mod + 53\n",
      "    frame #12: 0x00000001000a31e6 Python`PyRun_InteractiveOneFlags + 365\n",
      "    frame #13: 0x00000001000a2cd7 Python`PyRun_InteractiveLoopFlags + 188\n",
      "    frame #14: 0x00000001000a2b88 Python`PyRun_AnyFileExFlags + 60\n",
      "    frame #15: 0x00000001000b3a67 Python`Py_Main + 2995\n"
     ],
     "language": "python",
     "metadata": {},
     "outputs": [],
     "prompt_number": 4
    },
    {
     "cell_type": "heading",
     "level": 3,
     "metadata": {},
     "source": [
      "Debugging extensions"
     ]
    },
    {
     "cell_type": "markdown",
     "metadata": {},
     "source": [
      "Remember that Python can be debugged like any other program."
     ]
    },
    {
     "cell_type": "markdown",
     "metadata": {},
     "source": [
      "So you can always just attach your debugger to the Python executable (or start Python under the control of your debugger.)"
     ]
    },
    {
     "cell_type": "code",
     "collapsed": false,
     "input": [
      "%%snippet\n",
      "\n",
      "% lldb python   \n",
      "Current executable set to 'python' (x86_64).\n",
      "(lldb) r\n",
      "Process 34840 resuming\n",
      "Python 2.7.6 (default, Mar 10 2014, 21:50:27) \n",
      "[GCC 4.2.1 Compatible Apple LLVM 5.0 (clang-500.2.79)] on darwin\n",
      "Type \"help\", \"copyright\", \"credits\" or \"license\" for more information.\n",
      ">>> import my_extension\n",
      ">>>"
     ],
     "language": "python",
     "metadata": {},
     "outputs": []
    },
    {
     "cell_type": "heading",
     "level": 3,
     "metadata": {
      "slideshow": {
       "slide_type": "subslide"
      }
     },
     "source": [
      "Debugging embedded Python"
     ]
    },
    {
     "cell_type": "markdown",
     "metadata": {},
     "source": [
      "This scenario is complicated by the fact that you can't attach PDB to a running process. So it can be difficult to bring Python-level debugging to bear."
     ]
    },
    {
     "cell_type": "markdown",
     "metadata": {},
     "source": [
      "Fortunately there are some tricks you can use:\n",
      "\n",
      " * Put `import pdb; pdb.set_trace()` call into your Python source. This is crude but can be very effective.\n",
      " * Arrange your code so that the Python can be executed independently. Isolate the condition that causes the problem from C++, and then replicate that in pure Python.\n",
      " * *Pythonize* your application by making your `main()` function into a Python function. Then you can run everything under PDB."
     ]
    },
    {
     "cell_type": "heading",
     "level": 3,
     "metadata": {
      "slideshow": {
       "slide_type": "subslide"
      }
     },
     "source": [
      "Tool support"
     ]
    },
    {
     "cell_type": "markdown",
     "metadata": {},
     "source": [
      "There are a number of tools that now make Python/C++ debugging significantly simpler."
     ]
    },
    {
     "cell_type": "markdown",
     "metadata": {},
     "source": [
      "GDB has a number of extensions (written in Python) which make it possible to examine Python objects and the Python runtime in nicer way. For example:\n",
      "\n",
      "  * Pretty-printing of Python objects\n",
      "  * Generating Python-level stack traces\n",
      "  * Moving through the Python call stack\n",
      "  \n",
      "You can read more about this [here](http://misspent.wordpress.com/2012/03/24/debugging-cc-and-cpython-using-gdb-7s-new-python-extension-support/)."
     ]
    },
    {
     "cell_type": "code",
     "collapsed": false,
     "input": [
      "%%snippet\n",
      "\n",
      "(gdb) py-bt\n",
      "#9 (unable to read python frame information)\n",
      "#12 Frame 0x987d20, for file bar.py, line 5, in llama (lib=<CDLL(_FuncPtr=, get_value=, _handle=9720816, _name='libsome_lib.so') at remote 0x7ffff6ac53d0>)\n",
      "print(lib.get_value())\n",
      "#15 Frame 0x98a700, for file bar.py, line 9, in baz ()\n",
      "llama()"
     ],
     "language": "python",
     "metadata": {},
     "outputs": []
    },
    {
     "cell_type": "markdown",
     "metadata": {
      "slideshow": {
       "slide_type": "fragment"
      }
     },
     "source": [
      "Likewise, the PyTools project for Visual Studio supports mixed-language debugging. You can find more information about that [here](https://pytools.codeplex.com/)."
     ]
    }
   ],
   "metadata": {}
  }
 ]
}