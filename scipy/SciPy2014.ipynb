{
 "metadata": {
  "name": "",
  "signature": "sha256:a128d1f70eb67df841f3bf616e55460de4c96631991b84865ce1601b339c7146"
 },
 "nbformat": 3,
 "nbformat_minor": 0,
 "worksheets": [
  {
   "cells": [
    {
     "cell_type": "heading",
     "level": 1,
     "metadata": {
      "slideshow": {
       "slide_type": "slide"
      }
     },
     "source": [
      "Integrating C++ and Python with Boost.Python\n"
     ]
    },
    {
     "cell_type": "markdown",
     "metadata": {
      "slideshow": {
       "slide_type": "-"
      }
     },
     "source": [
      "## Austin Bingham\n",
      "\n",
      "### @austin_bingham\n",
      "\n",
      "You can download the IPython notebook for this presentation at [https://github.com/abingham/boost_python_tutorial](https://github.com/abingham/boost_python_tutorial)\n",
      "\n",
      "----\n",
      "\n",
      "<img src=\"files/media/SixtyNorth_logo.png\" width=\"25%\">"
     ]
    },
    {
     "cell_type": "markdown",
     "metadata": {
      "slideshow": {
       "slide_type": "subslide"
      }
     },
     "source": [
      "<img src=\"files/media/intro.png\" width=\"100%\">"
     ]
    },
    {
     "cell_type": "heading",
     "level": 1,
     "metadata": {
      "slideshow": {
       "slide_type": "slide"
      }
     },
     "source": [
      "What is Python / C++ Integration?"
     ]
    },
    {
     "cell_type": "heading",
     "level": 1,
     "metadata": {
      "slideshow": {
       "slide_type": "subslide"
      }
     },
     "source": [
      "A lot of language integration can happen between processes"
     ]
    },
    {
     "cell_type": "markdown",
     "metadata": {},
     "source": [
      "<img src=\"files/media/IPC.png\">"
     ]
    },
    {
     "cell_type": "markdown",
     "metadata": {},
     "source": [
      "This is useful and interesting, but not what we're talking about here."
     ]
    },
    {
     "cell_type": "heading",
     "level": 1,
     "metadata": {
      "slideshow": {
       "slide_type": "subslide"
      }
     },
     "source": [
      "Python is a C library"
     ]
    },
    {
     "cell_type": "markdown",
     "metadata": {},
     "source": [
      "<img src=\"files/media/python_libpython.png\">\n",
      "\n",
      "For this presentation, in-process interaction with Python is what we're interested in.\n",
      "\n",
      "This interaction is based on using `libpython`."
     ]
    },
    {
     "cell_type": "heading",
     "level": 1,
     "metadata": {
      "slideshow": {
       "slide_type": "subslide"
      }
     },
     "source": [
      "Integration is fundamentally just using `libpython` as a library"
     ]
    },
    {
     "cell_type": "markdown",
     "metadata": {},
     "source": [
      "<table border=\"\">\n",
      "<tr><td><h2>Extension</h2></td><td><h2>Embedding</h2></td></tr>\n",
      "<tr><td><img src=\"files/media/extension_module.png\"></td><td><img src=\"files/media/embedding.png\"></td></tr>\n",
      "</table>"
     ]
    },
    {
     "cell_type": "heading",
     "level": 1,
     "metadata": {
      "slideshow": {
       "slide_type": "subslide"
      }
     },
     "source": [
      "Everything Python does, you can do, too!"
     ]
    },
    {
     "cell_type": "heading",
     "level": 2,
     "metadata": {},
     "source": [
      "This is great because..."
     ]
    },
    {
     "cell_type": "markdown",
     "metadata": {
      "slideshow": {
       "slide_type": "fragment"
      }
     },
     "source": [
      "...it gives you a lot of power."
     ]
    },
    {
     "cell_type": "markdown",
     "metadata": {
      "slideshow": {
       "slide_type": "fragment"
      }
     },
     "source": [
      "...it can help with performance."
     ]
    },
    {
     "cell_type": "markdown",
     "metadata": {
      "slideshow": {
       "slide_type": "fragment"
      }
     },
     "source": [
      "...it provides interoperability with a broad base of existing software."
     ]
    },
    {
     "cell_type": "heading",
     "level": 2,
     "metadata": {
      "slideshow": {
       "slide_type": "fragment"
      }
     },
     "source": [
      "This is terrible because..."
     ]
    },
    {
     "cell_type": "markdown",
     "metadata": {
      "slideshow": {
       "slide_type": "fragment"
      }
     },
     "source": [
      "...the C API can be hard to work with."
     ]
    },
    {
     "cell_type": "markdown",
     "metadata": {
      "slideshow": {
       "slide_type": "fragment"
      }
     },
     "source": [
      "...you are responsible for doing things correctly."
     ]
    },
    {
     "cell_type": "markdown",
     "metadata": {
      "slideshow": {
       "slide_type": "fragment"
      }
     },
     "source": [
      "...it introduces the possibility for bugs that are impossible in pure Python."
     ]
    },
    {
     "cell_type": "heading",
     "level": 1,
     "metadata": {
      "slideshow": {
       "slide_type": "subslide"
      }
     },
     "source": [
      "Are you sure you still want to do this?"
     ]
    },
    {
     "cell_type": "markdown",
     "metadata": {},
     "source": [
      "<img src=\"files/media/dante.jpg\">"
     ]
    },
    {
     "cell_type": "heading",
     "level": 1,
     "metadata": {
      "slideshow": {
       "slide_type": "slide"
      }
     },
     "source": [
      "Basics of the Python C API"
     ]
    },
    {
     "cell_type": "markdown",
     "metadata": {},
     "source": [
      "<img src=\"files/media/python-logo.png\">"
     ]
    },
    {
     "cell_type": "heading",
     "level": 1,
     "metadata": {
      "slideshow": {
       "slide_type": "subslide"
      }
     },
     "source": [
      "PyObject"
     ]
    },
    {
     "cell_type": "markdown",
     "metadata": {
      "slideshow": {
       "slide_type": "fragment"
      }
     },
     "source": [
      "`PyObject` is the central type for everything that happens in the Python C API."
     ]
    },
    {
     "cell_type": "markdown",
     "metadata": {
      "slideshow": {
       "slide_type": "fragment"
      }
     },
     "source": [
      "Every \"thing\" in Python is represented as a `PyObject`."
     ]
    },
    {
     "cell_type": "markdown",
     "metadata": {
      "slideshow": {
       "slide_type": "fragment"
      }
     },
     "source": [
      "`PyObject` manages two central details in Python:\n",
      "\n",
      " * an object's *type*\n",
      " * and object's *reference count*"
     ]
    },
    {
     "cell_type": "markdown",
     "metadata": {
      "slideshow": {
       "slide_type": "fragment"
      }
     },
     "source": [
      "*Examples of `PyObject` in the C API:*\n",
      "\n",
      "```C\n",
      "PyObject* PyObject_GetAttr(PyObject *o, PyObject *attr_name)\n",
      "\n",
      "PyObject* PyEval_GetCallStats(PyObject *self)\n",
      "\n",
      "PyObject* PyErr_SetFromErrnoWithFilenameObject(PyObject *type, PyObject *filenameObject)\n",
      "```"
     ]
    },
    {
     "cell_type": "heading",
     "level": 2,
     "metadata": {
      "slideshow": {
       "slide_type": "subslide"
      }
     },
     "source": [
      "Reference counting"
     ]
    },
    {
     "cell_type": "markdown",
     "metadata": {
      "slideshow": {
       "slide_type": "fragment"
      }
     },
     "source": [
      "Every object contains a count of references to that object."
     ]
    },
    {
     "cell_type": "markdown",
     "metadata": {
      "slideshow": {
       "slide_type": "fragment"
      }
     },
     "source": [
      "The garbage collector uses this number to determine when an object can be de/reallocated."
     ]
    },
    {
     "cell_type": "markdown",
     "metadata": {
      "slideshow": {
       "slide_type": "fragment"
      }
     },
     "source": [
      "This is generally invisible to users at the Python level, but it's **critical** to users of the C API."
     ]
    },
    {
     "cell_type": "heading",
     "level": 3,
     "metadata": {
      "slideshow": {
       "slide_type": "subslide"
      }
     },
     "source": [
      "Reference count example"
     ]
    },
    {
     "cell_type": "code",
     "collapsed": false,
     "input": [
      "from sys import getrefcount\n",
      "\n",
      "x = 'a simple string'\n",
      "print('Ref-count of string with on reference: {}'.format(getrefcount(x)))\n",
      "\n",
      "y = x\n",
      "print('Ref-count of string with an alias: {}'.format(getrefcount(x)))\n",
      "\n",
      "y = None\n",
      "print('Ref-count of string after removing alias: {}'.format(getrefcount(x)))"
     ],
     "language": "python",
     "metadata": {},
     "outputs": [
      {
       "output_type": "stream",
       "stream": "stdout",
       "text": [
        "Ref-count of string with on reference: 3\n",
        "Ref-count of string with an alias: 4\n",
        "Ref-count of string after removing alias: 3\n"
       ]
      }
     ],
     "prompt_number": 1
    },
    {
     "cell_type": "heading",
     "level": 3,
     "metadata": {
      "slideshow": {
       "slide_type": "subslide"
      }
     },
     "source": [
      "Reference count example illustrated"
     ]
    },
    {
     "cell_type": "markdown",
     "metadata": {
      "slideshow": {
       "slide_type": "fragment"
      }
     },
     "source": [
      "<img src=\"files/media/ref_count_1.png\" width=\"30%\">"
     ]
    },
    {
     "cell_type": "markdown",
     "metadata": {
      "slideshow": {
       "slide_type": "fragment"
      }
     },
     "source": [
      "<img src=\"files/media/ref_count_2.png\" width=\"43%\">"
     ]
    },
    {
     "cell_type": "markdown",
     "metadata": {
      "slideshow": {
       "slide_type": "fragment"
      }
     },
     "source": [
      "<img src=\"files/media/ref_count_3.png\" width=\"65%\">"
     ]
    },
    {
     "cell_type": "heading",
     "level": 3,
     "metadata": {
      "slideshow": {
       "slide_type": "subslide"
      }
     },
     "source": [
      "Everything has a ref-count"
     ]
    },
    {
     "cell_type": "code",
     "collapsed": false,
     "input": [
      "import sys\n",
      "\n",
      "print('Ref-count of None: {}'.format(getrefcount(None)))\n",
      "print('Ref-count of sys: {}'.format(getrefcount(sys)))\n",
      "print('Ref-count of sys.getrefcount: {}'.format(getrefcount(getrefcount)))"
     ],
     "language": "python",
     "metadata": {},
     "outputs": [
      {
       "output_type": "stream",
       "stream": "stdout",
       "text": [
        "Ref-count of None: 11896\n",
        "Ref-count of sys: 244\n",
        "Ref-count of sys.getrefcount: 5\n"
       ]
      }
     ],
     "prompt_number": 2
    },
    {
     "cell_type": "heading",
     "level": 3,
     "metadata": {
      "slideshow": {
       "slide_type": "subslide"
      }
     },
     "source": [
      "What can go wrong with reference counting?"
     ]
    },
    {
     "cell_type": "markdown",
     "metadata": {
      "slideshow": {
       "slide_type": "fragment"
      }
     },
     "source": [
      "You can forget to increment it."
     ]
    },
    {
     "cell_type": "markdown",
     "metadata": {
      "slideshow": {
       "slide_type": "fragment"
      }
     },
     "source": [
      "You can forget to decrement it."
     ]
    },
    {
     "cell_type": "markdown",
     "metadata": {
      "slideshow": {
       "slide_type": "fragment"
      }
     },
     "source": [
      "You can increment it too many times."
     ]
    },
    {
     "cell_type": "markdown",
     "metadata": {
      "slideshow": {
       "slide_type": "fragment"
      }
     },
     "source": [
      "You can decrement it too many times."
     ]
    },
    {
     "cell_type": "heading",
     "level": 3,
     "metadata": {
      "slideshow": {
       "slide_type": "subslide"
      }
     },
     "source": [
      "Reference counting API"
     ]
    },
    {
     "cell_type": "markdown",
     "metadata": {},
     "source": [
      "The primary functions (really macros) for doing reference counting are:\n",
      "\n",
      " * `Py_INCREF()`\n",
      " * `Py_XINCREF()` - checks for NULL first\n",
      " * `Py_DECREF()`\n",
      " * `Py_XDECREF()` - checks for NULL first\n",
      " * `Py_CLEAR()` - checks for NULL first\n",
      " \n",
      "See [the documentation](http://docs.python.org/3/c-api/refcounting.html) for full details."
     ]
    },
    {
     "cell_type": "heading",
     "level": 2,
     "metadata": {
      "slideshow": {
       "slide_type": "subslide"
      }
     },
     "source": [
      "Exceptions and error handling"
     ]
    },
    {
     "cell_type": "markdown",
     "metadata": {
      "slideshow": {
       "slide_type": "fragment"
      }
     },
     "source": [
      "C doesn't have exceptions, so Python's exceptions are expressed purely in terms of the C language."
     ]
    },
    {
     "cell_type": "markdown",
     "metadata": {
      "slideshow": {
       "slide_type": "fragment"
      }
     },
     "source": [
      "What this ultimately means is that there are some global exception variables which indicate if an exception has been thrown."
     ]
    },
    {
     "cell_type": "markdown",
     "metadata": {
      "slideshow": {
       "slide_type": "fragment"
      }
     },
     "source": [
      "It is up to callers to check and set these as appropriate. "
     ]
    },
    {
     "cell_type": "heading",
     "level": 2,
     "metadata": {
      "slideshow": {
       "slide_type": "subslide"
      }
     },
     "source": [
      "Raising exceptions"
     ]
    },
    {
     "cell_type": "markdown",
     "metadata": {},
     "source": [
      "There are a number of ways to raise exceptions with the C API."
     ]
    },
    {
     "cell_type": "markdown",
     "metadata": {
      "slideshow": {
       "slide_type": "fragment"
      }
     },
     "source": [
      "The most common is `PyErr_SetString`:\n",
      "\n",
      "    void PyErr_SetString(PyObject *type, const char *message)"
     ]
    },
    {
     "cell_type": "heading",
     "level": 3,
     "metadata": {
      "slideshow": {
       "slide_type": "fragment"
      }
     },
     "source": [
      "The exception API can be tricky"
     ]
    },
    {
     "cell_type": "markdown",
     "metadata": {
      "slideshow": {
       "slide_type": "fragment"
      }
     },
     "source": [
      "Many C API calls will clear the exception registers."
     ]
    },
    {
     "cell_type": "markdown",
     "metadata": {
      "slideshow": {
       "slide_type": "fragment"
      }
     },
     "source": [
      "Some functions require the registers to be set."
     ]
    },
    {
     "cell_type": "markdown",
     "metadata": {
      "slideshow": {
       "slide_type": "fragment"
      }
     },
     "source": [
      "Read up on the exception API [in the Python docs](http://docs.python.org/3/c-api/exceptions.html)."
     ]
    },
    {
     "cell_type": "heading",
     "level": 2,
     "metadata": {
      "slideshow": {
       "slide_type": "subslide"
      }
     },
     "source": [
      "Protocols"
     ]
    },
    {
     "cell_type": "markdown",
     "metadata": {
      "slideshow": {
       "slide_type": "-"
      }
     },
     "source": [
      "The various *protocols* in Python each have their own set of API."
     ]
    },
    {
     "cell_type": "markdown",
     "metadata": {
      "slideshow": {
       "slide_type": "-"
      }
     },
     "source": [
      "For example:\n",
      "\n",
      " * `PySequence_*` for working with *sequences*\n",
      " * `PyIter_*` for working with *iterators* and *iterables*\n",
      " * `PyFunction_*` for working with functions (not actually a protocol, but a concrete type)"
     ]
    },
    {
     "cell_type": "heading",
     "level": 2,
     "metadata": {
      "slideshow": {
       "slide_type": "subslide"
      }
     },
     "source": [
      "Read all about it"
     ]
    },
    {
     "cell_type": "markdown",
     "metadata": {},
     "source": [
      "The Python C API is well documented. It's a large API, but the documentation is well-structured enough to generally guide you to where you need to be.\n",
      "\n",
      "You can the full details of the C API at:\n",
      "\n",
      "**[http://docs.python.org/3/c-api/index.html](http://docs.python.org/3/c-api/index.html)**\n",
      "\n",
      "<img src=\"files/media/python-logo.png\">"
     ]
    },
    {
     "cell_type": "heading",
     "level": 1,
     "metadata": {
      "slideshow": {
       "slide_type": "slide"
      }
     },
     "source": [
      "Core Boost.Python"
     ]
    },
    {
     "cell_type": "markdown",
     "metadata": {},
     "source": [
      "<img src=\"files/media/boost_python.png\">"
     ]
    },
    {
     "cell_type": "heading",
     "level": 1,
     "metadata": {
      "slideshow": {
       "slide_type": "subslide"
      }
     },
     "source": [
      "`boost::python::object` and `boost::python::handle`"
     ]
    },
    {
     "cell_type": "markdown",
     "metadata": {},
     "source": [
      "`bp::handle<>` is used to take initial ownership of a `PyObject`."
     ]
    },
    {
     "cell_type": "markdown",
     "metadata": {
      "slideshow": {
       "slide_type": "fragment"
      }
     },
     "source": [
      "`bp::object` is constructed from a `bp::handle<>`."
     ]
    },
    {
     "cell_type": "markdown",
     "metadata": {
      "slideshow": {
       "slide_type": "fragment"
      }
     },
     "source": [
      "`bp::object` uses **RAII** to manage reference counting on a `PyObject` so that it's harder (but not impossible) for you mess it up."
     ]
    },
    {
     "cell_type": "markdown",
     "metadata": {
      "slideshow": {
       "slide_type": "fragment"
      }
     },
     "source": [
      "<img src=\"files/media/object_to_pyobject.png\">"
     ]
    },
    {
     "cell_type": "heading",
     "level": 1,
     "metadata": {
      "slideshow": {
       "slide_type": "subslide"
      }
     },
     "source": [
      "`boost::python::object` usage example"
     ]
    },
    {
     "cell_type": "markdown",
     "metadata": {},
     "source": [
      "Taking ownership of a so-called *new* refererence:"
     ]
    },
    {
     "cell_type": "markdown",
     "metadata": {},
     "source": [
      "```\n",
      "// This creates a \"new\" reference. We are responsible for decref'ing it at some point.\n",
      "PyObject* pyobj = PyList_New(10);\n",
      "\n",
      "// handle<> and object do not incref an object normally.\n",
      "boost::python::object obj(\n",
      "    boost::python::handle<>(pyobj);\n",
      "```"
     ]
    },
    {
     "cell_type": "markdown",
     "metadata": {
      "slideshow": {
       "slide_type": "fragment"
      }
     },
     "source": [
      "Taking a *borrowed* reference:"
     ]
    },
    {
     "cell_type": "markdown",
     "metadata": {
      "slideshow": {
       "slide_type": "fragment"
      }
     },
     "source": [
      "```\n",
      "// Getting a list item returns a borrowed reference\n",
      "PyObject* list_item = PyList_GetItem(list_obj, 3);\n",
      "\n",
      "// So we use borrowed() to incref it.\n",
      "boost::python::object obj(\n",
      "    boost::python::handle<>(\n",
      "        boost::python::borrowed(list_item)));\n",
      "```"
     ]
    },
    {
     "cell_type": "heading",
     "level": 1,
     "metadata": {
      "slideshow": {
       "slide_type": "subslide"
      }
     },
     "source": [
      "Attribute access with `boost::python::object::attr()`"
     ]
    },
    {
     "cell_type": "markdown",
     "metadata": {},
     "source": [
      "To access attributes on an `object` use the `attr()` member function."
     ]
    },
    {
     "cell_type": "markdown",
     "metadata": {},
     "source": [
      "```\n",
      "boost::python::object obj(...);\n",
      "\n",
      "// Access the \"foo\" attribute on the object. Equivalent to \"x = obj.foo\" in Python.\n",
      "boost::python::object x = obj.attr(\"foo\");\n",
      "```"
     ]
    },
    {
     "cell_type": "heading",
     "level": 1,
     "metadata": {
      "slideshow": {
       "slide_type": "subslide"
      }
     },
     "source": [
      "Calling objects"
     ]
    },
    {
     "cell_type": "markdown",
     "metadata": {},
     "source": [
      "You can *call* `boost::python::objects`. This can fail if the object is not a callable.\n",
      "\n",
      "```\n",
      "boost::python::object obj = . . .;\n",
      "\n",
      "// Call the object to get another object\n",
      "boost::python::object result = obj();\n",
      "\n",
      "// And of course you can pass arguments to the call\n",
      "boost::python::object next_result = result(42, \"llamas\");\n",
      "```"
     ]
    },
    {
     "cell_type": "heading",
     "level": 1,
     "metadata": {
      "slideshow": {
       "slide_type": "subslide"
      }
     },
     "source": [
      "Constructing `object`s from C++ objects"
     ]
    },
    {
     "cell_type": "markdown",
     "metadata": {},
     "source": [
      "You can construct `object` instances from arbitrary C++ objects."
     ]
    },
    {
     "cell_type": "markdown",
     "metadata": {
      "slideshow": {
       "slide_type": "fragment"
      }
     },
     "source": [
      "This will always compile, but it may fail at runtime if Boost.Python can't find a type converter."
     ]
    },
    {
     "cell_type": "markdown",
     "metadata": {
      "slideshow": {
       "slide_type": "fragment"
      }
     },
     "source": [
      "It looks like this:\n",
      "\n",
      "```\n",
      "class Foo {};\n",
      "\n",
      "void some_function() {\n",
      "    Foo f;\n",
      "\n",
      "    // This invokes a type-converter lookup and, if successful, conversion.\n",
      "    boost::python::object obj(f);\n",
      "\n",
      "    . . .\n",
      "}\n",
      "```"
     ]
    },
    {
     "cell_type": "markdown",
     "metadata": {
      "slideshow": {
       "slide_type": "fragment"
      }
     },
     "source": [
      "We will look at type-conversion in more detail later."
     ]
    },
    {
     "cell_type": "heading",
     "level": 1,
     "metadata": {
      "slideshow": {
       "slide_type": "subslide"
      }
     },
     "source": [
      "Extracting C++ objects from Python objects with `extract<>`"
     ]
    },
    {
     "cell_type": "markdown",
     "metadata": {
      "slideshow": {
       "slide_type": "-"
      }
     },
     "source": [
      "You can convert `boost::python::object` instances into other C++ types with `boost::python::extract<>`."
     ]
    },
    {
     "cell_type": "markdown",
     "metadata": {
      "slideshow": {
       "slide_type": "fragment"
      }
     },
     "source": [
      "`extract<>` is a class, not a function, but its general use looks like a function call:\n",
      "\n",
      "```\n",
      "boost::python::object obj = ...;\n",
      "\n",
      "// Use extract<> to convert obj into a more useful type.\n",
      "Foo f = boost::python::extract<Foo>(obj.attr(\"get_foo\")());\n",
      "```"
     ]
    },
    {
     "cell_type": "heading",
     "level": 1,
     "metadata": {
      "slideshow": {
       "slide_type": "subslide"
      }
     },
     "source": [
      "Exceptions with Boost.Python"
     ]
    },
    {
     "cell_type": "heading",
     "level": 1,
     "metadata": {
      "slideshow": {
       "slide_type": "subslide"
      }
     },
     "source": [
      "Translating C++ exceptions into Python"
     ]
    },
    {
     "cell_type": "markdown",
     "metadata": {},
     "source": [
      "By default Boost.Python will translate C++ exceptions into a `RuntimeError` with the message \"Unidentifiable C++ exception.\""
     ]
    },
    {
     "cell_type": "markdown",
     "metadata": {
      "slideshow": {
       "slide_type": "fragment"
      }
     },
     "source": [
      "There are a few exceptions with special built-in handling:\n",
      "\n",
      " * `std::bad_alloc` -> `MemoryError`\n",
      " * `std::out_of_range` -> `IndexError`\n",
      " * `std::invalid_argument` -> `ValueError`\n",
      " * `boost::bad_numeric_cast` -> `OverflowError`"
     ]
    },
    {
     "cell_type": "markdown",
     "metadata": {
      "slideshow": {
       "slide_type": "fragment"
      }
     },
     "source": [
      "To provide better custom exception translation, you can use `boost::python::register_exception_translator()`."
     ]
    },
    {
     "cell_type": "markdown",
     "metadata": {
      "slideshow": {
       "slide_type": "fragment"
      }
     },
     "source": [
      "Read about it in the Boost.Python documentation at [http://www.boost.org/doc/libs/1_41_0/libs/python/doc/v2/exception_translator.html](http://www.boost.org/doc/libs/1_41_0/libs/python/doc/v2/exception_translator.html)"
     ]
    },
    {
     "cell_type": "heading",
     "level": 1,
     "metadata": {
      "slideshow": {
       "slide_type": "subslide"
      }
     },
     "source": [
      "Translating Python exceptions into C++"
     ]
    },
    {
     "cell_type": "markdown",
     "metadata": {},
     "source": [
      "Boost.Python will translate all Python exceptions into a `boost::python::error_already_set` exception."
     ]
    },
    {
     "cell_type": "markdown",
     "metadata": {
      "slideshow": {
       "slide_type": "fragment"
      }
     },
     "source": [
      "You can catch these, interrogate the Python C API exception registers, and take the appropriate action."
     ]
    },
    {
     "cell_type": "markdown",
     "metadata": {
      "slideshow": {
       "slide_type": "fragment"
      }
     },
     "source": [
      "**Handy debugging tip!** Boost.Python always throws `error_already_set` exceptions using `boost::python::throw_error_already_set()`. Setting a breakpoint here can be **very** useful when debugging exceptions."
     ]
    },
    {
     "cell_type": "heading",
     "level": 1,
     "metadata": {
      "slideshow": {
       "slide_type": "slide"
      }
     },
     "source": [
      "System validation"
     ]
    },
    {
     "cell_type": "heading",
     "level": 2,
     "metadata": {
      "slideshow": {
       "slide_type": "subslide"
      }
     },
     "source": [
      "Notebook setup"
     ]
    },
    {
     "cell_type": "markdown",
     "metadata": {},
     "source": [
      "For the C++ code examples in this notebook, we need to import some special \"magic\"."
     ]
    },
    {
     "cell_type": "code",
     "collapsed": false,
     "input": [
      "%reload_ext bp_magic"
     ],
     "language": "python",
     "metadata": {},
     "outputs": [],
     "prompt_number": 3
    },
    {
     "cell_type": "heading",
     "level": 2,
     "metadata": {
      "slideshow": {
       "slide_type": "subslide"
      }
     },
     "source": [
      "Plumbing test"
     ]
    },
    {
     "cell_type": "markdown",
     "metadata": {},
     "source": [
      "First we need to verify that your system can compile and link against Boost.Python. To do this, first compile and run `plumbing_test.cpp`:"
     ]
    },
    {
     "cell_type": "code",
     "collapsed": false,
     "input": [
      "%%bp_program plumbing_test\n",
      "\n",
      "#include <Python.h>\n",
      "\n",
      "#include <iostream>\n",
      "#include <string>\n",
      "\n",
      "#include <boost/python.hpp>\n",
      "\n",
      "namespace bp=boost::python;\n",
      "\n",
      "int main(int, char**) \n",
      "{\n",
      "    Py_Initialize();\n",
      "    bp::object sys = bp::import(\"sys\");\n",
      "    bp::object version = sys.attr(\"version\");\n",
      "    std::cout << bp::extract<std::string>(version)() \n",
      "\t      << std::endl;\n",
      "    return 0;\n",
      "}"
     ],
     "language": "python",
     "metadata": {},
     "outputs": [
      {
       "metadata": {},
       "output_type": "pyout",
       "prompt_number": 4,
       "text": [
        "\"['2.7.6 (default, Mar 10 2014, 21:50:27) ', '[GCC 4.2.1 Compatible Apple LLVM 5.0 (clang-500.2.79)]']\""
       ]
      }
     ],
     "prompt_number": 4
    },
    {
     "cell_type": "markdown",
     "metadata": {},
     "source": [
      "If successful, this will print out the version of Python that you're Boost.Python is built against."
     ]
    },
    {
     "cell_type": "heading",
     "level": 2,
     "metadata": {
      "slideshow": {
       "slide_type": "subslide"
      }
     },
     "source": [
      "Smoke-test module"
     ]
    },
    {
     "cell_type": "markdown",
     "metadata": {},
     "source": [
      "Once the plumbing test works, we need to ensure that you can build a basic Boost.Python-based extension module. Compile `smoke_test.cpp` into a properly named shared library:"
     ]
    },
    {
     "cell_type": "code",
     "collapsed": false,
     "input": [
      "%%bp_module smoke_test\n",
      "\n",
      "#include <boost/python.hpp>\n",
      "\n",
      "int test() { return 42; }\n",
      "\n",
      "BOOST_PYTHON_MODULE(smoke_test)\n",
      "{\n",
      "  boost::python::def(\"test\", test);\n",
      "}"
     ],
     "language": "python",
     "metadata": {},
     "outputs": [],
     "prompt_number": 5
    },
    {
     "cell_type": "markdown",
     "metadata": {},
     "source": [
      "and ensure that it can be imported into Python:"
     ]
    },
    {
     "cell_type": "code",
     "collapsed": false,
     "input": [
      "import smoke_test\n",
      "smoke_test.test()"
     ],
     "language": "python",
     "metadata": {},
     "outputs": [
      {
       "metadata": {},
       "output_type": "pyout",
       "prompt_number": 6,
       "text": [
        "42"
       ]
      }
     ],
     "prompt_number": 6
    },
    {
     "cell_type": "markdown",
     "metadata": {},
     "source": [
      "If you see `42` output from `smoke_test.test()`, then everything is probably working fine."
     ]
    },
    {
     "cell_type": "heading",
     "level": 1,
     "metadata": {
      "slideshow": {
       "slide_type": "slide"
      }
     },
     "source": [
      "Hello world!"
     ]
    },
    {
     "cell_type": "markdown",
     "metadata": {},
     "source": [
      "So let's try our hand and making a very simple module. We'll expose a simple `greet()` function in a module called `hello_world`, and then show how we can make that function progressively more complex."
     ]
    },
    {
     "cell_type": "markdown",
     "metadata": {},
     "source": [
      "Before we can do that, we need to look at some basic Boost.Python API..."
     ]
    },
    {
     "cell_type": "heading",
     "level": 2,
     "metadata": {
      "slideshow": {
       "slide_type": "subslide"
      }
     },
     "source": [
      "The `BOOST_PYTHON_MODULE` macro"
     ]
    },
    {
     "cell_type": "markdown",
     "metadata": {},
     "source": [
      "Python modules are required to expose a specific set of symbols, the naming of which are based upon the module name itself.\n",
      "\n",
      "These symbols refer to tables and structures telling Python how to make names to functions, classes, and so forth.\n",
      "\n",
      "Boost.Python goes to great lengths to make this much easier and more intuitive than the C API.\n",
      "\n",
      "A critical thing that you must do for every module is use the `BOOST_PYTHON_MODULE` macro to generate the required boilerplate. Here's how an empty module looks:"
     ]
    },
    {
     "cell_type": "code",
     "collapsed": false,
     "input": [
      "%%bp_module empty_module\n",
      "\n",
      "#include <boost/python.hpp>\n",
      "\n",
      "BOOST_PYTHON_MODULE(empty_module) {\n",
      "    // module-level symbols are defined here.\n",
      "}"
     ],
     "language": "python",
     "metadata": {},
     "outputs": [],
     "prompt_number": 7
    },
    {
     "cell_type": "markdown",
     "metadata": {},
     "source": [
      "If we import that into Python, we'll see that the module has no contents:"
     ]
    },
    {
     "cell_type": "code",
     "collapsed": false,
     "input": [
      "import empty_module\n",
      "dir(empty_module)"
     ],
     "language": "python",
     "metadata": {},
     "outputs": [
      {
       "metadata": {},
       "output_type": "pyout",
       "prompt_number": 8,
       "text": [
        "['__doc__', '__file__', '__name__', '__package__']"
       ]
      }
     ],
     "prompt_number": 8
    },
    {
     "cell_type": "heading",
     "level": 2,
     "metadata": {
      "slideshow": {
       "slide_type": "subslide"
      }
     },
     "source": [
      "The `BOOST_PYTHON_MODULE` macro: don't pass a quoted string"
     ]
    },
    {
     "cell_type": "markdown",
     "metadata": {
      "slideshow": {
       "slide_type": "-"
      }
     },
     "source": [
      "First, don't pass the module name as a string in quotes. Don't do this:\n",
      "\n",
      "    BOOST_PYTHON_MODULE(\"module_name\")  // WRONG!\n",
      "    \n",
      "but instead leave the quotes off:\n",
      "\n",
      "    BOOST_PYTHON_MODULE(module_name)    // Correct"
     ]
    },
    {
     "cell_type": "heading",
     "level": 2,
     "metadata": {
      "slideshow": {
       "slide_type": "subslide"
      }
     },
     "source": [
      "The `BOOST_PYTHON_MODULE` macro: module name must match library"
     ]
    },
    {
     "cell_type": "markdown",
     "metadata": {
      "slideshow": {
       "slide_type": "-"
      }
     },
     "source": [
      "Second, make sure that the name you use for the module matches the library name you generate. So if you use:\n",
      "\n",
      "    BOOST_PYTHON_MODULE(foobar)\n",
      "    \n",
      "then make sure that your module is named \"foobar\". \n",
      "\n",
      "This means that your library will be named `foobar.so` (or `foobar.dll` or whatever.) "
     ]
    },
    {
     "cell_type": "markdown",
     "metadata": {
      "slideshow": {
       "slide_type": "-"
      }
     },
     "source": [
      "Here's what happens when things don't match up."
     ]
    },
    {
     "cell_type": "code",
     "collapsed": false,
     "input": [
      "%%bp_module different_names\n",
      "\n",
      "#include <boost/python.hpp>\n",
      "\n",
      "BOOST_PYTHON_MODULE(forskjellige_navn) {}"
     ],
     "language": "python",
     "metadata": {
      "slideshow": {
       "slide_type": "-"
      }
     },
     "outputs": [],
     "prompt_number": 10
    },
    {
     "cell_type": "code",
     "collapsed": false,
     "input": [
      "import different_names"
     ],
     "language": "python",
     "metadata": {
      "slideshow": {
       "slide_type": "-"
      }
     },
     "outputs": [
      {
       "ename": "ImportError",
       "evalue": "dynamic module does not define init function (initdifferent_names)",
       "output_type": "pyerr",
       "traceback": [
        "\u001b[0;31m---------------------------------------------------------------------------\u001b[0m\n\u001b[0;31mImportError\u001b[0m                               Traceback (most recent call last)",
        "\u001b[0;32m<ipython-input-11-bc676b99eb20>\u001b[0m in \u001b[0;36m<module>\u001b[0;34m()\u001b[0m\n\u001b[0;32m----> 1\u001b[0;31m \u001b[0;32mimport\u001b[0m \u001b[0mdifferent_names\u001b[0m\u001b[0;34m\u001b[0m\u001b[0m\n\u001b[0m",
        "\u001b[0;31mImportError\u001b[0m: dynamic module does not define init function (initdifferent_names)"
       ]
      }
     ],
     "prompt_number": 11
    },
    {
     "cell_type": "heading",
     "level": 2,
     "metadata": {
      "slideshow": {
       "slide_type": "subslide"
      }
     },
     "source": [
      "The module is executed at import time"
     ]
    },
    {
     "cell_type": "markdown",
     "metadata": {},
     "source": [
      "Like all Python modules, the modules created with Boost.Python are imported and executed dynamically. As such, they can execute initialization and setup code as needed, a technique that can be very useful."
     ]
    },
    {
     "cell_type": "code",
     "collapsed": false,
     "input": [
      "%%bp_module module_init\n",
      "\n",
      "#include <fstream>\n",
      "#include <boost/python.hpp>\n",
      "\n",
      "void initialize() {\n",
      "    std::ofstream ofs(\"module_init.txt\");\n",
      "    ofs << \"Module has been initialized!\";\n",
      "}\n",
      "\n",
      "BOOST_PYTHON_MODULE(module_init) {\n",
      "    initialize();\n",
      "}"
     ],
     "language": "python",
     "metadata": {},
     "outputs": [],
     "prompt_number": 12
    },
    {
     "cell_type": "code",
     "collapsed": false,
     "input": [
      "import os\n",
      "\n",
      "INIT_FILE = 'module_init.txt'\n",
      "\n",
      "# Ensure and verify that the module init file doesn't exist\n",
      "if os.path.exists(INIT_FILE): \n",
      "    os.remove(INIT_FILE)\n",
      "assert not os.path.exists(INIT_FILE)\n",
      "\n",
      "# Import the module\n",
      "import module_init\n",
      "\n",
      "assert os.path.exists(INIT_FILE)\n",
      "with open(INIT_FILE, 'r') as f: \n",
      "    print(f.read())"
     ],
     "language": "python",
     "metadata": {},
     "outputs": [
      {
       "output_type": "stream",
       "stream": "stdout",
       "text": [
        "Module has been initialized!\n"
       ]
      }
     ],
     "prompt_number": 13
    },
    {
     "cell_type": "heading",
     "level": 2,
     "metadata": {
      "slideshow": {
       "slide_type": "subslide"
      }
     },
     "source": [
      "Try it: Make a \"hello world\" module"
     ]
    },
    {
     "cell_type": "markdown",
     "metadata": {},
     "source": [
      "In the file `hello_world.cpp` you'll find a function `greet()` that we want to expose to Python. The first step, before we even expose a function, is to make an importable module. "
     ]
    },
    {
     "cell_type": "markdown",
     "metadata": {},
     "source": [
      "Remember:"
     ]
    },
    {
     "cell_type": "code",
     "collapsed": false,
     "input": [
      "%%snippet\n",
      "\n",
      "#include <boost/python.hpp>\n",
      "\n",
      "BOOST_PYTHON_MODULE(module-name) {}"
     ],
     "language": "python",
     "metadata": {},
     "outputs": [],
     "prompt_number": 17
    },
    {
     "cell_type": "heading",
     "level": 2,
     "metadata": {
      "slideshow": {
       "slide_type": "subslide"
      }
     },
     "source": [
      "Exposing functions"
     ]
    },
    {
     "cell_type": "markdown",
     "metadata": {},
     "source": [
      "You expose functions using `boost::python::def()`. Most commonly you only need to pass the Python name of the function followed by the C++ function name. \n",
      "\n",
      "`def()` must be called *inside* the module macro block to be included in the module. \n",
      "\n",
      "Note how Boost.Python automatically determines the types involved in the function signature. You normally never need to tell it about return or argument types."
     ]
    },
    {
     "cell_type": "code",
     "collapsed": false,
     "input": [
      "%%snippet\n",
      "\n",
      "int cpp_function(const std::string& x) { . . .}\n",
      "\n",
      "BOOST_PYTHON_MODULE(module_name) {\n",
      "    boost::python::def(\"python_name\", cpp_function);\n",
      "}"
     ],
     "language": "python",
     "metadata": {},
     "outputs": [],
     "prompt_number": 18
    },
    {
     "cell_type": "heading",
     "level": 2,
     "metadata": {
      "slideshow": {
       "slide_type": "subslide"
      }
     },
     "source": [
      "Try it: Expose the `greet()` function to Python"
     ]
    },
    {
     "cell_type": "markdown",
     "metadata": {},
     "source": [
      "Update your `hello_world.cpp` to expose the greet function using `def`.\n",
      "\n",
      "Remember:"
     ]
    },
    {
     "cell_type": "code",
     "collapsed": false,
     "input": [
      "%%snippet\n",
      "\n",
      "boost::python::def(\"python_name\", cpp_function);"
     ],
     "language": "python",
     "metadata": {},
     "outputs": [],
     "prompt_number": 27
    },
    {
     "cell_type": "heading",
     "level": 2,
     "metadata": {
      "slideshow": {
       "slide_type": "subslide"
      }
     },
     "source": [
      "Try it: Add a `name` parameter to `greet()`"
     ]
    },
    {
     "cell_type": "markdown",
     "metadata": {},
     "source": [
      "Update your `greet()` function to take a name argument and print that instead of \"world\".\n",
      "\n",
      "Remember:"
     ]
    },
    {
     "cell_type": "code",
     "collapsed": false,
     "input": [
      "%%snippet\n",
      "\n",
      "void greet(const std::string& name)\n",
      "{\n",
      "    std::cout << \"Hello \" + name + \"!\" << std::endl;\n",
      "}"
     ],
     "language": "python",
     "metadata": {},
     "outputs": [],
     "prompt_number": 28
    },
    {
     "cell_type": "heading",
     "level": 2,
     "metadata": {
      "slideshow": {
       "slide_type": "subslide"
      }
     },
     "source": [
      "Try it: Return a string instead of printing it"
     ]
    },
    {
     "cell_type": "markdown",
     "metadata": {},
     "source": [
      "Now have `greet()` return its results rather than print them. "
     ]
    },
    {
     "cell_type": "code",
     "collapsed": false,
     "input": [
      "%%snippet\n",
      "\n",
      "std::string greet(const std::string& name)\n",
      "{\n",
      "    return \"Hello \" + name + \"!\";\n",
      "}"
     ],
     "language": "python",
     "metadata": {},
     "outputs": [],
     "prompt_number": 29
    },
    {
     "cell_type": "markdown",
     "metadata": {},
     "source": [
      "You can now do the printing in Python:"
     ]
    },
    {
     "cell_type": "code",
     "collapsed": false,
     "input": [
      "%%snippet\n",
      "\n",
      "import hello_world\n",
      "\n",
      "g = hello_world.greet(\"World\")\n",
      "print(g)"
     ],
     "language": "python",
     "metadata": {},
     "outputs": [],
     "prompt_number": 30
    },
    {
     "cell_type": "heading",
     "level": 1,
     "metadata": {
      "slideshow": {
       "slide_type": "slide"
      }
     },
     "source": [
      "Example project: Rock-Paper-Scissors"
     ]
    },
    {
     "cell_type": "markdown",
     "metadata": {},
     "source": [
      "We're going to use this as the basis for the rest of the course, exposing it to Python in stages to demonstrate the various techniques you can use for creating extension modules with Boost.Python."
     ]
    },
    {
     "cell_type": "markdown",
     "metadata": {},
     "source": [
      "You'll find a C++ project in `exercises/rps/rps.cpp`. This project implements a simple rock-paper-scissors playing program where two \"player\" classes are pitted against one another for a certain number of rounds."
     ]
    },
    {
     "cell_type": "heading",
     "level": 2,
     "metadata": {
      "slideshow": {
       "slide_type": "subslide"
      }
     },
     "source": [
      "Try it: Add the module definition to the RPS code"
     ]
    },
    {
     "cell_type": "markdown",
     "metadata": {},
     "source": [
      "Remember:"
     ]
    },
    {
     "cell_type": "code",
     "collapsed": false,
     "input": [
      "%%snippet\n",
      "\n",
      "#include <boost/python.hpp>\n",
      "\n",
      "BOOST_PYTHON_MODULE(module-name)\n",
      "{}"
     ],
     "language": "python",
     "metadata": {},
     "outputs": [],
     "prompt_number": 31
    },
    {
     "cell_type": "heading",
     "level": 2,
     "metadata": {
      "slideshow": {
       "slide_type": "subslide"
      }
     },
     "source": [
      "Try it: Expose the `test()` function"
     ]
    },
    {
     "cell_type": "markdown",
     "metadata": {},
     "source": [
      "Remember:"
     ]
    },
    {
     "cell_type": "code",
     "collapsed": false,
     "input": [
      "%%snippet\n",
      "\n",
      "boost::python::def(\"python-name\", cpp-function);"
     ],
     "language": "python",
     "metadata": {},
     "outputs": [],
     "prompt_number": 32
    },
    {
     "cell_type": "heading",
     "level": 2,
     "metadata": {
      "slideshow": {
       "slide_type": "subslide"
      }
     },
     "source": [
      "Try it: Add a `num_rounds` argument to `test()`"
     ]
    },
    {
     "cell_type": "code",
     "collapsed": false,
     "input": [
      "%%snippet\n",
      "\n",
      "std::string test(std::vector<int>::size_type num_rounds)\n",
      "{\n",
      "    . . .\n",
      "    std::vector<int> results = play(p1, p2, num_rounds);\n",
      "    . . .\n",
      "}"
     ],
     "language": "python",
     "metadata": {},
     "outputs": [],
     "prompt_number": 33
    },
    {
     "cell_type": "heading",
     "level": 2,
     "metadata": {
      "slideshow": {
       "slide_type": "subslide"
      }
     },
     "source": [
      "Try it: Add a default value for the `num_rounds` parameter to `test()` "
     ]
    },
    {
     "cell_type": "code",
     "collapsed": false,
     "input": [
      "%%snippet\n",
      "\n",
      "std::string test(std::vector<int>::size_type num_rounds=100) . . ."
     ],
     "language": "python",
     "metadata": {},
     "outputs": [],
     "prompt_number": 34
    },
    {
     "cell_type": "markdown",
     "metadata": {},
     "source": [
      "Test this in Python to see which \"version\" of the function you get."
     ]
    },
    {
     "cell_type": "heading",
     "level": 2,
     "metadata": {
      "slideshow": {
       "slide_type": "subslide"
      }
     },
     "source": [
      "Default argument values"
     ]
    },
    {
     "cell_type": "markdown",
     "metadata": {},
     "source": [
      "Ultimately, there's no way for `def` to know anything about default values, so one strategy for exposing functions with default argument values is to create wrapper functions:"
     ]
    },
    {
     "cell_type": "code",
     "collapsed": false,
     "input": [
      "%%snippet\n",
      "\n",
      "int f(int x=3) { return x * 2; }\n",
      "\n",
      "int f0() { return f(); }\n",
      "\n",
      "BOOST_PYTHON_MODULE(f)\n",
      "{\n",
      "     boost::python::def(\"f\", f0);\n",
      "     boost::python::def(\"f\", f);\n",
      "}"
     ],
     "language": "python",
     "metadata": {},
     "outputs": [],
     "prompt_number": 35
    },
    {
     "cell_type": "markdown",
     "metadata": {},
     "source": [
      "Note how we use the same Python name `f` for both versions of the function. Boost.Python makes this work in Python."
     ]
    },
    {
     "cell_type": "markdown",
     "metadata": {},
     "source": [
      "Also note that this same technique can be used for overloaded functions."
     ]
    },
    {
     "cell_type": "heading",
     "level": 2,
     "metadata": {
      "slideshow": {
       "slide_type": "subslide"
      }
     },
     "source": [
      "Try it: Expose both versions of `test` using manual wrapping"
     ]
    },
    {
     "cell_type": "markdown",
     "metadata": {},
     "source": [
      "Remember:"
     ]
    },
    {
     "cell_type": "code",
     "collapsed": false,
     "input": [
      "%%snippet\n",
      "\n",
      "// Original function\n",
      "int x(int y=3) { . . .}\n",
      "\n",
      "// wrapper function\n",
      "int x0() { return x(); }\n",
      "        \n",
      "// Expose both with the same python name\n",
      "boost::python::def(\"x\", x0);\n",
      "boost::python::def(\"x\", x);"
     ],
     "language": "python",
     "metadata": {},
     "outputs": [],
     "prompt_number": 36
    },
    {
     "cell_type": "heading",
     "level": 2,
     "metadata": {
      "slideshow": {
       "slide_type": "subslide"
      }
     },
     "source": [
      "Default argument values: BOOST_PYTHON_FUNCTION_OVERLOADS"
     ]
    },
    {
     "cell_type": "markdown",
     "metadata": {
      "slideshow": {
       "slide_type": "-"
      }
     },
     "source": [
      "This manual wrapping can be a bit tedious and mechanical, so recent versions of Boost.Python now include the `BOOST_PYTHON_FUNCTION_OVERLOADS` macro for automating this work."
     ]
    },
    {
     "cell_type": "markdown",
     "metadata": {},
     "source": [
      "`BOOST_PYTHON_FUNCTION_OVERLOADS` takes the following arguments:\n",
      "\n",
      " * The name of the overloads class to create\n",
      " * The name of the function with default argument values\n",
      " * The minimum number of arguments the function accepts\n",
      " * The maximum number of arguments the function accepts\n",
      " \n",
      "So a simple volumne calculator module looks something like this:"
     ]
    },
    {
     "cell_type": "code",
     "collapsed": false,
     "input": [
      "%%bp_module volume_defaults\n",
      "\n",
      "#include <boost/python.hpp>\n",
      "\n",
      "double volume(double a, double b, double c, double d=1, double e=1) { return a * b * c * d * e; }\n",
      "\n",
      "BOOST_PYTHON_FUNCTION_OVERLOADS(volume_overloads, volume, 3, 5);\n",
      "\n",
      "BOOST_PYTHON_MODULE(volume_defaults) {\n",
      "    // Notice that def() takes three arguments here.\n",
      "    boost::python::def(\"volume\", volume, volume_overloads());\n",
      "}"
     ],
     "language": "python",
     "metadata": {},
     "outputs": [],
     "prompt_number": 37
    },
    {
     "cell_type": "code",
     "collapsed": false,
     "input": [
      "from volume_defaults import volume\n",
      "\n",
      "print(volume(1, 1, 2))\n",
      "print(volume(3, 5, 8, 13))\n",
      "print(volume(21, 34, 55, 89, 144))"
     ],
     "language": "python",
     "metadata": {
      "slideshow": {
       "slide_type": "fragment"
      }
     },
     "outputs": [
      {
       "output_type": "stream",
       "stream": "stdout",
       "text": [
        "2.0\n",
        "1560.0\n",
        "503284320.0\n"
       ]
      }
     ],
     "prompt_number": 38
    },
    {
     "cell_type": "markdown",
     "metadata": {
      "slideshow": {
       "slide_type": "fragment"
      }
     },
     "source": [
      "And of course the Python function requires a minimum number of arguments:"
     ]
    },
    {
     "cell_type": "code",
     "collapsed": false,
     "input": [
      "print(volume(3, 5))\n"
     ],
     "language": "python",
     "metadata": {
      "slideshow": {
       "slide_type": "fragment"
      }
     },
     "outputs": [
      {
       "ename": "ArgumentError",
       "evalue": "Python argument types in\n    volume_defaults.volume(int, int)\ndid not match C++ signature:\n    volume(double, double, double)\n    volume(double, double, double, double)\n    volume(double, double, double, double, double)",
       "output_type": "pyerr",
       "traceback": [
        "\u001b[0;31m---------------------------------------------------------------------------\u001b[0m\n\u001b[0;31mArgumentError\u001b[0m                             Traceback (most recent call last)",
        "\u001b[0;32m<ipython-input-39-305488c4906f>\u001b[0m in \u001b[0;36m<module>\u001b[0;34m()\u001b[0m\n\u001b[0;32m----> 1\u001b[0;31m \u001b[0;32mprint\u001b[0m\u001b[0;34m(\u001b[0m\u001b[0mvolume\u001b[0m\u001b[0;34m(\u001b[0m\u001b[0;36m3\u001b[0m\u001b[0;34m,\u001b[0m \u001b[0;36m5\u001b[0m\u001b[0;34m)\u001b[0m\u001b[0;34m)\u001b[0m\u001b[0;34m\u001b[0m\u001b[0m\n\u001b[0m",
        "\u001b[0;31mArgumentError\u001b[0m: Python argument types in\n    volume_defaults.volume(int, int)\ndid not match C++ signature:\n    volume(double, double, double)\n    volume(double, double, double, double)\n    volume(double, double, double, double, double)"
       ]
      }
     ],
     "prompt_number": 39
    },
    {
     "cell_type": "markdown",
     "metadata": {
      "slideshow": {
       "slide_type": "fragment"
      }
     },
     "source": [
      "and a maximum:"
     ]
    },
    {
     "cell_type": "code",
     "collapsed": false,
     "input": [
      "print(volume(1, 2, 3, 4, 5, 6))\n"
     ],
     "language": "python",
     "metadata": {
      "slideshow": {
       "slide_type": "fragment"
      }
     },
     "outputs": [
      {
       "ename": "ArgumentError",
       "evalue": "Python argument types in\n    volume_defaults.volume(int, int, int, int, int, int)\ndid not match C++ signature:\n    volume(double, double, double)\n    volume(double, double, double, double)\n    volume(double, double, double, double, double)",
       "output_type": "pyerr",
       "traceback": [
        "\u001b[0;31m---------------------------------------------------------------------------\u001b[0m\n\u001b[0;31mArgumentError\u001b[0m                             Traceback (most recent call last)",
        "\u001b[0;32m<ipython-input-40-b8b8f12ec77c>\u001b[0m in \u001b[0;36m<module>\u001b[0;34m()\u001b[0m\n\u001b[0;32m----> 1\u001b[0;31m \u001b[0;32mprint\u001b[0m\u001b[0;34m(\u001b[0m\u001b[0mvolume\u001b[0m\u001b[0;34m(\u001b[0m\u001b[0;36m1\u001b[0m\u001b[0;34m,\u001b[0m \u001b[0;36m2\u001b[0m\u001b[0;34m,\u001b[0m \u001b[0;36m3\u001b[0m\u001b[0;34m,\u001b[0m \u001b[0;36m4\u001b[0m\u001b[0;34m,\u001b[0m \u001b[0;36m5\u001b[0m\u001b[0;34m,\u001b[0m \u001b[0;36m6\u001b[0m\u001b[0;34m)\u001b[0m\u001b[0;34m)\u001b[0m\u001b[0;34m\u001b[0m\u001b[0m\n\u001b[0m",
        "\u001b[0;31mArgumentError\u001b[0m: Python argument types in\n    volume_defaults.volume(int, int, int, int, int, int)\ndid not match C++ signature:\n    volume(double, double, double)\n    volume(double, double, double, double)\n    volume(double, double, double, double, double)"
       ]
      }
     ],
     "prompt_number": 40
    },
    {
     "cell_type": "markdown",
     "metadata": {},
     "source": [
      "Note that this technique does *not* work for overloaded functions."
     ]
    },
    {
     "cell_type": "heading",
     "level": 2,
     "metadata": {
      "slideshow": {
       "slide_type": "subslide"
      }
     },
     "source": [
      "Try it: Expose `test()` using `BOOST_PYTHON_FUNCTION_OVERLOADS`"
     ]
    },
    {
     "cell_type": "markdown",
     "metadata": {},
     "source": [
      "Remember:"
     ]
    },
    {
     "cell_type": "code",
     "collapsed": false,
     "input": [
      "%%snippet\n",
      "\n",
      "BOOST_PYTHON_FUNCTION_OVERLOADS(overloads-name, function-name, min-args, max-args);\n",
      "\n",
      "boost::python::def(\"python-name\", function-name, overloads-name);"
     ],
     "language": "python",
     "metadata": {},
     "outputs": [],
     "prompt_number": 41
    },
    {
     "cell_type": "heading",
     "level": 1,
     "metadata": {
      "slideshow": {
       "slide_type": "subslide"
      }
     },
     "source": [
      "Exposing classes"
     ]
    },
    {
     "cell_type": "markdown",
     "metadata": {},
     "source": [
      "Just like we use the `def` function to expose functions to Python, Boost.Python provides the `class_<>` template for exposing classes. \n",
      "\n",
      "The basic form for wrapping a class is `class_<ClassToBeWrapped>(\"PythonClassName\")`. For example:"
     ]
    },
    {
     "cell_type": "code",
     "collapsed": false,
     "input": [
      "%%bp_module matrix1\n",
      "\n",
      "#include <boost/python.hpp>\n",
      "\n",
      "namespace matrix1 {\n",
      "                   \n",
      "class Matrix {};\n",
      "\n",
      "}\n",
      "\n",
      "BOOST_PYTHON_MODULE(matrix1) {\n",
      "    using namespace matrix1;\n",
      "    \n",
      "    boost::python::class_<Matrix>(\"Matrix\");\n",
      "}"
     ],
     "language": "python",
     "metadata": {},
     "outputs": [],
     "prompt_number": 42
    },
    {
     "cell_type": "markdown",
     "metadata": {},
     "source": [
      "> *Note on implementation details:* The reason we need to use different names and namespaces - e.g. \"matrix1\" - throughout these example is because of how IPython, Python, and Boost.Python all interact. Don't get confused by these details. What's important to focus on is the evolution of the `Matrix` class and the module definition."
     ]
    },
    {
     "cell_type": "markdown",
     "metadata": {
      "slideshow": {
       "slide_type": "fragment"
      }
     },
     "source": [
      "With this, you can import your module and create new `Matrix` objects in Python:\n"
     ]
    },
    {
     "cell_type": "code",
     "collapsed": false,
     "input": [
      "from matrix1 import Matrix\n",
      "\n",
      "print(Matrix)\n",
      "\n",
      "m = Matrix()\n",
      "print(type(m))\n",
      "print(dir(m))"
     ],
     "language": "python",
     "metadata": {
      "slideshow": {
       "slide_type": "fragment"
      }
     },
     "outputs": [
      {
       "output_type": "stream",
       "stream": "stdout",
       "text": [
        "<class 'matrix1.Matrix'>\n",
        "<class 'matrix1.Matrix'>\n",
        "['__class__', '__delattr__', '__dict__', '__doc__', '__format__', '__getattribute__', '__hash__', '__init__', '__instance_size__', '__module__', '__new__', '__reduce__', '__reduce_ex__', '__repr__', '__setattr__', '__sizeof__', '__str__', '__subclasshook__', '__weakref__']\n"
       ]
      }
     ],
     "prompt_number": 43
    },
    {
     "cell_type": "heading",
     "level": 2,
     "metadata": {
      "slideshow": {
       "slide_type": "subslide"
      }
     },
     "source": [
      "Member functions"
     ]
    },
    {
     "cell_type": "markdown",
     "metadata": {},
     "source": [
      "Exposing empty classes is not that interesting, and of course Boost.Python provides a way to expose member functions.\n",
      "\n",
      "Like normal functions, you use a function called `def()` to expose member functions. This version of `def()` is a member of the value returned by `class_<>`.\n",
      "\n",
      "First let's update our class with some member functions for accessing the size of the `Matrix`:"
     ]
    },
    {
     "cell_type": "code",
     "collapsed": false,
     "input": [
      "%%bp_module matrix2\n",
      "\n",
      "#include <boost/python.hpp>\n",
      "\n",
      "namespace matrix2 {\n",
      "\n",
      "class Matrix {\n",
      "public:\n",
      "    Matrix() : size_x_(0), size_y_(0) {}\n",
      "    unsigned int size_x() const { return size_x_; }\n",
      "    unsigned int size_y() const { return size_y_; }\n",
      "    \n",
      "private:\n",
      "    unsigned int size_x_;\n",
      "    unsigned int size_y_;\n",
      "};\n",
      "\n",
      "}\n",
      "\n",
      "BOOST_PYTHON_MODULE(matrix2) {\n",
      "    using namespace matrix2;\n",
      "    boost::python::class_<Matrix>(\"Matrix\")\n",
      "        .def(\"size_x\", &Matrix::size_x)\n",
      "        .def(\"size_y\", &Matrix::size_y)\n",
      "        ;\n",
      "}"
     ],
     "language": "python",
     "metadata": {},
     "outputs": [],
     "prompt_number": 44
    },
    {
     "cell_type": "markdown",
     "metadata": {
      "slideshow": {
       "slide_type": "fragment"
      }
     },
     "source": [
      "It's still not much of a matrix implementation, but it's getting there. We can see that it works in Python:"
     ]
    },
    {
     "cell_type": "code",
     "collapsed": false,
     "input": [
      "from matrix2 import Matrix\n",
      "\n",
      "m = Matrix()\n",
      "print(m.size_x())\n",
      "print(m.size_y())"
     ],
     "language": "python",
     "metadata": {
      "slideshow": {
       "slide_type": "fragment"
      }
     },
     "outputs": [
      {
       "output_type": "stream",
       "stream": "stdout",
       "text": [
        "0\n",
        "0\n"
       ]
      }
     ],
     "prompt_number": 45
    },
    {
     "cell_type": "heading",
     "level": 1,
     "metadata": {
      "slideshow": {
       "slide_type": "subslide"
      }
     },
     "source": [
      "Constructors"
     ]
    },
    {
     "cell_type": "markdown",
     "metadata": {},
     "source": [
      "An obvious shortcoming of our Matrix implementation so far is that you can only have zero-sized matrices. To allow users to create matrices with positive size, we need to add a constructor to the Matrix class.\n",
      "\n",
      "With Boost.Python you use the `init<>` class to define constructors. `init<>` takes any number (really, up to a practical limit) of template arguments specifying the types of arguments to the constructor.\n",
      "\n",
      "For your class's first constructor, you pass the `init<>` as the second argument of the `class_<>` constructor. For any subsequent constructors, you can call `def()` with `init<>` instances."
     ]
    },
    {
     "cell_type": "markdown",
     "metadata": {
      "slideshow": {
       "slide_type": "fragment"
      }
     },
     "source": [
      "Let's add some proper constructors to our Matrix to see how this works:"
     ]
    },
    {
     "cell_type": "code",
     "collapsed": false,
     "input": [
      "%%bp_module matrix3\n",
      "\n",
      "#include <boost/python.hpp>\n",
      "\n",
      "namespace matrix3 {\n",
      " \n",
      "class Matrix {\n",
      "public:\n",
      "    Matrix(const Matrix& m) : size_x_ (m.size_x()), size_y_(m.size_y()) {}\n",
      "    Matrix(unsigned int x, unsigned int y) : size_x_(x), size_y_(y) {}\n",
      "    unsigned int size_x() const { return size_x_; }\n",
      "    unsigned int size_y() const { return size_y_; }\n",
      "              \n",
      "private:\n",
      "    unsigned int size_x_;\n",
      "    unsigned int size_y_;\n",
      "};\n",
      " \n",
      "}\n",
      "\n",
      "BOOST_PYTHON_MODULE(matrix3) {\n",
      "    using namespace matrix3;\n",
      "    namespace bp=boost::python;\n",
      "    \n",
      "    boost::python::class_<Matrix>(\"Matrix\", bp::init<unsigned int, unsigned int>())\n",
      "        .def(bp::init<const Matrix&>())\n",
      "        .def(\"size_x\", &Matrix::size_x)\n",
      "        .def(\"size_y\", &Matrix::size_y)\n",
      "        ;\n",
      "}"
     ],
     "language": "python",
     "metadata": {
      "slideshow": {
       "slide_type": "fragment"
      }
     },
     "outputs": [],
     "prompt_number": 46
    },
    {
     "cell_type": "markdown",
     "metadata": {
      "slideshow": {
       "slide_type": "fragment"
      }
     },
     "source": [
      "We can see that the two-argument constructor works as expected:"
     ]
    },
    {
     "cell_type": "code",
     "collapsed": false,
     "input": [
      "from matrix3 import Matrix\n",
      "\n",
      "m = Matrix(123, 456)\n",
      "print(m.size_x())\n",
      "print(m.size_y())"
     ],
     "language": "python",
     "metadata": {
      "slideshow": {
       "slide_type": "fragment"
      }
     },
     "outputs": [
      {
       "output_type": "stream",
       "stream": "stdout",
       "text": [
        "123\n",
        "456\n"
       ]
      }
     ],
     "prompt_number": 47
    },
    {
     "cell_type": "markdown",
     "metadata": {
      "slideshow": {
       "slide_type": "fragment"
      }
     },
     "source": [
      "and that the copy constructor version works as well:"
     ]
    },
    {
     "cell_type": "code",
     "collapsed": false,
     "input": [
      "m2 = Matrix(m)\n",
      "print(m2.size_x(), m2.size_y())"
     ],
     "language": "python",
     "metadata": {
      "slideshow": {
       "slide_type": "fragment"
      }
     },
     "outputs": [
      {
       "output_type": "stream",
       "stream": "stdout",
       "text": [
        "(123, 456)\n"
       ]
      }
     ],
     "prompt_number": 48
    },
    {
     "cell_type": "heading",
     "level": 2,
     "metadata": {
      "slideshow": {
       "slide_type": "subslide"
      }
     },
     "source": [
      "Try it: Expose the `Random` class with its `name()` and `setName()` functions"
     ]
    },
    {
     "cell_type": "markdown",
     "metadata": {},
     "source": [
      "Use the `boost::python::class_<>` template to expose the `Random` class. Use the `def()` member of `class_<>` to expose `Random.name()` and `Random.setName()`.\n",
      "\n",
      "Remember:"
     ]
    },
    {
     "cell_type": "code",
     "collapsed": false,
     "input": [
      "%%snippet\n",
      "\n",
      "boost::python::class_<C++-class>(\"Python class name\", \n",
      "                                 boost::python::init<constructor-args, . . .>)\n",
      "    .def(\"python-name\", member-function-pointer)\n",
      "    ;"
     ],
     "language": "python",
     "metadata": {},
     "outputs": [],
     "prompt_number": 49
    },
    {
     "cell_type": "heading",
     "level": 1,
     "metadata": {
      "slideshow": {
       "slide_type": "subslide"
      }
     },
     "source": [
      "Properties"
     ]
    },
    {
     "cell_type": "markdown",
     "metadata": {},
     "source": [
      "Let's look at how we can make our Python APIs a bit more Pythonic with *properties*.\n",
      "\n",
      "Properties don't have a real analogue in C++, but Boost.Python provides the `add_property()` function for adding properties which are backed by C++ functions.\n",
      "\n",
      "`add_property()` takes the property's names as its first argument. The second argument is the function which *gets* the property value, and the optional third argument is the *setter* function."
     ]
    },
    {
     "cell_type": "markdown",
     "metadata": {
      "slideshow": {
       "slide_type": "fragment"
      }
     },
     "source": [
      "Consider a simple simple `Entity` class with a mutable name and immutable id:"
     ]
    },
    {
     "cell_type": "code",
     "collapsed": false,
     "input": [
      "%%bp_module properties\n",
      "\n",
      "#include <boost/python.hpp>\n",
      "#include <string>\n",
      "\n",
      "namespace properties {\n",
      "\n",
      "class Entity {\n",
      "public:\n",
      "    Entity(int id, const std::string& name) : id_(id), name_(name) {}\n",
      "    int id() const { return id_; }\n",
      "    \n",
      "    std::string name() const { return name_; }\n",
      "    void set_name(const std::string& name) { name_ = name; }\n",
      "                    \n",
      "private:\n",
      "    const int id_;\n",
      "    std::string name_;\n",
      "};\n",
      "                      \n",
      "}\n",
      "\n",
      "BOOST_PYTHON_MODULE(properties) {\n",
      "    using namespace properties;\n",
      "    namespace bp=boost::python;\n",
      "    \n",
      "    bp::class_<Entity>(\"Entity\", bp::init<int, const std::string&>())\n",
      "        .add_property(\"id\", &Entity::id)\n",
      "        .add_property(\"name\", &Entity::name, &Entity::set_name)\n",
      "        ;\n",
      "}"
     ],
     "language": "python",
     "metadata": {
      "slideshow": {
       "slide_type": "fragment"
      }
     },
     "outputs": [],
     "prompt_number": 50
    },
    {
     "cell_type": "markdown",
     "metadata": {
      "slideshow": {
       "slide_type": "fragment"
      }
     },
     "source": [
      "Here's how you can access `name` and `id` as properties in Python:"
     ]
    },
    {
     "cell_type": "code",
     "collapsed": false,
     "input": [
      "from properties import Entity\n",
      "\n",
      "i = Entity(96, \"Johnny Allen\")\n",
      "print(i.id, i.name)"
     ],
     "language": "python",
     "metadata": {
      "slideshow": {
       "slide_type": "fragment"
      }
     },
     "outputs": [
      {
       "output_type": "stream",
       "stream": "stdout",
       "text": [
        "(96, 'Johnny Allen')\n"
       ]
      }
     ],
     "prompt_number": 51
    },
    {
     "cell_type": "code",
     "collapsed": false,
     "input": [
      "i.name = \"James Marshall\"\n",
      "print(i.id, i.name)"
     ],
     "language": "python",
     "metadata": {
      "slideshow": {
       "slide_type": "fragment"
      }
     },
     "outputs": [
      {
       "output_type": "stream",
       "stream": "stdout",
       "text": [
        "(96, 'James Marshall')\n"
       ]
      }
     ],
     "prompt_number": 52
    },
    {
     "cell_type": "code",
     "collapsed": false,
     "input": [
      "i.id = 13"
     ],
     "language": "python",
     "metadata": {
      "slideshow": {
       "slide_type": "fragment"
      }
     },
     "outputs": [
      {
       "ename": "AttributeError",
       "evalue": "can't set attribute",
       "output_type": "pyerr",
       "traceback": [
        "\u001b[0;31m---------------------------------------------------------------------------\u001b[0m\n\u001b[0;31mAttributeError\u001b[0m                            Traceback (most recent call last)",
        "\u001b[0;32m<ipython-input-53-400e286b83a0>\u001b[0m in \u001b[0;36m<module>\u001b[0;34m()\u001b[0m\n\u001b[0;32m----> 1\u001b[0;31m \u001b[0mi\u001b[0m\u001b[0;34m.\u001b[0m\u001b[0mid\u001b[0m \u001b[0;34m=\u001b[0m \u001b[0;36m13\u001b[0m\u001b[0;34m\u001b[0m\u001b[0m\n\u001b[0m",
        "\u001b[0;31mAttributeError\u001b[0m: can't set attribute"
       ]
      }
     ],
     "prompt_number": 53
    },
    {
     "cell_type": "heading",
     "level": 2,
     "metadata": {
      "slideshow": {
       "slide_type": "subslide"
      }
     },
     "source": [
      "Try it: Replace `name()` with a read-only property"
     ]
    },
    {
     "cell_type": "markdown",
     "metadata": {},
     "source": [
      "Use a read-only property to replace the `name()` function. Leave `setName()` alone for now.\n",
      "\n",
      "Remember:"
     ]
    },
    {
     "cell_type": "code",
     "collapsed": false,
     "input": [
      "%%snippet\n",
      "\n",
      "class<...>(...)\n",
      "   .add_property(\"property-name\", getter-function)\n",
      "   ;"
     ],
     "language": "python",
     "metadata": {},
     "outputs": [],
     "prompt_number": 54
    },
    {
     "cell_type": "heading",
     "level": 2,
     "metadata": {
      "slideshow": {
       "slide_type": "subslide"
      }
     },
     "source": [
      "Try it: Replace `setName()` with a read-write property"
     ]
    },
    {
     "cell_type": "markdown",
     "metadata": {},
     "source": [
      "Now fold `setName()` into the `name` property as well.\n",
      "\n",
      "Remember:"
     ]
    },
    {
     "cell_type": "code",
     "collapsed": false,
     "input": [
      "%%snippet\n",
      "\n",
      "class<...>(...)\n",
      "   .add_property(\"property-name\", getter-function, setter-function)\n",
      "   ;"
     ],
     "language": "python",
     "metadata": {},
     "outputs": [],
     "prompt_number": 55
    },
    {
     "cell_type": "heading",
     "level": 1,
     "metadata": {
      "slideshow": {
       "slide_type": "subslide"
      }
     },
     "source": [
      "Inheritance"
     ]
    },
    {
     "cell_type": "markdown",
     "metadata": {},
     "source": [
      "Boost.Python allows you specify inheritance relationships between your C++ classes when exposing them to Python.\n",
      "\n",
      "When you do this, the Python classes for derived C++ classes get all of the base Python class's attributes.\n",
      "\n",
      "You express inheritance in Boost.Python by passing a `bases<>` template instantiation as the second template parameter to the `class_<>` template, like this:\n",
      "\n",
      "```\n",
      "class_<SomeClass, bases<BaseClass> >( . . .);\n",
      "```"
     ]
    },
    {
     "cell_type": "markdown",
     "metadata": {
      "slideshow": {
       "slide_type": "fragment"
      }
     },
     "source": [
      "To demonstrate this, let's derive our `Matrix` class from `Entity` (with some modification for readability):"
     ]
    },
    {
     "cell_type": "code",
     "collapsed": false,
     "input": [
      "%%bp_module matrix4\n",
      "\n",
      "#include <boost/python.hpp>\n",
      "#include <string>\n",
      "\n",
      "namespace matrix4 {\n",
      "    \n",
      "struct Entity {\n",
      "    Entity(const int id,\n",
      "           const std::string& name) : id_(id), name_(name) {}\n",
      "    const int id_;\n",
      "    std::string name_;\n",
      "};\n",
      "\n",
      "class Matrix : public Entity {\n",
      "public:\n",
      "    Matrix(unsigned int x, \n",
      "           unsigned int y, \n",
      "           int id, \n",
      "           const std::string& name) : Entity(id, name),\n",
      "                                      size_x_(x), \n",
      "                                      size_y_(y) {}\n",
      "    unsigned int size_x() const { return size_x_; }\n",
      "    unsigned int size_y() const { return size_y_; }\n",
      "              \n",
      "private:\n",
      "    unsigned int size_x_;\n",
      "    unsigned int size_y_;\n",
      "};\n",
      "\n",
      "}\n",
      "\n",
      "BOOST_PYTHON_MODULE(matrix4) {\n",
      "    using namespace matrix4;\n",
      "    namespace bp=boost::python;\n",
      "    \n",
      "    bp::class_<Entity>(\"Entity\", bp::init<int, const std::string&>())\n",
      "        .def_readonly(\"id\", &Entity::id_)\n",
      "        .def_readwrite(\"name\", &Entity::name_)\n",
      "        ;\n",
      "        \n",
      "    bp::class_<Matrix, bp::bases<Entity> >(\"Matrix\", \n",
      "                                           bp::init<unsigned int, \n",
      "                                                    unsigned int, \n",
      "                                                    int, \n",
      "                                                    const std::string&>())\n",
      "        .def(\"size_x\", &Matrix::size_x)\n",
      "        .def(\"size_y\", &Matrix::size_y)\n",
      "        ;\n",
      "}"
     ],
     "language": "python",
     "metadata": {
      "slideshow": {
       "slide_type": "fragment"
      }
     },
     "outputs": [],
     "prompt_number": 56
    },
    {
     "cell_type": "markdown",
     "metadata": {
      "slideshow": {
       "slide_type": "fragment"
      }
     },
     "source": [
      "Now if we create a Matrix in Python, we can see that it has all of the attribute of an Entity:"
     ]
    },
    {
     "cell_type": "code",
     "collapsed": false,
     "input": [
      "from matrix4 import Matrix\n",
      "\n",
      "m = Matrix(100, 200, 5, \"important data\")\n",
      "print(m.size_x(), m.size_y())\n",
      "print(m.id, m.name)"
     ],
     "language": "python",
     "metadata": {
      "slideshow": {
       "slide_type": "fragment"
      }
     },
     "outputs": [
      {
       "output_type": "stream",
       "stream": "stdout",
       "text": [
        "(100, 200)\n",
        "(5, 'important data')\n"
       ]
      }
     ],
     "prompt_number": 57
    },
    {
     "cell_type": "heading",
     "level": 2,
     "metadata": {
      "slideshow": {
       "slide_type": "subslide"
      }
     },
     "source": [
      "Try it: Expose `Player` and use it as a base class for `Random` and `TitForTat`"
     ]
    },
    {
     "cell_type": "markdown",
     "metadata": {},
     "source": [
      "Expose the `Player` base class using `class_<>`. \n",
      "\n",
      "Note that since `Player` is abstract, you must pass `noncopyable` to the `class_<>` template and `no_init` as the constructor.\n",
      "\n",
      "Remember:"
     ]
    },
    {
     "cell_type": "code",
     "collapsed": false,
     "input": [
      "%%snippet\n",
      "\n",
      "bp::class_<abstract-class, boost::noncopyable>(\"PythonName\",\n",
      "                                               bp::no_init)\n",
      "    . . .\n",
      "    ;\n",
      "    \n",
      "bp::class_<class-name, bp::bases<base-class, . . .> >(\"PythonName\", . . .)\n",
      "    . . .\n",
      "    ;"
     ],
     "language": "python",
     "metadata": {},
     "outputs": [],
     "prompt_number": 58
    },
    {
     "cell_type": "heading",
     "level": 2,
     "metadata": {
      "slideshow": {
       "slide_type": "subslide"
      }
     },
     "source": [
      "Enums"
     ]
    },
    {
     "cell_type": "markdown",
     "metadata": {},
     "source": [
      "Boost.Python provides a way to expose C++ `enum`s in Python even though Python doesn't have a native notion of `enum`s.\n",
      "\n",
      "As you might have guessed, you do this by using the `enum_<>` template. This takes the C++ enum as its argument, and it allows you to add Python attributes which map to constant values in C++.\n",
      "\n",
      "Here's a simple example of this looks:"
     ]
    },
    {
     "cell_type": "code",
     "collapsed": false,
     "input": [
      "%%bp_module enums\n",
      "\n",
      "#include <boost/python.hpp>\n",
      "\n",
      "// The obvious choices for projections...\n",
      "enum Projection {\n",
      "    Mercator,\n",
      "    Dymaxion,\n",
      "    Sinusoidal\n",
      "};\n",
      "\n",
      "BOOST_PYTHON_MODULE(enums) {\n",
      "    boost::python::enum_<Projection>(\"Projection\")\n",
      "        .value(\"Mercator\", Mercator)\n",
      "        .value(\"Dymaxion\", Dymaxion)\n",
      "        .value(\"Sinusoidal\", Sinusoidal)\n",
      "        ;\n",
      "}"
     ],
     "language": "python",
     "metadata": {
      "slideshow": {
       "slide_type": "fragment"
      }
     },
     "outputs": [],
     "prompt_number": 59
    },
    {
     "cell_type": "code",
     "collapsed": false,
     "input": [
      "import enums\n",
      "\n",
      "print('Class:' ,enums.Projection)\n",
      "print('names:', enums.Projection.names)\n",
      "print('Mercator:', enums.Projection.Mercator)\n",
      "print('Mercator == 0?', enums.Projection.Mercator == 0)\n",
      "print('Dymaxion value:', int(enums.Projection.Dymaxion))"
     ],
     "language": "python",
     "metadata": {
      "slideshow": {
       "slide_type": "fragment"
      }
     },
     "outputs": [
      {
       "output_type": "stream",
       "stream": "stdout",
       "text": [
        "('Class:', <class 'enums.Projection'>)\n",
        "('names:', {'Dymaxion': enums.Projection.Dymaxion, 'Sinusoidal': enums.Projection.Sinusoidal, 'Mercator': enums.Projection.Mercator})\n",
        "('Mercator:', enums.Projection.Mercator)\n",
        "('Mercator == 0?', True)\n",
        "('Dymaxion value:', 1)\n"
       ]
      }
     ],
     "prompt_number": 60
    },
    {
     "cell_type": "heading",
     "level": 2,
     "metadata": {
      "slideshow": {
       "slide_type": "subslide"
      }
     },
     "source": [
      "Try it: Expose the `Move` enum"
     ]
    },
    {
     "cell_type": "markdown",
     "metadata": {},
     "source": [
      "Expose the `Move` enum along with the `score(Move, Move)` function.\n",
      "\n",
      "Remember:"
     ]
    },
    {
     "cell_type": "code",
     "collapsed": false,
     "input": [
      "%%snippet\n",
      "\n",
      "boost::python::enum_<cpp-enum>(\"EnumName\")\n",
      "    .value(\"python-name\", c++-value)\n",
      "    . . .\n",
      "    ;\n",
      "    \n",
      "boost::python::def(\"python-name\", function);"
     ],
     "language": "python",
     "metadata": {},
     "outputs": [],
     "prompt_number": 61
    },
    {
     "cell_type": "heading",
     "level": 1,
     "metadata": {
      "slideshow": {
       "slide_type": "slide"
      }
     },
     "source": [
      "Derived object types"
     ]
    },
    {
     "cell_type": "markdown",
     "metadata": {},
     "source": [
      "Boost.Python provides a number of `boost::python::object` subclasses which we can use in C++ for interacting with standard Python types like `list`, `dict`, and `tuple`.\n",
      "\n",
      "These can be useful if you want to accept standard Python types in your C++ code, or if you want to pass them back from C++ functions."
     ]
    },
    {
     "cell_type": "code",
     "collapsed": false,
     "input": [
      "%%bp_module list_example\n",
      "\n",
      "#include <boost/python.hpp>\n",
      "\n",
      "namespace bp=boost::python;\n",
      "        \n",
      "int expensive_computation(int x, int factor) {\n",
      "    // This is a fake expensive computation\n",
      "    return x * factor;\n",
      "}\n",
      "\n",
      "bp::list run_calculation(bp::list values, int factor) {\n",
      "    bp::list rslt;\n",
      "    for (int idx = 0; idx < bp::len(values); ++idx) {  \n",
      "        int val = bp::extract<int>(values[idx]);\n",
      "        rslt.append(\n",
      "            bp::make_tuple(\n",
      "                val, \n",
      "                expensive_computation(val, factor)));\n",
      "    }\n",
      "    return rslt;\n",
      "}\n",
      "    \n",
      "BOOST_PYTHON_MODULE(list_example) {\n",
      "    bp::def(\"run_calculation\", &run_calculation);\n",
      "}"
     ],
     "language": "python",
     "metadata": {
      "slideshow": {
       "slide_type": "fragment"
      }
     },
     "outputs": [],
     "prompt_number": 62
    },
    {
     "cell_type": "code",
     "collapsed": false,
     "input": [
      "from list_example import run_calculation\n",
      "\n",
      "data = list(range(10))\n",
      "run_calculation(data, 3)"
     ],
     "language": "python",
     "metadata": {
      "slideshow": {
       "slide_type": "fragment"
      }
     },
     "outputs": [
      {
       "metadata": {},
       "output_type": "pyout",
       "prompt_number": 63,
       "text": [
        "[(0, 0),\n",
        " (1, 3),\n",
        " (2, 6),\n",
        " (3, 9),\n",
        " (4, 12),\n",
        " (5, 15),\n",
        " (6, 18),\n",
        " (7, 21),\n",
        " (8, 24),\n",
        " (9, 27)]"
       ]
      }
     ],
     "prompt_number": 63
    },
    {
     "cell_type": "markdown",
     "metadata": {
      "slideshow": {
       "slide_type": "fragment"
      }
     },
     "source": [
      "Full details on Boost.Python's derived types can be found in [the documentation](http://www.boost.org/doc/libs/1_55_0/libs/python/doc/tutorial/doc/html/python/object.html#python.derived_object_types)."
     ]
    },
    {
     "cell_type": "heading",
     "level": 2,
     "metadata": {
      "slideshow": {
       "slide_type": "subslide"
      }
     },
     "source": [
      "Try it: Expose `play()` using a `boost::python::list`"
     ]
    },
    {
     "cell_type": "markdown",
     "metadata": {},
     "source": [
      "The `play()` function returns a `std::vector` which we can't use directly in Python.\n",
      "\n",
      "You can wrap `play()` in a function called `py_play()` and have it return a `boost::python::list` rather than a vector.\n",
      "\n",
      "Remember:"
     ]
    },
    {
     "cell_type": "code",
     "collapsed": false,
     "input": [
      "%%snippet\n",
      "\n",
      "boost::python::def(\"python-name\", function);\n",
      "                \n",
      "boost::python::list l;\n",
      "l.append(some-value);"
     ],
     "language": "python",
     "metadata": {},
     "outputs": [],
     "prompt_number": 64
    },
    {
     "cell_type": "heading",
     "level": 1,
     "metadata": {
      "slideshow": {
       "slide_type": "subslide"
      }
     },
     "source": [
      "Data members"
     ]
    },
    {
     "cell_type": "markdown",
     "metadata": {},
     "source": [
      "Boost.Python also allows you to expose C++ data members.\n",
      "\n",
      "Use the `def_readonly` and `def_readwrite` functions of `class_<>` to add read-only and read-write data members, respectively.\n",
      "\n",
      "To demonstrate this, let's modify our `Entity` class to directly expose its data:"
     ]
    },
    {
     "cell_type": "code",
     "collapsed": false,
     "input": [
      "%%bp_module data_members\n",
      "\n",
      "#include <boost/python.hpp>\n",
      "#include <string>\n",
      "\n",
      "namespace data_members {\n",
      "    \n",
      "struct Entity {\n",
      "    Entity(const int id,\n",
      "                 const std::string& name) : id_(id), name_(name) {}\n",
      "    const int id_;\n",
      "    std::string name_;\n",
      "};\n",
      "\n",
      "}\n",
      "\n",
      "BOOST_PYTHON_MODULE(data_members) {\n",
      "    using namespace data_members;\n",
      "    namespace bp=boost::python;\n",
      "    \n",
      "    bp::class_<Entity>(\"Entity\", bp::init<int, const std::string&>())\n",
      "        .def_readonly(\"id\", &Entity::id_)\n",
      "        .def_readwrite(\"name\", &Entity::name_)\n",
      "        ;\n",
      "}"
     ],
     "language": "python",
     "metadata": {},
     "outputs": [],
     "prompt_number": 65
    },
    {
     "cell_type": "markdown",
     "metadata": {
      "slideshow": {
       "slide_type": "fragment"
      }
     },
     "source": [
      "In Python we can see that these data members are exposed as we expect:"
     ]
    },
    {
     "cell_type": "code",
     "collapsed": false,
     "input": [
      "from data_members import Entity\n",
      "\n",
      "i = Entity(4, \"Fred\")\n",
      "print(i.id, i.name)"
     ],
     "language": "python",
     "metadata": {
      "slideshow": {
       "slide_type": "fragment"
      }
     },
     "outputs": [
      {
       "output_type": "stream",
       "stream": "stdout",
       "text": [
        "(4, 'Fred')\n"
       ]
      }
     ],
     "prompt_number": 66
    },
    {
     "cell_type": "markdown",
     "metadata": {
      "slideshow": {
       "slide_type": "fragment"
      }
     },
     "source": [
      "We can edit the `name` field:"
     ]
    },
    {
     "cell_type": "code",
     "collapsed": false,
     "input": [
      "i.name = \"Fredrick\"\n",
      "print(i.id, i.name)"
     ],
     "language": "python",
     "metadata": {
      "slideshow": {
       "slide_type": "fragment"
      }
     },
     "outputs": [
      {
       "output_type": "stream",
       "stream": "stdout",
       "text": [
        "(4, 'Fredrick')\n"
       ]
      }
     ],
     "prompt_number": 67
    },
    {
     "cell_type": "markdown",
     "metadata": {
      "slideshow": {
       "slide_type": "fragment"
      }
     },
     "source": [
      "but not the id:"
     ]
    },
    {
     "cell_type": "code",
     "collapsed": false,
     "input": [
      "i.id = 1234"
     ],
     "language": "python",
     "metadata": {
      "slideshow": {
       "slide_type": "fragment"
      }
     },
     "outputs": [
      {
       "ename": "AttributeError",
       "evalue": "can't set attribute",
       "output_type": "pyerr",
       "traceback": [
        "\u001b[0;31m---------------------------------------------------------------------------\u001b[0m\n\u001b[0;31mAttributeError\u001b[0m                            Traceback (most recent call last)",
        "\u001b[0;32m<ipython-input-68-fabc4c2fa401>\u001b[0m in \u001b[0;36m<module>\u001b[0;34m()\u001b[0m\n\u001b[0;32m----> 1\u001b[0;31m \u001b[0mi\u001b[0m\u001b[0;34m.\u001b[0m\u001b[0mid\u001b[0m \u001b[0;34m=\u001b[0m \u001b[0;36m1234\u001b[0m\u001b[0;34m\u001b[0m\u001b[0m\n\u001b[0m",
        "\u001b[0;31mAttributeError\u001b[0m: can't set attribute"
       ]
      }
     ],
     "prompt_number": 68
    },
    {
     "cell_type": "heading",
     "level": 2,
     "metadata": {
      "slideshow": {
       "slide_type": "subslide"
      }
     },
     "source": [
      "Try it: Expose `Round` with immutable data members"
     ]
    },
    {
     "cell_type": "markdown",
     "metadata": {},
     "source": [
      "Expose the `Round` struct using `class_<>`, exposing its members as read-only data members.\n",
      "\n",
      "Remember:"
     ]
    },
    {
     "cell_type": "code",
     "collapsed": false,
     "input": [
      "%%snippet\n",
      "\n",
      "boost::python::class_<class-name>(\"PythonName\", boost::python::init<arg, . . .>)\n",
      "    .def_readonly(\"attr-name\", data-member)\n",
      "    ;"
     ],
     "language": "python",
     "metadata": {},
     "outputs": [],
     "prompt_number": 69
    },
    {
     "cell_type": "heading",
     "level": 2,
     "metadata": {
      "slideshow": {
       "slide_type": "subslide"
      }
     },
     "source": [
      "Try it: Create a `Player` subclass that delegates to a `boost::python::object`"
     ]
    },
    {
     "cell_type": "markdown",
     "metadata": {},
     "source": [
      "Create a `Player` subclass in C++ which delegates its `nextMove` functionality to a Python object.\n",
      "\n",
      "Remember:\n",
      "\n",
      " * `boost::python::object` is a C++ type that can refer to any Python object\n",
      " * `std::vector` can't be passed across the C++/Python boundary, but boost::python::list can"
     ]
    },
    {
     "cell_type": "code",
     "collapsed": false,
     "input": [
      "%%snippet\n",
      "\n",
      "// objects can be constructed from any type\n",
      "boost::python::object obj(<any type>);\n",
      "                \n",
      "// attribute access is done via the `attr()` method\n",
      "boost::python:object result = obj.attr(\"attr_name\");\n",
      "            \n",
      "// objects are callable, though the underlying Python object may not be\n",
      "boost::python::object r2 = result();\n",
      "                \n",
      "// Append to boost::python::list with append()\n",
      "boost::python::list l;\n",
      "l.append(\"some value\");\n"
     ],
     "language": "python",
     "metadata": {},
     "outputs": [],
     "prompt_number": 70
    },
    {
     "cell_type": "heading",
     "level": 1,
     "metadata": {
      "slideshow": {
       "slide_type": "slide"
      }
     },
     "source": [
      "Type Conversion"
     ]
    },
    {
     "cell_type": "markdown",
     "metadata": {},
     "source": [
      "Often you can rely on the type-conversion support created automatically by Boost.Python. For example, when you use the `class_<>` template, Boost.Python ensures that your wrapped C++ type can cross the Python/C++ boundary without any extra work.\n",
      "\n",
      "There are times, however, when you might need to create explicit converters for your types. These converters are invoked when:\n",
      "\n",
      " * you construct an `bp::object` from a C++ object\n",
      " * you use `bp::extract<>` to convert a Python object into C++"
     ]
    },
    {
     "cell_type": "markdown",
     "metadata": {
      "slideshow": {
       "slide_type": "fragment"
      }
     },
     "source": [
      "To create a converter, you need to implement three functions:\n",
      "\n",
      " * A function to convert from your C++ type into a `PyObject`\n",
      " * A function to check if a Python object can be converted into your C++ type\n",
      " * A function to convert a Python object into your C++ type\n",
      " \n",
      " Likewise, you need to register these converters with the Boost.Python runtime. Let's see how all of that looks."
     ]
    },
    {
     "cell_type": "heading",
     "level": 2,
     "metadata": {
      "slideshow": {
       "slide_type": "subslide"
      }
     },
     "source": [
      "A simple `Coordinate` class"
     ]
    },
    {
     "cell_type": "markdown",
     "metadata": {},
     "source": [
      "We will use this simple `Coordinate` class to demonstrate conversion. We want to be able to convert this class to and from Python tuples. Specifically, we want to convert to and from Python tuples of size 2 containing numeric values.\n",
      "\n",
      "Here's the class itself:"
     ]
    },
    {
     "cell_type": "code",
     "collapsed": false,
     "input": [
      "%%snippet\n",
      "\n",
      "struct Coordinate {\n",
      "    Coordinate(long xin, long yin) : x(xin), y(yin) {}\n",
      "    long x;\n",
      "    long y;\n",
      "};"
     ],
     "language": "python",
     "metadata": {},
     "outputs": [],
     "prompt_number": 71
    },
    {
     "cell_type": "heading",
     "level": 2,
     "metadata": {
      "slideshow": {
       "slide_type": "subslide"
      }
     },
     "source": [
      "A to-python converter"
     ]
    },
    {
     "cell_type": "markdown",
     "metadata": {},
     "source": [
      "A to-python converter is a function that takes your C++ type as an argument and returns a new `PyObject`. This function must be a static function named `convert` on a struct or class.\n",
      "\n",
      "A to-python converter for our `Coordinate` looks like this:"
     ]
    },
    {
     "cell_type": "code",
     "collapsed": false,
     "input": [
      "%%snippet\n",
      "\n",
      "struct Coordinate_to_tuple\n",
      "{\n",
      "    static PyObject* convert(const Coordinate& c)\n",
      "        {\n",
      "            return bp::incref<>(\n",
      "                bp::make_tuple(c.x, c.y).ptr());\n",
      "        }\n",
      "};"
     ],
     "language": "python",
     "metadata": {},
     "outputs": [],
     "prompt_number": 72
    },
    {
     "cell_type": "markdown",
     "metadata": {
      "slideshow": {
       "slide_type": "fragment"
      }
     },
     "source": [
      "Notice how we create a Boost.Python managed tuple, extract it's `PyObject` pointer, and `incref` that pointer before returning it.\n",
      "\n",
      "We do this `incref` because otherwise Python will garbage collect the tuple object after the Boost.Python objects in this function destruct."
     ]
    },
    {
     "cell_type": "markdown",
     "metadata": {
      "slideshow": {
       "slide_type": "fragment"
      }
     },
     "source": [
      "To register this converter with Boost.Python, use `bp::to_python_converter` like this:"
     ]
    },
    {
     "cell_type": "code",
     "collapsed": false,
     "input": [
      "%%snippet\n",
      "\n",
      "bp::to_python_converter<\n",
      "        Coordinate,\n",
      "        Coordinate_to_tuple>();"
     ],
     "language": "python",
     "metadata": {
      "slideshow": {
       "slide_type": "fragment"
      }
     },
     "outputs": [],
     "prompt_number": 73
    },
    {
     "cell_type": "heading",
     "level": 2,
     "metadata": {
      "slideshow": {
       "slide_type": "subslide"
      }
     },
     "source": [
      "Testing for from-python convertibility"
     ]
    },
    {
     "cell_type": "markdown",
     "metadata": {},
     "source": [
      "The next piece of functionality we need is a function to test if a `PyObject` can be converted into our C++ type. This will be invoked when `bp::extract<>` used to create a C++ object from a Python object.\n",
      "\n",
      "A convertibility test function must accept a `PyObject*` as its only argument. It should return `0` if the `PyObject` can not be converted to the requested C++ type. Otherwise it should return the `PyObject*` argument.\n",
      "\n",
      "A convertbility tester for our `Coordinate` looks like this:"
     ]
    },
    {
     "cell_type": "code",
     "collapsed": false,
     "input": [
      "%%snippet\n",
      "\n",
      "static void* convertible(PyObject* obj_ptr)\n",
      "{\n",
      "    if (!PyTuple_Check(obj_ptr)) return 0;\n",
      "    if (PyTuple_Size(obj_ptr) != 2) return 0;\n",
      "    if (!PyNumber_Check(PyTuple_GetItem(obj_ptr, 0))) return 0;\n",
      "    if (!PyNumber_Check(PyTuple_GetItem(obj_ptr, 1))) return 0;\n",
      "\n",
      "    return obj_ptr;\n",
      "}"
     ],
     "language": "python",
     "metadata": {
      "slideshow": {
       "slide_type": "fragment"
      }
     },
     "outputs": [],
     "prompt_number": 74
    },
    {
     "cell_type": "heading",
     "level": 2,
     "metadata": {
      "slideshow": {
       "slide_type": "subslide"
      }
     },
     "source": [
      "Converting from Python to C++"
     ]
    },
    {
     "cell_type": "markdown",
     "metadata": {},
     "source": [
      "The final piece of conversion machinery is the from-python converter function which takes the `PyObject` and converts it into a C++ object.\n",
      "\n",
      "This ultimately involves performing an in-place construction using memory provided to you by the Boost.Python runtime. The details are a bit complex, but fortunately it's not necessary to understand them deeply. Instead, you can simply follow this example and replace the types as needed in your own code:"
     ]
    },
    {
     "cell_type": "code",
     "collapsed": false,
     "input": [
      "%%snippet\n",
      "\n",
      "static void construct(\n",
      "    PyObject* obj_ptr,\n",
      "    bp::converter::rvalue_from_python_stage1_data* data)\n",
      "{\n",
      "    // Extract integral values from tuple\n",
      "    long x_coord = PyLong_AsLong(PyNumber_Long(PyTuple_GetItem(obj_ptr, 0)));\n",
      "    long y_coord = PyLong_AsLong(PyNumber_Long(PyTuple_GetItem(obj_ptr, 1)));\n",
      "\n",
      "    // Grab pointer to memory into which to construct the new Coordinate\n",
      "    void* storage = (\n",
      "        bp::converter::rvalue_from_python_storage<Coordinate>*)\n",
      "        data)->storage.bytes;\n",
      "\n",
      "    // in-place construct the new Coordinate using the numbers\n",
      "    // extracted from the python object\n",
      "    new (storage) Coordinate(x_coord, y_coord);\n",
      "\n",
      "    // Stash the memory chunk pointer for later use by boost.python\n",
      "    data->convertible = storage;\n",
      "}"
     ],
     "language": "python",
     "metadata": {},
     "outputs": [],
     "prompt_number": 75
    },
    {
     "cell_type": "heading",
     "level": 2,
     "metadata": {
      "slideshow": {
       "slide_type": "subslide"
      }
     },
     "source": [
      "Registering from-python converters"
     ]
    },
    {
     "cell_type": "markdown",
     "metadata": {},
     "source": [
      "To register your from-python converters with Boost.Python, use `bp::converter::registry::push_back` with your functions and the type-id of your C++ class. That looks like this:"
     ]
    },
    {
     "cell_type": "code",
     "collapsed": false,
     "input": [
      "%%snippet\n",
      "\n",
      "bp::converter::registry::push_back(\n",
      "    &convertible,\n",
      "    &construct,\n",
      "    bp::type_id<Coordinate>());"
     ],
     "language": "python",
     "metadata": {},
     "outputs": [],
     "prompt_number": 76
    },
    {
     "cell_type": "markdown",
     "metadata": {},
     "source": [
      "The full code for this example can be found [in this gist](https://gist.github.com/anonymous/9687369)."
     ]
    },
    {
     "cell_type": "heading",
     "level": 2,
     "metadata": {
      "slideshow": {
       "slide_type": "subslide"
      }
     },
     "source": [
      "Try it: Write a to-python converter for `Round`"
     ]
    },
    {
     "cell_type": "markdown",
     "metadata": {},
     "source": [
      "We'd like `Round` to be represented in Python as a simple tuple.\n",
      "\n",
      "The first thing we need to do is implement and register a to-python converter.\n",
      "\n",
      "Remember:"
     ]
    },
    {
     "cell_type": "code",
     "collapsed": false,
     "input": [
      "%%snippet\n",
      "\n",
      "struct Any_name\n",
      "{\n",
      "    static PyObject* convert(const class-to-convert& c)\n",
      "        {\n",
      "            // code to convert c to PyObject*\n",
      "            return bp::incref<>(\n",
      "                bp::make_tuple(c.x, c.y).ptr());\n",
      "        }\n",
      "};\n",
      "\n",
      "// Creates a new Python tuple\n",
      "boost::python::make_tuple(arg1, . . .)\n",
      "\n",
      "// returns the PyObject* held by a boost::python::object\n",
      "boost::python::object::ptr()\n",
      "                        \n",
      "// Increments the ref-count on a PyObject*\n",
      "boost::python::incref<>(PyObject* . . .);\n",
      "                \n",
      "bp::to_python_converter<\n",
      "        class-name,\n",
      "        converter-struct>();"
     ],
     "language": "python",
     "metadata": {},
     "outputs": [],
     "prompt_number": 77
    },
    {
     "cell_type": "heading",
     "level": 2,
     "metadata": {
      "slideshow": {
       "slide_type": "subslide"
      }
     },
     "source": [
      "Try it: Write a `convertible` function"
     ]
    },
    {
     "cell_type": "markdown",
     "metadata": {},
     "source": [
      "This is actually fairly complex, but at least give it some thought.\n",
      "\n",
      "You can find a complete answer in the course materials.\n",
      "\n",
      "Remember:"
     ]
    },
    {
     "cell_type": "code",
     "collapsed": false,
     "input": [
      "%%snippet\n",
      "\n",
      "void* convertible(PyObject* obj) { . . . }\n",
      "\n",
      "PyTuple_Check(tuple-object-pointer);\n",
      "PyTuple_Size(tuple-object-pointer);\n",
      "PyTuple_GetItem(tuple-object-point, index);\n",
      "\n",
      "PyObject_IsInstance(object-ptr, class-object-ptr);\n",
      "\n",
      "boost::python::import(\"module-name\");"
     ],
     "language": "python",
     "metadata": {},
     "outputs": [],
     "prompt_number": 78
    },
    {
     "cell_type": "heading",
     "level": 2,
     "metadata": {
      "slideshow": {
       "slide_type": "subslide"
      }
     },
     "source": [
      "Try it: Write a from-python converter function"
     ]
    },
    {
     "cell_type": "markdown",
     "metadata": {},
     "source": [
      "This is also substantially more complex than we probably want to tackle in this workshop.\n",
      "\n",
      "A complete answer is in the course materials.\n",
      "\n",
      "Remember:"
     ]
    },
    {
     "cell_type": "code",
     "collapsed": false,
     "input": [
      "%%snippet\n",
      "\n",
      "static void construct(\n",
      "    PyObject* obj_ptr,\n",
      "    bp::converter::rvalue_from_python_stage1_data* data)\n",
      "{\n",
      "    . . .\n",
      "    \n",
      "    // Grab pointer to memory into which to construct the new object\n",
      "    void* storage = (\n",
      "        (bp::converter::rvalue_from_python_storage<object-type>*)\n",
      "        data)->storage.bytes;\n",
      "\n",
      "    // in-place construct the new object\n",
      "    new (storage) class-name(arg1, . . .);\n",
      "\n",
      "    // Stash the memory chunk pointer for later use by boost.python\n",
      "    data->convertible = storage;\n",
      "}\n",
      "\n",
      "// How to take a reference to a borrowed object\n",
      "boost::python::object(\n",
      "    boost::python::handle<>(\n",
      "        boost::python::borrowed(PyObject*)))\n",
      "                \n",
      "bp::converter::registry::push_back(\n",
      "    &convertible,\n",
      "    &construct,\n",
      "    bp::type_id<class-name>());"
     ],
     "language": "python",
     "metadata": {},
     "outputs": [],
     "prompt_number": 79
    },
    {
     "cell_type": "heading",
     "level": 1,
     "metadata": {
      "slideshow": {
       "slide_type": "subslide"
      }
     },
     "source": [
      "Subclassing C++ classes in Python with `boost::python::wrapper`"
     ]
    },
    {
     "cell_type": "markdown",
     "metadata": {},
     "source": [
      "In some cases it's convenient to be able to create classes in Python which inherit from C++ classes and which implement virtual functions exposed from C++, event pure abstract functions.\n",
      "\n",
      "This requires a certain amount of scaffolding because you can't instantiate an abstract class, but that would be required for Python inheritance.\n",
      "\n",
      "Boost.Python provides the `boost::python::wrapper<>` class for this purpose. It allows you to implement the virtual functions in C++ in a special wrapper class, and then to have those calls routed to the function implemented in Python.\n",
      "\n",
      "It looks like this:"
     ]
    },
    {
     "cell_type": "code",
     "collapsed": false,
     "input": [
      "%%bp_module base_wrapper\n",
      "\n",
      "#include <boost/python.hpp>\n",
      "\n",
      "#include <iostream>\n",
      "\n",
      "namespace bp=boost::python;\n",
      "\n",
      "class Base\n",
      "{\n",
      "public:\n",
      "    virtual int f(int x) const  = 0;\n",
      "};\n",
      "\n",
      "int runBase(const Base& b, int x) \n",
      "{\n",
      "    return b.f(x);\n",
      "} \n",
      "\n",
      "class BaseWrapper : public Base, public bp::wrapper<Base>\n",
      "{\n",
      "public:\n",
      "    int f(int x) const\n",
      "    {\n",
      "        return this->get_override(\"f\")(x);\n",
      "    }\n",
      "};\n",
      "\n",
      "BOOST_PYTHON_MODULE(base_wrapper)\n",
      "{\n",
      "    bp::def(\"run_base\", &runBase);\n",
      " \n",
      "    bp::class_<BaseWrapper, boost::noncopyable>(\"Base\",\n",
      "                                                bp::init<>())\n",
      "        .def(\"f\", &BaseWrapper::f)\n",
      "        ;\n",
      "}"
     ],
     "language": "python",
     "metadata": {},
     "outputs": [],
     "prompt_number": 80
    },
    {
     "cell_type": "code",
     "collapsed": false,
     "input": [
      "import base_wrapper\n",
      "\n",
      "class A(base_wrapper.Base):\n",
      "    def f(self, x):\n",
      "        return 42 * x\n",
      "    \n",
      "print(base_wrapper.run_base(A(), 5))"
     ],
     "language": "python",
     "metadata": {},
     "outputs": [
      {
       "output_type": "stream",
       "stream": "stdout",
       "text": [
        "210\n"
       ]
      }
     ],
     "prompt_number": 82
    },
    {
     "cell_type": "heading",
     "level": 2,
     "metadata": {
      "slideshow": {
       "slide_type": "subslide"
      }
     },
     "source": [
      "Try it: Expose `Player` using `boost::python::wrapper`"
     ]
    },
    {
     "cell_type": "markdown",
     "metadata": {},
     "source": [
      "Replace the existing `Player` bindings with a new one based on `boost::python::wrapper`. \n",
      "\n",
      "Create a `Player` subclass in Python and run it through a few games.\n",
      "\n",
      "Remember:"
     ]
    },
    {
     "cell_type": "code",
     "collapsed": false,
     "input": [
      "%%snippet\n",
      "\n",
      "class BaseWrapper : public Base, public bp::wrapper<Base>\n",
      "{\n",
      "    int f(arg1, . . .) { return this->get_override(\"f\")(arg1, . . .); }\n",
      "};"
     ],
     "language": "python",
     "metadata": {},
     "outputs": [],
     "prompt_number": 83
    },
    {
     "cell_type": "heading",
     "level": 2,
     "metadata": {
      "slideshow": {
       "slide_type": "subslide"
      }
     },
     "source": [
      "C++ exceptions"
     ]
    },
    {
     "cell_type": "markdown",
     "metadata": {},
     "source": [
      "The Python and C++ exception models are conceptually similar, but their implementations are entirely different.\n",
      "\n",
      "When exceptions come from C++ to the Python/C++ interface, they need to be translated from the C++ model to Python. \n",
      "\n",
      "By default, Boost.Python will translate any C++ exceptions into `RuntimeErrors` in Python."
     ]
    },
    {
     "cell_type": "code",
     "collapsed": false,
     "input": [
      "%%bp_module default_exception\n",
      "\n",
      "#include <boost/python.hpp>\n",
      "\n",
      "class MyException : public std::exception {};\n",
      "\n",
      "void throw_exception() { throw MyException(); }\n",
      "\n",
      "BOOST_PYTHON_MODULE(default_exception) {\n",
      "    boost::python::def(\"throw_exception\", throw_exception);\n",
      "}"
     ],
     "language": "python",
     "metadata": {
      "slideshow": {
       "slide_type": "fragment"
      }
     },
     "outputs": [],
     "prompt_number": 84
    },
    {
     "cell_type": "code",
     "collapsed": false,
     "input": [
      "from default_exception import throw_exception\n",
      "\n",
      "throw_exception()"
     ],
     "language": "python",
     "metadata": {
      "slideshow": {
       "slide_type": "fragment"
      }
     },
     "outputs": [
      {
       "ename": "RuntimeError",
       "evalue": "std::exception",
       "output_type": "pyerr",
       "traceback": [
        "\u001b[0;31m---------------------------------------------------------------------------\u001b[0m\n\u001b[0;31mRuntimeError\u001b[0m                              Traceback (most recent call last)",
        "\u001b[0;32m<ipython-input-85-ff0c51f0c2a3>\u001b[0m in \u001b[0;36m<module>\u001b[0;34m()\u001b[0m\n\u001b[1;32m      1\u001b[0m \u001b[0;32mfrom\u001b[0m \u001b[0mdefault_exception\u001b[0m \u001b[0;32mimport\u001b[0m \u001b[0mthrow_exception\u001b[0m\u001b[0;34m\u001b[0m\u001b[0m\n\u001b[1;32m      2\u001b[0m \u001b[0;34m\u001b[0m\u001b[0m\n\u001b[0;32m----> 3\u001b[0;31m \u001b[0mthrow_exception\u001b[0m\u001b[0;34m(\u001b[0m\u001b[0;34m)\u001b[0m\u001b[0;34m\u001b[0m\u001b[0m\n\u001b[0m",
        "\u001b[0;31mRuntimeError\u001b[0m: std::exception"
       ]
      }
     ],
     "prompt_number": 85
    },
    {
     "cell_type": "heading",
     "level": 2,
     "metadata": {
      "slideshow": {
       "slide_type": "subslide"
      }
     },
     "source": [
      "Explicitly translating C++ exceptions"
     ]
    },
    {
     "cell_type": "markdown",
     "metadata": {},
     "source": [
      "If you want to convert C++ exceptions into a more appropriate Python exception, you can catch them and use the Python C API to produce what you want.\n",
      "\n",
      "In this case, we'll translate `MyException` into a `SystemError` (just to keep things simple.)"
     ]
    },
    {
     "cell_type": "code",
     "collapsed": false,
     "input": [
      "%%bp_module explicit_raise\n",
      "\n",
      "#include <boost/python.hpp>\n",
      "\n",
      "class MyException : public std::exception {};\n",
      "\n",
      "void throw_exception() { throw MyException(); }\n",
      "\n",
      "void throw_exception_with_translate() {\n",
      "    try {\n",
      "         throw_exception();\n",
      "    } \n",
      "    catch (const MyException&) {\n",
      "        PyErr_SetString(PyExc_SystemError, \"Caught a MyException error...not sure what to do!\");\n",
      "        boost::python::throw_error_already_set();\n",
      "    }\n",
      "}\n",
      "\n",
      "BOOST_PYTHON_MODULE(explicit_raise) {\n",
      "    boost::python::def(\"throw_exception\", throw_exception_with_translate);\n",
      "}"
     ],
     "language": "python",
     "metadata": {
      "slideshow": {
       "slide_type": "fragment"
      }
     },
     "outputs": [],
     "prompt_number": 86
    },
    {
     "cell_type": "code",
     "collapsed": false,
     "input": [
      "from explicit_raise import throw_exception\n",
      "\n",
      "throw_exception()"
     ],
     "language": "python",
     "metadata": {
      "slideshow": {
       "slide_type": "fragment"
      }
     },
     "outputs": [
      {
       "ename": "SystemError",
       "evalue": "Caught a MyException error...not sure what to do!",
       "output_type": "pyerr",
       "traceback": [
        "\u001b[0;31m---------------------------------------------------------------------------\u001b[0m\n\u001b[0;31mSystemError\u001b[0m                               Traceback (most recent call last)",
        "\u001b[0;32m<ipython-input-87-a582594b7df1>\u001b[0m in \u001b[0;36m<module>\u001b[0;34m()\u001b[0m\n\u001b[1;32m      1\u001b[0m \u001b[0;32mfrom\u001b[0m \u001b[0mexplicit_raise\u001b[0m \u001b[0;32mimport\u001b[0m \u001b[0mthrow_exception\u001b[0m\u001b[0;34m\u001b[0m\u001b[0m\n\u001b[1;32m      2\u001b[0m \u001b[0;34m\u001b[0m\u001b[0m\n\u001b[0;32m----> 3\u001b[0;31m \u001b[0mthrow_exception\u001b[0m\u001b[0;34m(\u001b[0m\u001b[0;34m)\u001b[0m\u001b[0;34m\u001b[0m\u001b[0m\n\u001b[0m",
        "\u001b[0;31mSystemError\u001b[0m: Caught a MyException error...not sure what to do!"
       ]
      }
     ],
     "prompt_number": 87
    },
    {
     "cell_type": "heading",
     "level": 2,
     "metadata": {
      "slideshow": {
       "slide_type": "subslide"
      }
     },
     "source": [
      "Try it: Explicitly handle an exception"
     ]
    },
    {
     "cell_type": "markdown",
     "metadata": {},
     "source": [
      "For this section we'll be working with the file `exercises/exceptions/exceptions.cpp`. \n",
      "\n",
      "Add a wrapper function around `divide` which catches `MathError` and converts it into a Python `ValueError`. \n",
      "\n",
      "Expose this wrapper function in a new module and test it out.\n",
      "\n",
      "Remember:\n",
      "\n",
      "  * https://docs.python.org/3/c-api/exceptions.html#c.PyErr_SetString\n",
      "  * `PyExc_*` in the Python C-API"
     ]
    },
    {
     "cell_type": "code",
     "collapsed": false,
     "input": [
      "%%snippet\n",
      "\n",
      "PyErr_SetString(exception-object, message-string);"
     ],
     "language": "python",
     "metadata": {},
     "outputs": [],
     "prompt_number": 88
    },
    {
     "cell_type": "heading",
     "level": 2,
     "metadata": {
      "slideshow": {
       "slide_type": "subslide"
      }
     },
     "source": [
      "Registering C++ exception translators"
     ]
    },
    {
     "cell_type": "markdown",
     "metadata": {},
     "source": [
      "A more scalable and maintainable approach to translating C++ exceptions is to use Boost.Python's `register_exception_translator<>` function.\n",
      "\n",
      "This will set up a global translator for specific C++ exception types, meaning that you don't have to explicitly catch and translate them yourself.\n",
      "\n",
      "Here's how that looks:"
     ]
    },
    {
     "cell_type": "code",
     "collapsed": false,
     "input": [
      "%%bp_module registered_exception_translator\n",
      "\n",
      "#include <boost/python.hpp>\n",
      "\n",
      "class MyException : public std::exception {};\n",
      "\n",
      "void throw_exception() { throw MyException(); }\n",
      "\n",
      "void translate_MyException(const MyException&) {\n",
      "    PyErr_SetString(PyExc_SystemError, \"Translator handling a MyException error...still not sure what to do!\");\n",
      "}\n",
      "\n",
      "BOOST_PYTHON_MODULE(registered_exception_translator) {\n",
      "    boost::python::register_exception_translator<MyException>(\n",
      "        translate_MyException);\n",
      "    \n",
      "    boost::python::def(\"throw_exception\", throw_exception);\n",
      "}"
     ],
     "language": "python",
     "metadata": {
      "slideshow": {
       "slide_type": "fragment"
      }
     },
     "outputs": [],
     "prompt_number": 89
    },
    {
     "cell_type": "code",
     "collapsed": false,
     "input": [
      "from registered_exception_translator import throw_exception\n",
      "\n",
      "throw_exception()"
     ],
     "language": "python",
     "metadata": {
      "slideshow": {
       "slide_type": "fragment"
      }
     },
     "outputs": [
      {
       "ename": "SystemError",
       "evalue": "Translator handling a MyException error...still not sure what to do!",
       "output_type": "pyerr",
       "traceback": [
        "\u001b[0;31m---------------------------------------------------------------------------\u001b[0m\n\u001b[0;31mSystemError\u001b[0m                               Traceback (most recent call last)",
        "\u001b[0;32m<ipython-input-90-31435548de4b>\u001b[0m in \u001b[0;36m<module>\u001b[0;34m()\u001b[0m\n\u001b[1;32m      1\u001b[0m \u001b[0;32mfrom\u001b[0m \u001b[0mregistered_exception_translator\u001b[0m \u001b[0;32mimport\u001b[0m \u001b[0mthrow_exception\u001b[0m\u001b[0;34m\u001b[0m\u001b[0m\n\u001b[1;32m      2\u001b[0m \u001b[0;34m\u001b[0m\u001b[0m\n\u001b[0;32m----> 3\u001b[0;31m \u001b[0mthrow_exception\u001b[0m\u001b[0;34m(\u001b[0m\u001b[0;34m)\u001b[0m\u001b[0;34m\u001b[0m\u001b[0m\n\u001b[0m",
        "\u001b[0;31mSystemError\u001b[0m: Translator handling a MyException error...still not sure what to do!"
       ]
      }
     ],
     "prompt_number": 90
    },
    {
     "cell_type": "heading",
     "level": 2,
     "metadata": {
      "slideshow": {
       "slide_type": "subslide"
      }
     },
     "source": [
      "Try it: Register an exception translator"
     ]
    },
    {
     "cell_type": "markdown",
     "metadata": {},
     "source": [
      "Replace your wrapper function with a translator function.\n",
      "\n",
      "Remember:"
     ]
    },
    {
     "cell_type": "code",
     "collapsed": false,
     "input": [
      "%%snippet\n",
      "\n",
      "boost::python::register_exception_translator<exception-type>(translator-function);\n",
      "                \n",
      "void translate-function(const exception-type&) { . . . }"
     ],
     "language": "python",
     "metadata": {},
     "outputs": [],
     "prompt_number": 91
    },
    {
     "cell_type": "heading",
     "level": 2,
     "metadata": {
      "slideshow": {
       "slide_type": "subslide"
      }
     },
     "source": [
      "Try it: Why do we need call policies?"
     ]
    },
    {
     "cell_type": "markdown",
     "metadata": {},
     "source": [
      "Before explaining call policies, we'll first set up a situation that demonstrates why we need them.\n",
      "\n",
      "Edit `exercises/call_policies/call_policies.cpp` such that `exercises/call_policies/test.py` works."
     ]
    },
    {
     "cell_type": "heading",
     "level": 2,
     "metadata": {
      "slideshow": {
       "slide_type": "subslide"
      }
     },
     "source": [
      "Call policies"
     ]
    },
    {
     "cell_type": "markdown",
     "metadata": {},
     "source": [
      "Because C++ can work at very low level with direct references and pointers, it is possible to create situations where Boost.Python can't determine lifetime relationships between objects.\n",
      "\n",
      "To address this problem, Boost.Python has a notion of *call policies* that allow you to explicitly declare lifetime relationships that would otherwise be obscure."
     ]
    },
    {
     "cell_type": "markdown",
     "metadata": {
      "slideshow": {
       "slide_type": "-"
      }
     },
     "source": [
      "In the exercise, `Row` objects refer to data owned by `Matrix` objects, and therefore the lifetimes of `Row` objects need to be bound by the lifetimes of their `Matrix` instances.\n",
      "\n",
      "<img src=\"files/media/internal_memory_reference.png\">\n",
      "\n",
      "In the terms used by Boost.Python, we want `Row` to be a *custodian* of `Matrix`, the *ward*. Whenever a custodian is still alive, Boost.Python will guarantee that the ward is not deleted. We establish the custodian-ward relationship with *call policies*."
     ]
    },
    {
     "cell_type": "heading",
     "level": 3,
     "metadata": {
      "slideshow": {
       "slide_type": "subslide"
      }
     },
     "source": [
      "Specifying call policies"
     ]
    },
    {
     "cell_type": "markdown",
     "metadata": {},
     "source": [
      "You specify a call policy by passing it as the third argument to `def()`. "
     ]
    },
    {
     "cell_type": "code",
     "collapsed": false,
     "input": [
      "%%snippet\n",
      "\n",
      "def(\"python-name\", function-name, call-policy);"
     ],
     "language": "python",
     "metadata": {},
     "outputs": [],
     "prompt_number": 92
    },
    {
     "cell_type": "markdown",
     "metadata": {},
     "source": [
      "The custodian-ward relationship can be established using the `with_custodian_and_ward<>` or `with_custodian_and_ward_postcall<>` call policies. These both take at least two template arguments:\n",
      "\n",
      " 1. The position of the custodian\n",
      " 2. The position of the ward\n",
      "\n",
      "where `0` indicates the return value of the function and other numbers indicate 1-based argument values (and where `1` for a member function means the instance.)\n",
      "\n",
      "They look like this:"
     ]
    },
    {
     "cell_type": "code",
     "collapsed": false,
     "input": [
      "%%snippet\n",
      "\n",
      "void foo(ExternalClass& s, InternalRef& i) { return }\n",
      "\n",
      ". . .\n",
      "\n",
      "boost::python::def(\"foo\", foo, boost::python::with_custodian_and_ward<2, 1>());"
     ],
     "language": "python",
     "metadata": {},
     "outputs": [],
     "prompt_number": 93
    },
    {
     "cell_type": "heading",
     "level": 2,
     "metadata": {
      "slideshow": {
       "slide_type": "subslide"
      }
     },
     "source": [
      "Using more than one call policy"
     ]
    },
    {
     "cell_type": "markdown",
     "metadata": {},
     "source": [
      "If you need to use more than one call policy, you can nest them by passing them as the last template argument to other call policies like this:"
     ]
    },
    {
     "cell_type": "code",
     "collapsed": false,
     "input": [
      "%%snippet\n",
      "\n",
      "policy1<args...,\n",
      "    policy2<args...,\n",
      "        policy3<args...> > >"
     ],
     "language": "python",
     "metadata": {},
     "outputs": [],
     "prompt_number": 94
    },
    {
     "cell_type": "heading",
     "level": 2,
     "metadata": {
      "slideshow": {
       "slide_type": "subslide"
      }
     },
     "source": [
      "Call policies: the available options"
     ]
    },
    {
     "cell_type": "markdown",
     "metadata": {},
     "source": [
      "The available call policies are:\n",
      "\n",
      " * `with_custodian_and_ward`\n",
      " * `with_custodian_and_ward_postcall`\n",
      " * `return_internal_reference`\n",
      " * `return_value_policy<T>` where T is one of:\n",
      "   * `reference_existing_object`\n",
      "   * `copy_const_reference`\n",
      "   * `copy_non_const_reference`\n",
      "   * `manage_new_object`\n",
      "   \n",
      "Full detail can be found at [the Boost.Python function documentation](http://www.boost.org/doc/libs/1_55_0/libs/python/doc/tutorial/doc/html/python/functions.html) and [the Boost.Python reference documentation](http://www.boost.org/doc/libs/1_55_0/libs/python/doc/v2/reference.html#models_of_call_policies).\n"
     ]
    },
    {
     "cell_type": "heading",
     "level": 2,
     "metadata": {
      "slideshow": {
       "slide_type": "subslide"
      }
     },
     "source": [
      "Try it: Use a call policy"
     ]
    },
    {
     "cell_type": "markdown",
     "metadata": {},
     "source": [
      "In the `Matrix`/`Row` example the problem was that the `Matrix` was be deleted before the `Row`. Use a call policy to tell Boost.Python about the relationship between the classes.\n",
      "\n",
      "Remember:\n",
      "\n",
      " * a ward won't be deleted as long as the custodian is alive\n",
      " * a position of `0` means the return value of the function"
     ]
    },
    {
     "cell_type": "code",
     "collapsed": false,
     "input": [
      "%%snippet\n",
      "\n",
      "bp::def(\"name\", function, bp::call-policy-name<args, . . .>());"
     ],
     "language": "python",
     "metadata": {},
     "outputs": [],
     "prompt_number": 95
    },
    {
     "cell_type": "markdown",
     "metadata": {
      "slideshow": {
       "slide_type": "slide"
      }
     },
     "source": [
      "# Thanks!\n",
      "\n",
      "## Questions?\n",
      "\n",
      "You can download the IPython notebook for this presentation at [https://github.com/abingham/boost_python_tutorial](https://github.com/abingham/boost_python_tutorial)\n",
      "\n",
      "----\n",
      "\n",
      "### @austin_bingham\n",
      "<img src=\"files/media/SixtyNorth_logo.png\" width=\"25%\">"
     ]
    }
   ],
   "metadata": {}
  }
 ]
}