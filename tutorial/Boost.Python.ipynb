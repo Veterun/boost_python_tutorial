{
 "metadata": {
  "name": ""
 },
 "nbformat": 3,
 "nbformat_minor": 0,
 "worksheets": [
  {
   "cells": [
    {
     "cell_type": "heading",
     "level": 1,
     "metadata": {
      "slideshow": {
       "slide_type": "slide"
      }
     },
     "source": [
      "Integrating C++ and Python with Boost.Python\n"
     ]
    },
    {
     "cell_type": "markdown",
     "metadata": {
      "slideshow": {
       "slide_type": "-"
      }
     },
     "source": [
      "## Austin Bingham\n",
      "\n",
      "### @austin_bingham\n",
      "\n",
      "----\n",
      "\n",
      "<img src=\"files/media/SixtyNorth_logo.png\" width=\"25%\">"
     ]
    },
    {
     "cell_type": "heading",
     "level": 1,
     "metadata": {
      "slideshow": {
       "slide_type": "slide"
      }
     },
     "source": [
      "What is Python / C++ Integration?"
     ]
    },
    {
     "cell_type": "heading",
     "level": 1,
     "metadata": {
      "slideshow": {
       "slide_type": "subslide"
      }
     },
     "source": [
      "A lot of language integration can happen between processes"
     ]
    },
    {
     "cell_type": "markdown",
     "metadata": {},
     "source": [
      "<img src=\"files/media/IPC.png\">"
     ]
    },
    {
     "cell_type": "markdown",
     "metadata": {},
     "source": [
      "This is useful and interesting, but not what we're talking about here."
     ]
    },
    {
     "cell_type": "heading",
     "level": 1,
     "metadata": {
      "slideshow": {
       "slide_type": "subslide"
      }
     },
     "source": [
      "Python is a C library"
     ]
    },
    {
     "cell_type": "markdown",
     "metadata": {},
     "source": [
      "<img src=\"files/media/python_libpython.png\">"
     ]
    },
    {
     "cell_type": "heading",
     "level": 1,
     "metadata": {
      "slideshow": {
       "slide_type": "subslide"
      }
     },
     "source": [
      "Integration is fundamentally just using libpython as a library"
     ]
    },
    {
     "cell_type": "markdown",
     "metadata": {},
     "source": [
      "<table border=\"0\">\n",
      "<tr><td><h2>Extension</h2></td><td><h2>Embedding</h2></td></tr>\n",
      "<tr><td><img src=\"files/media/extension_module.png\"></td><td><img src=\"files/media/embedding.png\"></td></tr>\n",
      "</table>"
     ]
    },
    {
     "cell_type": "heading",
     "level": 1,
     "metadata": {
      "slideshow": {
       "slide_type": "subslide"
      }
     },
     "source": [
      "Everything Python does, you can do, too!"
     ]
    },
    {
     "cell_type": "heading",
     "level": 2,
     "metadata": {},
     "source": [
      "This is great because..."
     ]
    },
    {
     "cell_type": "markdown",
     "metadata": {
      "slideshow": {
       "slide_type": "fragment"
      }
     },
     "source": [
      "...it gives you a lot of power."
     ]
    },
    {
     "cell_type": "markdown",
     "metadata": {
      "slideshow": {
       "slide_type": "fragment"
      }
     },
     "source": [
      "...it can help with performance."
     ]
    },
    {
     "cell_type": "markdown",
     "metadata": {
      "slideshow": {
       "slide_type": "fragment"
      }
     },
     "source": [
      "...it provides interoperability with a broad base of existing software."
     ]
    },
    {
     "cell_type": "heading",
     "level": 2,
     "metadata": {
      "slideshow": {
       "slide_type": "fragment"
      }
     },
     "source": [
      "This is terrible because..."
     ]
    },
    {
     "cell_type": "markdown",
     "metadata": {
      "slideshow": {
       "slide_type": "fragment"
      }
     },
     "source": [
      "...the C API can be hard to work with."
     ]
    },
    {
     "cell_type": "markdown",
     "metadata": {
      "slideshow": {
       "slide_type": "fragment"
      }
     },
     "source": [
      "...you are responsible for doing things correctly."
     ]
    },
    {
     "cell_type": "markdown",
     "metadata": {
      "slideshow": {
       "slide_type": "fragment"
      }
     },
     "source": [
      "...it introduces the possibility for bugs that are impossible in pure Python."
     ]
    },
    {
     "cell_type": "heading",
     "level": 1,
     "metadata": {
      "slideshow": {
       "slide_type": "subslide"
      }
     },
     "source": [
      "Are you sure you still want to do this?"
     ]
    },
    {
     "cell_type": "markdown",
     "metadata": {},
     "source": [
      "<img src=\"files/media/dante.jpg\">"
     ]
    },
    {
     "cell_type": "heading",
     "level": 1,
     "metadata": {
      "slideshow": {
       "slide_type": "slide"
      }
     },
     "source": [
      "Basics of the Python C API"
     ]
    },
    {
     "cell_type": "markdown",
     "metadata": {},
     "source": [
      "<img src=\"files/media/python-logo.png\">"
     ]
    },
    {
     "cell_type": "heading",
     "level": 1,
     "metadata": {
      "slideshow": {
       "slide_type": "subslide"
      }
     },
     "source": [
      "PyObject"
     ]
    },
    {
     "cell_type": "markdown",
     "metadata": {
      "slideshow": {
       "slide_type": "fragment"
      }
     },
     "source": [
      "`PyObject` is the central type for everything that happens in the Python C API."
     ]
    },
    {
     "cell_type": "markdown",
     "metadata": {
      "slideshow": {
       "slide_type": "fragment"
      }
     },
     "source": [
      "Every \"thing\" in Python is represented as a `PyObject`."
     ]
    },
    {
     "cell_type": "markdown",
     "metadata": {
      "slideshow": {
       "slide_type": "fragment"
      }
     },
     "source": [
      "`PyObject` manages two central details in Python:\n",
      "\n",
      " * an object's *type*\n",
      " * and object's *reference count*"
     ]
    },
    {
     "cell_type": "markdown",
     "metadata": {
      "slideshow": {
       "slide_type": "fragment"
      }
     },
     "source": [
      "*Examples of `PyObject` in the C API:*\n",
      "\n",
      "```C\n",
      "PyObject* PyObject_GetAttr(PyObject *o, PyObject *attr_name)\n",
      "\n",
      "PyObject* PyEval_GetCallStats(PyObject *self)\n",
      "\n",
      "PyObject* PyErr_SetFromErrnoWithFilenameObject(PyObject *type, PyObject *filenameObject)\n",
      "```"
     ]
    },
    {
     "cell_type": "heading",
     "level": 2,
     "metadata": {
      "slideshow": {
       "slide_type": "subslide"
      }
     },
     "source": [
      "Reference counting"
     ]
    },
    {
     "cell_type": "markdown",
     "metadata": {
      "slideshow": {
       "slide_type": "fragment"
      }
     },
     "source": [
      "Every object contains a count of references to that object."
     ]
    },
    {
     "cell_type": "markdown",
     "metadata": {
      "slideshow": {
       "slide_type": "fragment"
      }
     },
     "source": [
      "The garbage collector uses this number to determine when an object can be de/reallocated."
     ]
    },
    {
     "cell_type": "markdown",
     "metadata": {
      "slideshow": {
       "slide_type": "fragment"
      }
     },
     "source": [
      "This is generally invisible to users at the Python level, but it's **critical** to users of the C API."
     ]
    },
    {
     "cell_type": "heading",
     "level": 3,
     "metadata": {
      "slideshow": {
       "slide_type": "subslide"
      }
     },
     "source": [
      "Reference count example"
     ]
    },
    {
     "cell_type": "code",
     "collapsed": false,
     "input": [
      "from sys import getrefcount\n",
      "\n",
      "x = 'a simple string'\n",
      "print('Ref-count of string with on reference: {}'.format(getrefcount(x)))\n",
      "\n",
      "y = x\n",
      "print('Ref-count of string with an alias: {}'.format(getrefcount(x)))\n",
      "\n",
      "y = None\n",
      "print('Ref-count of string after removing alias: {}'.format(getrefcount(x)))"
     ],
     "language": "python",
     "metadata": {},
     "outputs": []
    },
    {
     "cell_type": "heading",
     "level": 3,
     "metadata": {
      "slideshow": {
       "slide_type": "subslide"
      }
     },
     "source": [
      "Reference count example illustrated"
     ]
    },
    {
     "cell_type": "markdown",
     "metadata": {
      "slideshow": {
       "slide_type": "fragment"
      }
     },
     "source": [
      "The string starts with a single reference, `x`.\n",
      "\n",
      "<img src=\"files/media/ref_count_1.png\">"
     ]
    },
    {
     "cell_type": "markdown",
     "metadata": {
      "slideshow": {
       "slide_type": "fragment"
      }
     },
     "source": [
      "The creation of the new reference `y` increments the reference count by 1.\n",
      "\n",
      "<img src=\"files/media/ref_count_2.png\">"
     ]
    },
    {
     "cell_type": "markdown",
     "metadata": {
      "slideshow": {
       "slide_type": "fragment"
      }
     },
     "source": [
      "Reassignment of `y` decrements the reference count on the string.\n",
      "\n",
      "<img src=\"files/media/ref_count_3.png\">"
     ]
    },
    {
     "cell_type": "heading",
     "level": 3,
     "metadata": {
      "slideshow": {
       "slide_type": "subslide"
      }
     },
     "source": [
      "Everything has a ref-count"
     ]
    },
    {
     "cell_type": "code",
     "collapsed": false,
     "input": [
      "print('Ref-count of None: {}'.format(getrefcount(None)))\n",
      "print('Ref-count of sys: {}'.format(getrefcount(sys)))\n",
      "print('Ref-count of sys.getrefcount: {}'.format(getrefcount(getrefcount)))"
     ],
     "language": "python",
     "metadata": {},
     "outputs": []
    },
    {
     "cell_type": "heading",
     "level": 3,
     "metadata": {
      "slideshow": {
       "slide_type": "subslide"
      }
     },
     "source": [
      "What can go wrong with reference counting?"
     ]
    },
    {
     "cell_type": "markdown",
     "metadata": {
      "slideshow": {
       "slide_type": "fragment"
      }
     },
     "source": [
      "You can forget to increment it."
     ]
    },
    {
     "cell_type": "markdown",
     "metadata": {
      "slideshow": {
       "slide_type": "fragment"
      }
     },
     "source": [
      "You can forget to decrement it."
     ]
    },
    {
     "cell_type": "markdown",
     "metadata": {
      "slideshow": {
       "slide_type": "fragment"
      }
     },
     "source": [
      "You can increment it too many times."
     ]
    },
    {
     "cell_type": "markdown",
     "metadata": {
      "slideshow": {
       "slide_type": "fragment"
      }
     },
     "source": [
      "You can decrement it too many times."
     ]
    },
    {
     "cell_type": "heading",
     "level": 3,
     "metadata": {
      "slideshow": {
       "slide_type": "subslide"
      }
     },
     "source": [
      "Reference counting API"
     ]
    },
    {
     "cell_type": "markdown",
     "metadata": {},
     "source": [
      "The primary functions (really macros) for doing reference counting are:\n",
      "\n",
      " * `Py_INCREF()`\n",
      " * `Py_XINCREF()` - checks for NULL first\n",
      " * `Py_DECREF()`\n",
      " * `Py_XDECREF()` - checks for NULL first\n",
      " * `Py_CLEAR()` - checks for NULL first\n",
      " \n",
      "See [the documentation](http://docs.python.org/3/c-api/refcounting.html) for full details."
     ]
    },
    {
     "cell_type": "heading",
     "level": 2,
     "metadata": {
      "slideshow": {
       "slide_type": "subslide"
      }
     },
     "source": [
      "Exceptions and error handling"
     ]
    },
    {
     "cell_type": "markdown",
     "metadata": {
      "slideshow": {
       "slide_type": "fragment"
      }
     },
     "source": [
      "C doesn't have exceptions, so Python's exceptions are expressed purely in terms of the C language."
     ]
    },
    {
     "cell_type": "markdown",
     "metadata": {
      "slideshow": {
       "slide_type": "fragment"
      }
     },
     "source": [
      "What this ultimately means is that there are some global exception variables which indicate if an exception has been thrown."
     ]
    },
    {
     "cell_type": "markdown",
     "metadata": {
      "slideshow": {
       "slide_type": "fragment"
      }
     },
     "source": [
      "It is up to callers to check and set these as appropriate. "
     ]
    },
    {
     "cell_type": "heading",
     "level": 2,
     "metadata": {
      "slideshow": {
       "slide_type": "subslide"
      }
     },
     "source": [
      "Raising exceptions"
     ]
    },
    {
     "cell_type": "markdown",
     "metadata": {},
     "source": [
      "There are a number of ways to raise exceptions with the C API."
     ]
    },
    {
     "cell_type": "markdown",
     "metadata": {
      "slideshow": {
       "slide_type": "fragment"
      }
     },
     "source": [
      "The most common is `PyErr_SetString`:\n",
      "\n",
      "    void PyErr_SetString(PyObject *type, const char *message)"
     ]
    },
    {
     "cell_type": "heading",
     "level": 3,
     "metadata": {
      "slideshow": {
       "slide_type": "fragment"
      }
     },
     "source": [
      "The exception API can be tricky"
     ]
    },
    {
     "cell_type": "markdown",
     "metadata": {
      "slideshow": {
       "slide_type": "fragment"
      }
     },
     "source": [
      "Many C API calls will clear the exception registers."
     ]
    },
    {
     "cell_type": "markdown",
     "metadata": {
      "slideshow": {
       "slide_type": "fragment"
      }
     },
     "source": [
      "Some functions require the registers to be set."
     ]
    },
    {
     "cell_type": "markdown",
     "metadata": {
      "slideshow": {
       "slide_type": "subslide"
      }
     },
     "source": [
      "Read up on the exception API at http://docs.python.org/3/c-api/exceptions.html"
     ]
    },
    {
     "cell_type": "heading",
     "level": 2,
     "metadata": {
      "slideshow": {
       "slide_type": "subslide"
      }
     },
     "source": [
      "Protocols"
     ]
    },
    {
     "cell_type": "markdown",
     "metadata": {
      "slideshow": {
       "slide_type": "-"
      }
     },
     "source": [
      "The various *protocols* in Python each have their own set of API."
     ]
    },
    {
     "cell_type": "markdown",
     "metadata": {
      "slideshow": {
       "slide_type": "-"
      }
     },
     "source": [
      "For example:\n",
      "\n",
      " * `PySequence_*` for working with *sequences*\n",
      " * `PyIter_*` for working with *iterators* and *iterables*\n",
      " * `PyFunction_*` for working with functions (not actually a protocol, but a concrete type)"
     ]
    },
    {
     "cell_type": "heading",
     "level": 2,
     "metadata": {
      "slideshow": {
       "slide_type": "subslide"
      }
     },
     "source": [
      "Read all about it"
     ]
    },
    {
     "cell_type": "markdown",
     "metadata": {},
     "source": [
      "The Python C API is well documented. It's a large API, but the documentation is well-structured enough to generally guide you to where you need to be.\n",
      "\n",
      "You can the full details of the C API at:\n",
      "\n",
      "**http://docs.python.org/3/c-api/index.html**\n",
      "\n",
      "<img src=\"files/media/python-logo.png\">"
     ]
    },
    {
     "cell_type": "heading",
     "level": 1,
     "metadata": {
      "slideshow": {
       "slide_type": "slide"
      }
     },
     "source": [
      "Core Boost.Python"
     ]
    },
    {
     "cell_type": "markdown",
     "metadata": {},
     "source": [
      "<img src=\"files/media/boost_python.png\">"
     ]
    },
    {
     "cell_type": "heading",
     "level": 1,
     "metadata": {
      "slideshow": {
       "slide_type": "subslide"
      }
     },
     "source": [
      "`boost::python::object` and `boost::python::handle`"
     ]
    },
    {
     "cell_type": "markdown",
     "metadata": {},
     "source": [
      "`bp::handle<>` is used to take initial ownership of a `PyObject`."
     ]
    },
    {
     "cell_type": "markdown",
     "metadata": {
      "slideshow": {
       "slide_type": "fragment"
      }
     },
     "source": [
      "`bp::object` is constructed from a `bp::handle<>`."
     ]
    },
    {
     "cell_type": "markdown",
     "metadata": {
      "slideshow": {
       "slide_type": "fragment"
      }
     },
     "source": [
      "`bp::object` uses **RAII** manage reference counting on a `PyObject` so that it's harder (but not impossible) for you mess it up."
     ]
    },
    {
     "cell_type": "markdown",
     "metadata": {
      "slideshow": {
       "slide_type": "fragment"
      }
     },
     "source": [
      "<img src=\"files/media/object_to_pyobject.png\">"
     ]
    },
    {
     "cell_type": "heading",
     "level": 1,
     "metadata": {
      "slideshow": {
       "slide_type": "subslide"
      }
     },
     "source": [
      "`boost::python::object` usage example"
     ]
    },
    {
     "cell_type": "markdown",
     "metadata": {},
     "source": [
      "Taking ownership of a so-called *new* refererence:"
     ]
    },
    {
     "cell_type": "markdown",
     "metadata": {},
     "source": [
      "```\n",
      "// This creates a \"new\" reference. We are responsible for decref'ing it at some point.\n",
      "PyObject* pyobj = PyList_New(10);\n",
      "\n",
      "// handle<> and object do not incref an object normally.\n",
      "boost::python::object obj(\n",
      "    boost::python::handle<>(pyobj);\n",
      "```"
     ]
    },
    {
     "cell_type": "markdown",
     "metadata": {
      "slideshow": {
       "slide_type": "fragment"
      }
     },
     "source": [
      "Taking a *borrowed* reference:"
     ]
    },
    {
     "cell_type": "markdown",
     "metadata": {
      "slideshow": {
       "slide_type": "fragment"
      }
     },
     "source": [
      "```\n",
      "// Getting a list item returns a borrowed reference\n",
      "PyObject* list_item = PyList_GetItem(list_obj, 3);\n",
      "\n",
      "// So we use borrowed() to incref it.\n",
      "boost::python::object obj(\n",
      "    boost::python::handle<>(\n",
      "        boost::python::borrowed(list_item)));\n",
      "```"
     ]
    },
    {
     "cell_type": "heading",
     "level": 1,
     "metadata": {
      "slideshow": {
       "slide_type": "subslide"
      }
     },
     "source": [
      "Attribute access with `boost::python::object::attr()`"
     ]
    },
    {
     "cell_type": "markdown",
     "metadata": {},
     "source": [
      "To access attributes on an `object` use the `attr()` member function."
     ]
    },
    {
     "cell_type": "markdown",
     "metadata": {},
     "source": [
      "```\n",
      "boost::python::object obj(...);\n",
      "\n",
      "// Access the \"foo\" attribute on the object. Equivalent to \"x = obj.foo\" in Python.\n",
      "boost::python::object x = obj.attr(\"foo\");\n",
      "```"
     ]
    },
    {
     "cell_type": "heading",
     "level": 1,
     "metadata": {
      "slideshow": {
       "slide_type": "subslide"
      }
     },
     "source": [
      "Calling objects"
     ]
    },
    {
     "cell_type": "markdown",
     "metadata": {},
     "source": [
      "You can *call* `boost::python::objects`. This can fail if the object is not a callable.\n",
      "\n",
      "```\n",
      "boost::python::object obj = . . .;\n",
      "\n",
      "// Call the object to get another object\n",
      "boost::python::object result = obj();\n",
      "\n",
      "// And of course you can pass arguments to the call\n",
      "boost::python::object next_result = result(42, \"llamas\");\n",
      "```"
     ]
    },
    {
     "cell_type": "heading",
     "level": 1,
     "metadata": {
      "slideshow": {
       "slide_type": "subslide"
      }
     },
     "source": [
      "Constructing `object`s from C++ objects"
     ]
    },
    {
     "cell_type": "markdown",
     "metadata": {},
     "source": [
      "You can construct `object` instances from arbitrary C++ objects."
     ]
    },
    {
     "cell_type": "markdown",
     "metadata": {
      "slideshow": {
       "slide_type": "fragment"
      }
     },
     "source": [
      "This will always compile, but it may fail at runtime if Boost.Python can't find a type converter."
     ]
    },
    {
     "cell_type": "markdown",
     "metadata": {
      "slideshow": {
       "slide_type": "fragment"
      }
     },
     "source": [
      "It looks like this:\n",
      "\n",
      "```\n",
      "class Foo {};\n",
      "\n",
      "void some_function() {\n",
      "    Foo f;\n",
      "\n",
      "    // This invokes a type-converter lookup and, if successful, conversion.\n",
      "    boost::python::object obj(f);\n",
      "\n",
      "    . . .\n",
      "}\n",
      "```"
     ]
    },
    {
     "cell_type": "markdown",
     "metadata": {
      "slideshow": {
       "slide_type": "fragment"
      }
     },
     "source": [
      "We will look at type-conversion in more detail later."
     ]
    },
    {
     "cell_type": "heading",
     "level": 1,
     "metadata": {
      "slideshow": {
       "slide_type": "subslide"
      }
     },
     "source": [
      "Extracting C++ object from Python objects with `extract<>`"
     ]
    },
    {
     "cell_type": "markdown",
     "metadata": {
      "slideshow": {
       "slide_type": "-"
      }
     },
     "source": [
      "You can convert `boost::python::object` instances into other C++ types with `boost::python::extract<>`."
     ]
    },
    {
     "cell_type": "markdown",
     "metadata": {
      "slideshow": {
       "slide_type": "fragment"
      }
     },
     "source": [
      "`extract<>` is a class, not a function, but its general use looks like a function call:\n",
      "\n",
      "```\n",
      "boost::python::object obj = ...;\n",
      "\n",
      "// Use extract<> to convert obj into a more useful type.\n",
      "Foo f = boost::python::extract<Foo>(obj.attr(\"get_foo\")());\n",
      "```"
     ]
    },
    {
     "cell_type": "heading",
     "level": 1,
     "metadata": {
      "slideshow": {
       "slide_type": "subslide"
      }
     },
     "source": [
      "Exceptions with Boost.Python"
     ]
    },
    {
     "cell_type": "heading",
     "level": 1,
     "metadata": {
      "slideshow": {
       "slide_type": "subslide"
      }
     },
     "source": [
      "Translating C++ exceptions into Python"
     ]
    },
    {
     "cell_type": "markdown",
     "metadata": {},
     "source": [
      "By default Boost.Python will translate C++ exceptions into a `RuntimeError` with the message \"Unidentifiable C++ exception.\""
     ]
    },
    {
     "cell_type": "markdown",
     "metadata": {
      "slideshow": {
       "slide_type": "fragment"
      }
     },
     "source": [
      "To provide better custom exception translation, you can use `boost::python::register_exception_translator()`."
     ]
    },
    {
     "cell_type": "markdown",
     "metadata": {
      "slideshow": {
       "slide_type": "fragment"
      }
     },
     "source": [
      "Read about it in the Boost.Python documentation at http://www.boost.org/doc/libs/1_41_0/libs/python/doc/v2/exception_translator.html"
     ]
    },
    {
     "cell_type": "heading",
     "level": 1,
     "metadata": {
      "slideshow": {
       "slide_type": "subslide"
      }
     },
     "source": [
      "Translating Python exceptions into C++"
     ]
    },
    {
     "cell_type": "markdown",
     "metadata": {},
     "source": [
      "Boost.Python will translate all Python exceptions into a `boost::python::error_already_set` exception."
     ]
    },
    {
     "cell_type": "markdown",
     "metadata": {
      "slideshow": {
       "slide_type": "fragment"
      }
     },
     "source": [
      "You can catch these, interrogate the Python C API exception registers, and take the appropriate action."
     ]
    },
    {
     "cell_type": "markdown",
     "metadata": {
      "slideshow": {
       "slide_type": "fragment"
      }
     },
     "source": [
      "**Handy debugging tip!** Boost.Python always throws `error_already_set` exceptions using `boost::python::throw_error_already_set()`. Setting a breakpoint here can be **very** useful when debugging exceptions."
     ]
    },
    {
     "cell_type": "heading",
     "level": 1,
     "metadata": {
      "slideshow": {
       "slide_type": "slide"
      }
     },
     "source": [
      "Build plumbing"
     ]
    },
    {
     "cell_type": "markdown",
     "metadata": {},
     "source": [
      "<img src=\"files/media/pipeline.jpg\" width=\"50%\">"
     ]
    },
    {
     "cell_type": "heading",
     "level": 2,
     "metadata": {
      "slideshow": {
       "slide_type": "subslide"
      }
     },
     "source": [
      "Compile time requirements"
     ]
    },
    {
     "cell_type": "markdown",
     "metadata": {},
     "source": [
      "You need to install the Python headers and make sure they're accessible.\n",
      "\n",
      "Likewise you'll need to be able to include the Boost headers."
     ]
    },
    {
     "cell_type": "heading",
     "level": 2,
     "metadata": {},
     "source": [
      "Link time requirements"
     ]
    },
    {
     "cell_type": "markdown",
     "metadata": {},
     "source": [
      "You'll need to link against both `libpython` and `libboost_python`. (The exact names will depend on your platform, of course.)\n",
      "\n",
      "It is **critical** that your `libboost_python` is built against the exact version of `libpython` you link against. This can be a bit tricky to set up sometimes, though most packaged versions of Boost will just \"do the right thing.\"\n",
      "\n",
      "If you mismatch the libraries, you may experience strange link errors, crashes, etc. "
     ]
    },
    {
     "cell_type": "heading",
     "level": 1,
     "metadata": {
      "slideshow": {
       "slide_type": "slide"
      }
     },
     "source": [
      "Interlude: Notebook setup"
     ]
    },
    {
     "cell_type": "markdown",
     "metadata": {
      "slideshow": {
       "slide_type": "fragment"
      }
     },
     "source": [
      "First we need to do a little bit of setup so that the notebook knows how to deal with C++/Boost.Python code. \n",
      "\n",
      "The hardest part comes first. In the directory containing this notebook you should find a file named ``bp_magic.py``. This file contains code that tell IPython Notebook how to compile C++ code against your installation of Boost.Python.\n",
      "\n",
      "Here we load the `cppmagic` notebook extension."
     ]
    },
    {
     "cell_type": "code",
     "collapsed": false,
     "input": [
      "%reload_ext bp_magic"
     ],
     "language": "python",
     "metadata": {
      "slideshow": {
       "slide_type": "fragment"
      }
     },
     "outputs": [],
     "prompt_number": 2
    },
    {
     "cell_type": "markdown",
     "metadata": {},
     "source": [
      "> *NOTE:* Right now `bp_magic.py` only works on unix-y systems with the command `g++`. It will likely require some fiddling to get \n",
      "> it working on your particular system. I'm open to any and all ideas on how to improve `bp_magic`, so let me know! "
     ]
    },
    {
     "cell_type": "markdown",
     "metadata": {
      "slideshow": {
       "slide_type": "fragment"
      }
     },
     "source": [
      "And here we verify that it works."
     ]
    },
    {
     "cell_type": "code",
     "collapsed": false,
     "input": [
      "%%bp_program cpp_verify\n",
      "\n",
      "#include<iostream>\n",
      "\n",
      "int main(int, char**)\n",
      "{\n",
      "    std::cout << \"It works!\\n\";\n",
      "    return 0;\n",
      "}"
     ],
     "language": "python",
     "metadata": {
      "slideshow": {
       "slide_type": "fragment"
      }
     },
     "outputs": []
    },
    {
     "cell_type": "heading",
     "level": 2,
     "metadata": {
      "slideshow": {
       "slide_type": "subslide"
      }
     },
     "source": [
      "Verifying that Boost.Python compiles/links"
     ]
    },
    {
     "cell_type": "markdown",
     "metadata": {
      "slideshow": {
       "slide_type": "-"
      }
     },
     "source": [
      "Now that the C++ compiler appears to be working, let's make sure that we can see properly use Boost.Python. From a C++ construction point of view, this means that we can see the `boost/python.hpp` header and link to `libboost_python`. Let's check that:"
     ]
    },
    {
     "cell_type": "code",
     "collapsed": false,
     "input": [
      "%%bp_program plumbing_test\n",
      "\n",
      "#include <iostream>\n",
      "#include <boost/python.hpp>\n",
      "\n",
      "int main(int, char**) {\n",
      "    std::cout << \"Successfully linked to Boost.Python!!\\n\";\n",
      "    return 0;\n",
      "}"
     ],
     "language": "python",
     "metadata": {
      "slideshow": {
       "slide_type": "-"
      }
     },
     "outputs": []
    },
    {
     "cell_type": "heading",
     "level": 2,
     "metadata": {
      "slideshow": {
       "slide_type": "subslide"
      }
     },
     "source": [
      "Make a *smoke test* module"
     ]
    },
    {
     "cell_type": "markdown",
     "metadata": {
      "slideshow": {
       "slide_type": "-"
      }
     },
     "source": [
      "Since we can link to Boost.Python, that means we're ready to make our first module with it. We'll name this module `smoke_test` since it won't do much more than verify that it can be imported."
     ]
    },
    {
     "cell_type": "code",
     "collapsed": false,
     "input": [
      "%%bp_module smoke_test\n",
      "\n",
      "#include <boost/python.hpp>\n",
      "\n",
      "namespace bp=boost::python;\n",
      "\n",
      "int test() { return 42; }\n",
      "\n",
      "BOOST_PYTHON_MODULE(smoke_test) {\n",
      "    bp::def(\"test\", test);\n",
      "}"
     ],
     "language": "python",
     "metadata": {
      "slideshow": {
       "slide_type": "-"
      }
     },
     "outputs": []
    },
    {
     "cell_type": "heading",
     "level": 2,
     "metadata": {
      "slideshow": {
       "slide_type": "subslide"
      }
     },
     "source": [
      "Verify that the module works"
     ]
    },
    {
     "cell_type": "markdown",
     "metadata": {
      "slideshow": {
       "slide_type": "-"
      }
     },
     "source": [
      "And of course now we want to import and execute that module."
     ]
    },
    {
     "cell_type": "code",
     "collapsed": false,
     "input": [
      "import smoke_test\n",
      "smoke_test.test()"
     ],
     "language": "python",
     "metadata": {
      "slideshow": {
       "slide_type": "-"
      }
     },
     "outputs": []
    },
    {
     "cell_type": "markdown",
     "metadata": {
      "slideshow": {
       "slide_type": "-"
      }
     },
     "source": [
      "Awesome! If you saw `42` output from the last script, then you're ready to move on to bigger things."
     ]
    },
    {
     "cell_type": "heading",
     "level": 1,
     "metadata": {
      "slideshow": {
       "slide_type": "slide"
      }
     },
     "source": [
      "Writing extension modules with Boost.Python"
     ]
    },
    {
     "cell_type": "heading",
     "level": 2,
     "metadata": {
      "slideshow": {
       "slide_type": "subslide"
      }
     },
     "source": [
      "What is an extension module?"
     ]
    },
    {
     "cell_type": "markdown",
     "metadata": {},
     "source": [
      "An extension module is a Python module written in a different language.\n",
      "\n",
      "In our case, it's a module written in C++ using Boost.Python instead of directly using the C API."
     ]
    },
    {
     "cell_type": "markdown",
     "metadata": {},
     "source": [
      "<img src=\"files/media/extension_module.png\">"
     ]
    },
    {
     "cell_type": "heading",
     "level": 2,
     "metadata": {
      "slideshow": {
       "slide_type": "subslide"
      }
     },
     "source": [
      "The `BOOST_PYTHON_MODULE` macro"
     ]
    },
    {
     "cell_type": "markdown",
     "metadata": {},
     "source": [
      "Python modules are required to expose a specific set of symbols, the naming of which are based upon the module name itself.\n",
      "\n",
      "These symbols refer to tables and structures telling Python how to make names to functions, classes, and so forth.\n",
      "\n",
      "Boost.Python goes to great lengths to make this much easier and more intuitive than the C API.\n",
      "\n",
      "A critical thing that you must do for every module is use the `BOOST_PYTHON_MODULE` macro to generate the required boilerplate. Here's how an empty module looks:"
     ]
    },
    {
     "cell_type": "code",
     "collapsed": false,
     "input": [
      "%%bp_module empty_module\n",
      "\n",
      "#include <boost/python.hpp>\n",
      "\n",
      "BOOST_PYTHON_MODULE(empty_module) {\n",
      "    // module-level symbols are defined here.\n",
      "}"
     ],
     "language": "python",
     "metadata": {},
     "outputs": []
    },
    {
     "cell_type": "markdown",
     "metadata": {},
     "source": [
      "If we import that import Python, we'll see that the module has no contents:"
     ]
    },
    {
     "cell_type": "code",
     "collapsed": false,
     "input": [
      "import empty_module\n",
      "dir(empty_module)"
     ],
     "language": "python",
     "metadata": {},
     "outputs": []
    },
    {
     "cell_type": "heading",
     "level": 2,
     "metadata": {
      "slideshow": {
       "slide_type": "subslide"
      }
     },
     "source": [
      "The `BOOST_PYTHON_MODULE` macro: don't pass a quoted string"
     ]
    },
    {
     "cell_type": "markdown",
     "metadata": {},
     "source": [
      "There are a few critical details to using the macro correctly."
     ]
    },
    {
     "cell_type": "markdown",
     "metadata": {
      "slideshow": {
       "slide_type": "fragment"
      }
     },
     "source": [
      "First, don't pass the module name as a string in quotes. Don't do this:\n",
      "\n",
      "    BOOST_PYTHON_MODULE(\"module_name\")  // WRONG!\n",
      "    \n",
      "but instead leave the quotes off:\n",
      "\n",
      "    BOOST_PYTHON_MODULE(module_name)    // Correct"
     ]
    },
    {
     "cell_type": "heading",
     "level": 2,
     "metadata": {},
     "source": [
      "The `BOOST_PYTHON_MODULE` macro: module name must match library"
     ]
    },
    {
     "cell_type": "markdown",
     "metadata": {
      "slideshow": {
       "slide_type": "-"
      }
     },
     "source": [
      "Second, make sure that the name you use for the module matches the library name you generate. So if you use:\n",
      "\n",
      "    BOOST_PYTHON_MODULE(foobar)\n",
      "    \n",
      "then make sure that your module is named \"foobar\". \n",
      "\n",
      "This means that your library will be named `foobar.so` (or `foobar.dll` or whatever.) "
     ]
    },
    {
     "cell_type": "markdown",
     "metadata": {
      "slideshow": {
       "slide_type": "fragment"
      }
     },
     "source": [
      "Here's what happens when things don't match up."
     ]
    },
    {
     "cell_type": "code",
     "collapsed": false,
     "input": [
      "%%bp_module different_names\n",
      "\n",
      "#include <boost/python.hpp>\n",
      "\n",
      "BOOST_PYTHON_MODULE(forskjellige_navn) {}"
     ],
     "language": "python",
     "metadata": {},
     "outputs": []
    },
    {
     "cell_type": "code",
     "collapsed": false,
     "input": [
      "import different_names"
     ],
     "language": "python",
     "metadata": {},
     "outputs": []
    },
    {
     "cell_type": "heading",
     "level": 2,
     "metadata": {},
     "source": [
      "The module is executed at import time"
     ]
    },
    {
     "cell_type": "markdown",
     "metadata": {},
     "source": [
      "Like all Python modules, the modules created with Boost.Python are imported and executed dynamically. As such, they can execute initialization and setup code as needed, a technique that can be very useful."
     ]
    },
    {
     "cell_type": "code",
     "collapsed": false,
     "input": [
      "%%bp_module module_init\n",
      "\n",
      "#include <fstream>\n",
      "#include <boost/python.hpp>\n",
      "\n",
      "void initialize() {\n",
      "    std::ofstream ofs(\"module_init.txt\");\n",
      "    ofs << \"Module has been initialized!\";\n",
      "}\n",
      "\n",
      "BOOST_PYTHON_MODULE(module_init) {\n",
      "    initialize();\n",
      "}"
     ],
     "language": "python",
     "metadata": {},
     "outputs": []
    },
    {
     "cell_type": "code",
     "collapsed": false,
     "input": [
      "import os\n",
      "\n",
      "INIT_FILE = 'module_init.txt'\n",
      "\n",
      "# Ensure and verify that the module init file doesn't exist\n",
      "if os.path.exists(INIT_FILE): \n",
      "    os.remove(INIT_FILE)\n",
      "assert not os.path.exists(INIT_FILE)\n",
      "\n",
      "# Import the module\n",
      "import module_init\n",
      "\n",
      "assert os.path.exists(INIT_FILE)"
     ],
     "language": "python",
     "metadata": {},
     "outputs": []
    },
    {
     "cell_type": "heading",
     "level": 2,
     "metadata": {
      "slideshow": {
       "slide_type": "subslide"
      }
     },
     "source": [
      "Exposing functions"
     ]
    },
    {
     "cell_type": "markdown",
     "metadata": {},
     "source": [
      "You expose function using `boost::python::def()`. Most commonly you only need to pass the Python name of the function followed by the C++ function name. \n",
      "\n",
      "`def()` must be called *inside* the module macro block to be included in the module. \n",
      "\n",
      "Note how Boost.Python automatically determines the types involved in the function signature. You normally never need to tell it about return or argument types."
     ]
    },
    {
     "cell_type": "heading",
     "level": 2,
     "metadata": {
      "slideshow": {
       "slide_type": "subslide"
      }
     },
     "source": [
      "Exposing functions: the `prime_detector` module"
     ]
    },
    {
     "cell_type": "markdown",
     "metadata": {
      "slideshow": {
       "slide_type": "-"
      }
     },
     "source": [
      "Let's define a simple prime-number detector function for our first real module:"
     ]
    },
    {
     "cell_type": "code",
     "collapsed": false,
     "input": [
      "%%bp_module prime_detector\n",
      "\n",
      "#include <cmath>\n",
      "#include <boost/python.hpp>\n",
      "\n",
      "bool isPrime(unsigned long x) {\n",
      "    if (x <= 2) return true;\n",
      "    \n",
      "    if (x % 2 == 0) return false;\n",
      "    \n",
      "    for (unsigned long div = 3; div <= sqrt(x); div += 2) {\n",
      "        if (x % div == 0) return false;\n",
      "    }\n",
      "    return true;\n",
      "}\n",
      "\n",
      "BOOST_PYTHON_MODULE(prime_detector) {\n",
      "    boost::python::def(\"is_prime\",  // The first argument is the Python name \n",
      "                       isPrime);    // The second argument is the C++ function you're exposing\n",
      "}"
     ],
     "language": "python",
     "metadata": {},
     "outputs": []
    },
    {
     "cell_type": "code",
     "collapsed": false,
     "input": [
      "from prime_detector import is_prime\n",
      "\n",
      "for i in range(10):\n",
      "    print(i, 'prime' if is_prime(i) else 'not prime')"
     ],
     "language": "python",
     "metadata": {
      "slideshow": {
       "slide_type": "fragment"
      }
     },
     "outputs": []
    },
    {
     "cell_type": "heading",
     "level": 2,
     "metadata": {
      "slideshow": {
       "slide_type": "subslide"
      }
     },
     "source": [
      "Exposing overloaded functions to Python"
     ]
    },
    {
     "cell_type": "markdown",
     "metadata": {},
     "source": [
      "For an overloaded function, `def` can't automatically figure out which overload you mean from just the name.\n",
      "\n",
      "To support overloading, you have to use function-pointer aliases so that `def` can associated Python names with the correct version of a function.\n",
      "\n",
      "Consider a set of functions that calculate volumes in 3, 4, and 5 dimensions:"
     ]
    },
    {
     "cell_type": "code",
     "collapsed": false,
     "input": [
      "%%bp_module volume_overload\n",
      "\n",
      "#include <boost/python.hpp>\n",
      "\n",
      "double volume(double a, double b, double c) { return a * b * c; }\n",
      "double volume(double a, double b, double c, double d) { return a * b * c * d; }\n",
      "double volume(double a, double b, double c, double d, double e) { return a * b * c * d * e; }\n",
      "\n",
      "double (*volume3)(double, double, double) = &volume;\n",
      "double (*volume4)(double, double, double, double) = &volume;\n",
      "double (*volume5)(double, double, double, double, double) = &volume;\n",
      "\n",
      "BOOST_PYTHON_MODULE(volume_overload) {\n",
      "    boost::python::def(\"volume\", volume3);\n",
      "    boost::python::def(\"volume\", volume4);\n",
      "    boost::python::def(\"volume\", volume5);\n",
      "}"
     ],
     "language": "python",
     "metadata": {},
     "outputs": []
    },
    {
     "cell_type": "code",
     "collapsed": false,
     "input": [
      "from volume_overload import volume\n",
      "\n",
      "print(volume(3, 7, 2))\n",
      "print(volume(6, 9, 3, 4))\n",
      "print(volume(4, 5, 6, 7, 8))"
     ],
     "language": "python",
     "metadata": {
      "slideshow": {
       "slide_type": "fragment"
      }
     },
     "outputs": []
    },
    {
     "cell_type": "heading",
     "level": 2,
     "metadata": {
      "slideshow": {
       "slide_type": "subslide"
      }
     },
     "source": [
      "Default argument values"
     ]
    },
    {
     "cell_type": "markdown",
     "metadata": {},
     "source": [
      "An alternative - and probably simpler - way of implementing our volume calculator is with default argument value.\n",
      "\n",
      "Ultimately, there's no way for `def` to know anything about default values, so one strategy for exposing functions with default argument values is to create wrapper functions:\n",
      "\n",
      "```\n",
      "// The main function\n",
      "double volume(double a, double b, double c, double d=1, double e=1) { return a * b * c * d * e; }\n",
      "\n",
      "// Wrappers for the various arities\n",
      "double volume3(double a, double b, double c) { return volume(a, b, c); }\n",
      "double volume4(double a, double b, double c, double d) { return volume(a, b, c, d); }\n",
      "double volume5(double a, double b, double c, double d, double e) { return volume(a, b, c, d, e); }\n",
      "\n",
      "// We would now expose the three wrapper functions instead of volume().\n",
      "```"
     ]
    },
    {
     "cell_type": "markdown",
     "metadata": {
      "slideshow": {
       "slide_type": "fragment"
      }
     },
     "source": [
      "This is clearly a bit tedious and mechanical, so recent versions of Boost.Python now include the `BOOST_PYTHON_FUNCTION_OVERLOADS` macro for automating this work."
     ]
    },
    {
     "cell_type": "heading",
     "level": 2,
     "metadata": {
      "slideshow": {
       "slide_type": "subslide"
      }
     },
     "source": [
      "Default argument values: BOOST_PYTHON_FUNCTION_OVERLOADS"
     ]
    },
    {
     "cell_type": "markdown",
     "metadata": {},
     "source": [
      "`BOOST_PYTHON_FUNCTION_OVERLOADS` takes the following arguments:\n",
      "\n",
      " * The name of the overloads class to create\n",
      " * The name of the function with default argument values\n",
      " * The minimum number of arguments the function accepts\n",
      " * The maximum number of arguments the function accepts\n",
      " \n",
      "So for our volume calculator the entire modules looks something like this:"
     ]
    },
    {
     "cell_type": "code",
     "collapsed": false,
     "input": [
      "%%bp_module volume_defaults\n",
      "\n",
      "#include <boost/python.hpp>\n",
      "\n",
      "double volume(double a, double b, double c, double d=1, double e=1) { return a * b * c * d * e; }\n",
      "\n",
      "BOOST_PYTHON_FUNCTION_OVERLOADS(volume_overloads, volume, 3, 5);\n",
      "\n",
      "BOOST_PYTHON_MODULE(volume_defaults) {\n",
      "    // Notice that def() takes three arguments here.\n",
      "    boost::python::def(\"volume\", volume, volume_overloads());\n",
      "}"
     ],
     "language": "python",
     "metadata": {},
     "outputs": []
    },
    {
     "cell_type": "code",
     "collapsed": false,
     "input": [
      "from volume_defaults import volume\n",
      "\n",
      "print(volume(1, 1, 2))\n",
      "print(volume(3, 5, 8, 13))\n",
      "print(volume(21, 34, 55, 89, 144))"
     ],
     "language": "python",
     "metadata": {
      "slideshow": {
       "slide_type": "fragment"
      }
     },
     "outputs": []
    },
    {
     "cell_type": "markdown",
     "metadata": {
      "slideshow": {
       "slide_type": "fragment"
      }
     },
     "source": [
      "And of course the Python function requires a minimum number of arguments:"
     ]
    },
    {
     "cell_type": "code",
     "collapsed": false,
     "input": [
      "print(volume(3, 5))\n"
     ],
     "language": "python",
     "metadata": {
      "slideshow": {
       "slide_type": "fragment"
      }
     },
     "outputs": []
    },
    {
     "cell_type": "markdown",
     "metadata": {
      "slideshow": {
       "slide_type": "fragment"
      }
     },
     "source": [
      "and a maximum:"
     ]
    },
    {
     "cell_type": "code",
     "collapsed": false,
     "input": [
      "print(volume(1, 2, 3, 4, 5, 6))\n"
     ],
     "language": "python",
     "metadata": {},
     "outputs": []
    },
    {
     "cell_type": "heading",
     "level": 2,
     "metadata": {
      "slideshow": {
       "slide_type": "subslide"
      }
     },
     "source": [
      "Call policies"
     ]
    },
    {
     "cell_type": "markdown",
     "metadata": {},
     "source": [
      "Because C++ can work at very low level with direct references and pointers, it is possible to create situations where Boost.Python can't determine lifetime relationships between objects.\n",
      "\n",
      "To address this problem, Boost.Python has a notion of *call policies* that allow you to explicitly declare lifetime relationships that would otherwise be obscure."
     ]
    },
    {
     "cell_type": "markdown",
     "metadata": {
      "slideshow": {
       "slide_type": "fragment"
      }
     },
     "source": [
      "Consider the following (admittedly silly) code:\n",
      "\n"
     ]
    },
    {
     "cell_type": "code",
     "collapsed": false,
     "input": [
      "%%snippet\n",
      "\n",
      "class Peach {\n",
      "public:\n",
      "    Pit& pit() { return pit_; }\n",
      "    \n",
      "private:\n",
      "    Pit pit_;\n",
      "};"
     ],
     "language": "python",
     "metadata": {
      "slideshow": {
       "slide_type": "fragment"
      }
     },
     "outputs": []
    },
    {
     "cell_type": "markdown",
     "metadata": {
      "slideshow": {
       "slide_type": "fragment"
      }
     },
     "source": [
      "We haven't yet talked about how to move `Peach` instances between Python and C++, but assume that we had that ability. \n",
      "\n",
      "We would then have problems with code like this:"
     ]
    },
    {
     "cell_type": "code",
     "collapsed": false,
     "input": [
      "%%snippet\n",
      "\n",
      "peach = create_peach() # peach refers to a Peach instance\n",
      "pit = peach.pit()      # pit refers to the Pit instance inside peach\n",
      "del peach              # We've now potentially lost all references to the Peach instance\n",
      "print(pit)             # Uh oh! pit is probably referring to deallocated memory!"
     ],
     "language": "python",
     "metadata": {
      "slideshow": {
       "slide_type": "fragment"
      }
     },
     "outputs": []
    },
    {
     "cell_type": "heading",
     "level": 2,
     "metadata": {
      "slideshow": {
       "slide_type": "subslide"
      }
     },
     "source": [
      "Call policies: the available options"
     ]
    },
    {
     "cell_type": "markdown",
     "metadata": {},
     "source": [
      "The available call policies are:\n",
      "\n",
      " * `with_custodian_and_ward`\n",
      " * `with_custodian_and_ward_postcall`\n",
      " * `return_internal_reference`\n",
      " * `return_value_policy<T>` where T is one of:\n",
      "   * `reference_existing_object`\n",
      "   * `copy_const_reference`\n",
      "   * `copy_non_const_reference`\n",
      "   * `manage_new_object`\n",
      "   \n",
      "Full detail can be found at [the Boost.Python function documentation](http://www.boost.org/doc/libs/1_55_0/libs/python/doc/tutorial/doc/html/python/functions.html) and [the Boost.Python reference documentation](http://www.boost.org/doc/libs/1_55_0/libs/python/doc/v2/reference.html#models_of_call_policies).\n"
     ]
    },
    {
     "cell_type": "heading",
     "level": 1,
     "metadata": {
      "slideshow": {
       "slide_type": "subslide"
      }
     },
     "source": [
      "A note on notation"
     ]
    },
    {
     "cell_type": "markdown",
     "metadata": {},
     "source": [
      "In some code samples the shortened namespace `bp` will sometimes be used instead of `boost::python`. In these cases the code is written as if\n",
      "\n",
      "`namespace bp=boost::python`\n",
      "\n",
      "preceded the sample."
     ]
    },
    {
     "cell_type": "heading",
     "level": 1,
     "metadata": {},
     "source": [
      "Exposing classes"
     ]
    },
    {
     "cell_type": "markdown",
     "metadata": {},
     "source": [
      "Just like we use the `def` function to expose functions to Python, Boost.Python provides the `class_<>` template for exposing classes. \n",
      "\n",
      "The basic form for wrapping a class is `class_<ClassToBeWrapped>(\"PythonClassName\")`. For example:"
     ]
    },
    {
     "cell_type": "code",
     "collapsed": false,
     "input": [
      "%%bp_module matrix1\n",
      "\n",
      "#include <boost/python.hpp>\n",
      "\n",
      "namespace matrix1 {\n",
      "                   \n",
      "class Matrix {};\n",
      "\n",
      "}\n",
      "\n",
      "BOOST_PYTHON_MODULE(matrix1) {\n",
      "    using namespace matrix1;\n",
      "    boost::python::class_<Matrix>(\"Matrix\");\n",
      "}"
     ],
     "language": "python",
     "metadata": {},
     "outputs": [],
     "prompt_number": 6
    },
    {
     "cell_type": "markdown",
     "metadata": {},
     "source": [
      "> *Note on implementation details:* The reason we need to use different names and namespaces - e.g. \"matrix1\" - throughout these example is because of how IPython, Python, and Boost.Python all interact. Don't get confused by these details. What's important to focus on is the evolution of the `Matrix` class and the module definition."
     ]
    },
    {
     "cell_type": "markdown",
     "metadata": {
      "slideshow": {
       "slide_type": "fragment"
      }
     },
     "source": [
      "With this, you can import your module and create new `Matrix` objects in Python:\n"
     ]
    },
    {
     "cell_type": "code",
     "collapsed": false,
     "input": [
      "from matrix1 import Matrix\n",
      "\n",
      "print(Matrix)\n",
      "\n",
      "m = Matrix()\n",
      "print(type(m))\n",
      "print(dir(m))"
     ],
     "language": "python",
     "metadata": {
      "slideshow": {
       "slide_type": "fragment"
      }
     },
     "outputs": [
      {
       "output_type": "stream",
       "stream": "stdout",
       "text": [
        "<class 'matrix1.Matrix'>\n",
        "<class 'matrix1.Matrix'>\n",
        "['__class__', '__delattr__', '__dict__', '__doc__', '__format__', '__getattribute__', '__hash__', '__init__', '__instance_size__', '__module__', '__new__', '__reduce__', '__reduce_ex__', '__repr__', '__setattr__', '__sizeof__', '__str__', '__subclasshook__', '__weakref__']\n"
       ]
      }
     ],
     "prompt_number": 7
    },
    {
     "cell_type": "heading",
     "level": 2,
     "metadata": {
      "slideshow": {
       "slide_type": "subslide"
      }
     },
     "source": [
      "Member functions"
     ]
    },
    {
     "cell_type": "markdown",
     "metadata": {},
     "source": [
      "Exposing empty classes is not that interesting, and of course Boost.Python provides a way to expose member functions.\n",
      "\n",
      "Like normal functions, you use a function called `def()` to expose member functions. This version of `def()` is a member of the value returned by `class_<>`.\n",
      "\n",
      "First let's update our class with some member functions for accessing the size of the `Matrix`:"
     ]
    },
    {
     "cell_type": "code",
     "collapsed": false,
     "input": [
      "%%bp_module matrix2\n",
      "\n",
      "#include <boost/python.hpp>\n",
      "\n",
      "namespace matrix2 {\n",
      "\n",
      "class Matrix {\n",
      "public:\n",
      "    Matrix() : size_x_(0), size_y_(0) {}\n",
      "    unsigned int size_x() const { return size_x_; }\n",
      "    unsigned int size_y() const { return size_y_; }\n",
      "    \n",
      "private:\n",
      "    unsigned int size_x_;\n",
      "    unsigned int size_y_;\n",
      "};\n",
      "\n",
      "}\n",
      "\n",
      "BOOST_PYTHON_MODULE(matrix2) {\n",
      "    using namespace matrix2;\n",
      "    boost::python::class_<Matrix>(\"Matrix\")\n",
      "        .def(\"size_x\", &Matrix::size_x)\n",
      "        .def(\"size_y\", &Matrix::size_y)\n",
      "        ;\n",
      "}"
     ],
     "language": "python",
     "metadata": {},
     "outputs": [],
     "prompt_number": 3
    },
    {
     "cell_type": "markdown",
     "metadata": {
      "slideshow": {
       "slide_type": "fragment"
      }
     },
     "source": [
      "It's still not much of a matrix implementation, but it's getting there. We can see that it works in Python:"
     ]
    },
    {
     "cell_type": "code",
     "collapsed": false,
     "input": [
      "from matrix2 import Matrix\n",
      "\n",
      "m = Matrix()\n",
      "print(m.size_x())\n",
      "print(m.size_y())"
     ],
     "language": "python",
     "metadata": {
      "slideshow": {
       "slide_type": "fragment"
      }
     },
     "outputs": [
      {
       "output_type": "stream",
       "stream": "stdout",
       "text": [
        "0\n",
        "0\n"
       ]
      }
     ],
     "prompt_number": 4
    },
    {
     "cell_type": "heading",
     "level": 1,
     "metadata": {
      "slideshow": {
       "slide_type": "subslide"
      }
     },
     "source": [
      "Constructors"
     ]
    },
    {
     "cell_type": "markdown",
     "metadata": {},
     "source": [
      "An obvious shortcoming of our Matrix implementation so far is that you can only have zero-sized matrices. To allow users to create matrices with positive size, we need to add a constructor to the Matrix class.\n",
      "\n",
      "With Boost.Python you use the `init<>` class to define constructors. `init<>` takes any number (really, up to a practical limit) of template arguments specifying the types of arguments to the constructor.\n",
      "\n",
      "For your class's first constructor, you pass the `init<>` as the second argument of the `class_<>` constructor. For any subsequent constructors, you can call `def()` with `init<>` instances."
     ]
    },
    {
     "cell_type": "markdown",
     "metadata": {
      "slideshow": {
       "slide_type": "fragment"
      }
     },
     "source": [
      "Let's add some proper constructors to our Matrix to see how this works:"
     ]
    },
    {
     "cell_type": "code",
     "collapsed": false,
     "input": [
      "%%bp_module matrix3\n",
      "\n",
      "#include <boost/python.hpp>\n",
      "\n",
      "namespace matrix3 {\n",
      " \n",
      "class Matrix {\n",
      "public:\n",
      "    Matrix(const Matrix& m) : size_x_ (m.size_x()), size_y_(m.size_y()) {}\n",
      "    Matrix(unsigned int x, unsigned int y) : size_x_(x), size_y_(y) {}\n",
      "    unsigned int size_x() const { return size_x_; }\n",
      "    unsigned int size_y() const { return size_y_; }\n",
      "              \n",
      "private:\n",
      "    unsigned int size_x_;\n",
      "    unsigned int size_y_;\n",
      "};\n",
      " \n",
      "}\n",
      "\n",
      "BOOST_PYTHON_MODULE(matrix3) {\n",
      "    using namespace matrix3;\n",
      "    namespace bp=boost::python;\n",
      "    \n",
      "    boost::python::class_<Matrix>(\"Matrix\", bp::init<unsigned int, unsigned int>())\n",
      "        .def(bp::init<const Matrix&>())\n",
      "        .def(\"size_x\", &Matrix::size_x)\n",
      "        .def(\"size_y\", &Matrix::size_y)\n",
      "        ;\n",
      "}"
     ],
     "language": "python",
     "metadata": {
      "slideshow": {
       "slide_type": "fragment"
      }
     },
     "outputs": [],
     "prompt_number": 9
    },
    {
     "cell_type": "markdown",
     "metadata": {
      "slideshow": {
       "slide_type": "fragment"
      }
     },
     "source": [
      "We can see that the two-argument constructor works as expected:"
     ]
    },
    {
     "cell_type": "code",
     "collapsed": false,
     "input": [
      "from matrix3 import Matrix\n",
      "\n",
      "m = Matrix(123, 456)\n",
      "print(m.size_x())\n",
      "print(m.size_y())"
     ],
     "language": "python",
     "metadata": {
      "slideshow": {
       "slide_type": "fragment"
      }
     },
     "outputs": [
      {
       "output_type": "stream",
       "stream": "stdout",
       "text": [
        "123\n",
        "456\n"
       ]
      }
     ],
     "prompt_number": 10
    },
    {
     "cell_type": "markdown",
     "metadata": {
      "slideshow": {
       "slide_type": "fragment"
      }
     },
     "source": [
      "and that the copy constructor version works as well:"
     ]
    },
    {
     "cell_type": "code",
     "collapsed": false,
     "input": [
      "m2 = Matrix(m)\n",
      "print(m2.size_x(), m2.size_y())"
     ],
     "language": "python",
     "metadata": {
      "slideshow": {
       "slide_type": "fragment"
      }
     },
     "outputs": [
      {
       "output_type": "stream",
       "stream": "stdout",
       "text": [
        "(123, 456)\n"
       ]
      }
     ],
     "prompt_number": 11
    },
    {
     "cell_type": "heading",
     "level": 1,
     "metadata": {
      "slideshow": {
       "slide_type": "subslide"
      }
     },
     "source": [
      "Data members"
     ]
    },
    {
     "cell_type": "markdown",
     "metadata": {},
     "source": [
      "Boost.Python also allows you to expose C++ data members.\n",
      "\n",
      "Use the `def_readonly` and `def_readwrite` functions of `class_<>` to add read-only and read-write data members, respectively.\n",
      "\n",
      "There's no great reason to add public data members to our `Matrix` class, so we're going to leave that example for now and create a different class to demonstrate data members:"
     ]
    },
    {
     "cell_type": "code",
     "collapsed": false,
     "input": [
      "%%bp_module data_members\n",
      "\n",
      "#include <boost/python.hpp>\n",
      "#include <string>\n",
      "\n",
      "namespace data_members {\n",
      "    \n",
      "struct Identifiable {\n",
      "    Identifiable(const int id,\n",
      "                 const std::string& name) : id_(id), name_(name) {}\n",
      "    const int id_;\n",
      "    std::string name_;\n",
      "};\n",
      "\n",
      "}\n",
      "\n",
      "BOOST_PYTHON_MODULE(data_members) {\n",
      "    using namespace data_members;\n",
      "    namespace bp=boost::python;\n",
      "    \n",
      "    bp::class_<Identifiable>(\"Identifiable\", bp::init<int, const std::string&>())\n",
      "        .def_readonly(\"id\", &Identifiable::id_)\n",
      "        .def_readwrite(\"name\", &Identifiable::name_)\n",
      "        ;\n",
      "}"
     ],
     "language": "python",
     "metadata": {},
     "outputs": [],
     "prompt_number": 24
    },
    {
     "cell_type": "markdown",
     "metadata": {
      "slideshow": {
       "slide_type": "fragment"
      }
     },
     "source": [
      "In Python we can see that these data members are exposed as we expect:"
     ]
    },
    {
     "cell_type": "code",
     "collapsed": false,
     "input": [
      "from data_members import Identifiable\n",
      "\n",
      "i = Identifiable(4, \"Fred\")\n",
      "print(i.id, i.name)"
     ],
     "language": "python",
     "metadata": {
      "slideshow": {
       "slide_type": "fragment"
      }
     },
     "outputs": [
      {
       "output_type": "stream",
       "stream": "stdout",
       "text": [
        "(4, 'Fred')\n"
       ]
      }
     ],
     "prompt_number": 25
    },
    {
     "cell_type": "markdown",
     "metadata": {},
     "source": [
      "We can edit the `name` field:"
     ]
    },
    {
     "cell_type": "code",
     "collapsed": false,
     "input": [
      "i.name = \"Fredrick\"\n",
      "print(i.id, i.name)"
     ],
     "language": "python",
     "metadata": {},
     "outputs": [
      {
       "output_type": "stream",
       "stream": "stdout",
       "text": [
        "(4, 'Fredrick')\n"
       ]
      }
     ],
     "prompt_number": 26
    },
    {
     "cell_type": "markdown",
     "metadata": {},
     "source": [
      "but not the id:"
     ]
    },
    {
     "cell_type": "code",
     "collapsed": false,
     "input": [
      "i.id = 1234"
     ],
     "language": "python",
     "metadata": {},
     "outputs": [
      {
       "ename": "AttributeError",
       "evalue": "can't set attribute",
       "output_type": "pyerr",
       "traceback": [
        "\u001b[0;31m---------------------------------------------------------------------------\u001b[0m\n\u001b[0;31mAttributeError\u001b[0m                            Traceback (most recent call last)",
        "\u001b[0;32m<ipython-input-27-fabc4c2fa401>\u001b[0m in \u001b[0;36m<module>\u001b[0;34m()\u001b[0m\n\u001b[0;32m----> 1\u001b[0;31m \u001b[0mi\u001b[0m\u001b[0;34m.\u001b[0m\u001b[0mid\u001b[0m \u001b[0;34m=\u001b[0m \u001b[0;36m1234\u001b[0m\u001b[0;34m\u001b[0m\u001b[0m\n\u001b[0m",
        "\u001b[0;31mAttributeError\u001b[0m: can't set attribute"
       ]
      }
     ],
     "prompt_number": 27
    },
    {
     "cell_type": "heading",
     "level": 1,
     "metadata": {
      "slideshow": {
       "slide_type": "subslide"
      }
     },
     "source": [
      "Inheritance"
     ]
    },
    {
     "cell_type": "markdown",
     "metadata": {},
     "source": [
      "Boost.Python allows you specify inheritance relationships between your C++ classes when exposing them to Python.\n",
      "\n",
      "When you do this, the Python classes for derived C++ classes get all of the base Python class's attributes.\n",
      "\n",
      "You express inheritance in Boost.Python by passing a `bases<>` template instantiation as the second template parameter to the `class_<>` template, like this:\n",
      "\n",
      "```\n",
      "class_<SomeClass, bases<BaseClass> >( . . .);\n",
      "```"
     ]
    },
    {
     "cell_type": "markdown",
     "metadata": {
      "slideshow": {
       "slide_type": "fragment"
      }
     },
     "source": [
      "To demonstrate this, let's derive our Matrix class from Identifiable (with some modification for readability):"
     ]
    },
    {
     "cell_type": "code",
     "collapsed": false,
     "input": [
      "%%bp_module matrix4\n",
      "\n",
      "#include <boost/python.hpp>\n",
      "#include <string>\n",
      "\n",
      "namespace matrix4 {\n",
      "    \n",
      "struct Identifiable {\n",
      "    Identifiable(const int id,\n",
      "                 const std::string& name) : id_(id), name_(name) {}\n",
      "    const int id_;\n",
      "    std::string name_;\n",
      "};\n",
      "\n",
      "class Matrix : public Identifiable {\n",
      "public:\n",
      "    Matrix(unsigned int x, \n",
      "           unsigned int y, \n",
      "           int id, \n",
      "           const std::string& name) : Identifiable(id, name),\n",
      "                                               size_x_(x), \n",
      "                                               size_y_(y) {}\n",
      "    unsigned int size_x() const { return size_x_; }\n",
      "    unsigned int size_y() const { return size_y_; }\n",
      "              \n",
      "private:\n",
      "    unsigned int size_x_;\n",
      "    unsigned int size_y_;\n",
      "};\n",
      "\n",
      "}\n",
      "\n",
      "BOOST_PYTHON_MODULE(matrix4) {\n",
      "    using namespace matrix4;\n",
      "    namespace bp=boost::python;\n",
      "    \n",
      "    bp::class_<Identifiable>(\"Identifiable\", bp::init<int, const std::string&>())\n",
      "        .def_readonly(\"id\", &Identifiable::id_)\n",
      "        .def_readwrite(\"name\", &Identifiable::name_)\n",
      "        ;\n",
      "        \n",
      "    bp::class_<Matrix, bp::bases<Identifiable> >(\"Matrix\", \n",
      "                                                 bp::init<unsigned int, \n",
      "                                                          unsigned int, \n",
      "                                                          int, \n",
      "                                                          const std::string&>())\n",
      "        .def(\"size_x\", &Matrix::size_x)\n",
      "        .def(\"size_y\", &Matrix::size_y)\n",
      "        ;\n",
      "}"
     ],
     "language": "python",
     "metadata": {
      "slideshow": {
       "slide_type": "fragment"
      }
     },
     "outputs": [],
     "prompt_number": 30
    },
    {
     "cell_type": "markdown",
     "metadata": {
      "slideshow": {
       "slide_type": "fragment"
      }
     },
     "source": [
      "Now if we create a Matrix in Python, we can see that it has all of the attribute of an Identifiable:"
     ]
    },
    {
     "cell_type": "code",
     "collapsed": false,
     "input": [
      "from matrix4 import Matrix\n",
      "\n",
      "m = Matrix(100, 200, 5, \"important data\")\n",
      "print(m.size_x(), m.size_y())\n",
      "print(m.id, m.name)"
     ],
     "language": "python",
     "metadata": {
      "slideshow": {
       "slide_type": "fragment"
      }
     },
     "outputs": [
      {
       "output_type": "stream",
       "stream": "stdout",
       "text": [
        "(100, 200)\n",
        "(5, 'important data')\n"
       ]
      }
     ],
     "prompt_number": 31
    },
    {
     "cell_type": "heading",
     "level": 1,
     "metadata": {
      "slideshow": {
       "slide_type": "subslide"
      }
     },
     "source": [
      "Properties"
     ]
    },
    {
     "cell_type": "markdown",
     "metadata": {},
     "source": [
      "Let's look at how we can make our Python APIs a bit more Pythonic with *properties*.\n",
      "\n",
      "Properties don't have a real analogue in C++, but Boost.Python provides the `add_property()` function for adding properties which are backed by C++ functions.\n",
      "\n",
      "`add_property()` takes the property's names as its first argument. The second argument is the function which *gets* the property value, and the optional third argument is the *setter* function."
     ]
    },
    {
     "cell_type": "markdown",
     "metadata": {
      "slideshow": {
       "slide_type": "fragment"
      }
     },
     "source": [
      "Let's update Identifiable to use properties rather than functions for its attributes:"
     ]
    },
    {
     "cell_type": "code",
     "collapsed": false,
     "input": [
      "%%bp_module properties\n",
      "\n",
      "#include <boost/python.hpp>\n",
      "#include <string>\n",
      "\n",
      "namespace properties {\n",
      "\n",
      "class Identifiable {\n",
      "public:\n",
      "    Identifiable(int id, const std::string& name) : id_(id), name_(name) {}\n",
      "    int id() const { return id_; }\n",
      "    \n",
      "    std::string name() const { return name_; }\n",
      "    void set_name(const std::string& name) { name_ = name; }\n",
      "                    \n",
      "private:\n",
      "    const int id_;\n",
      "    std::string name_;\n",
      "};\n",
      "                      \n",
      "}\n",
      "\n",
      "BOOST_PYTHON_MODULE(properties) {\n",
      "    using namespace properties;\n",
      "    namespace bp=boost::python;\n",
      "    \n",
      "    bp::class_<Identifiable>(\"Identifiable\", bp::init<int, const std::string&>())\n",
      "        .add_property(\"id\", &Identifiable::id)\n",
      "        .add_property(\"name\", &Identifiable::name, &Identifiable::set_name)\n",
      "        ;\n",
      "}"
     ],
     "language": "python",
     "metadata": {
      "slideshow": {
       "slide_type": "fragment"
      }
     },
     "outputs": [],
     "prompt_number": 36
    },
    {
     "cell_type": "markdown",
     "metadata": {
      "slideshow": {
       "slide_type": "fragment"
      }
     },
     "source": [
      "This is probably a better design in C++ than the original struct. And we can still have the nice, property-oriented Python API we want:"
     ]
    },
    {
     "cell_type": "code",
     "collapsed": false,
     "input": [
      "from properties import Identifiable\n",
      "\n",
      "i = Identifiable(96, \"Johnny Allen\")\n",
      "print(i.id, i.name)"
     ],
     "language": "python",
     "metadata": {
      "slideshow": {
       "slide_type": "fragment"
      }
     },
     "outputs": [
      {
       "output_type": "stream",
       "stream": "stdout",
       "text": [
        "(96, 'Johnny Allen')\n"
       ]
      }
     ],
     "prompt_number": 37
    },
    {
     "cell_type": "code",
     "collapsed": false,
     "input": [
      "i.name = \"James Marshall\"\n",
      "print(i.id, i.name)"
     ],
     "language": "python",
     "metadata": {
      "slideshow": {
       "slide_type": "fragment"
      }
     },
     "outputs": [
      {
       "output_type": "stream",
       "stream": "stdout",
       "text": [
        "(96, 'James Marshall')\n"
       ]
      }
     ],
     "prompt_number": 38
    },
    {
     "cell_type": "code",
     "collapsed": false,
     "input": [
      "i.id = 13"
     ],
     "language": "python",
     "metadata": {
      "slideshow": {
       "slide_type": "fragment"
      }
     },
     "outputs": [
      {
       "ename": "AttributeError",
       "evalue": "can't set attribute",
       "output_type": "pyerr",
       "traceback": [
        "\u001b[0;31m---------------------------------------------------------------------------\u001b[0m\n\u001b[0;31mAttributeError\u001b[0m                            Traceback (most recent call last)",
        "\u001b[0;32m<ipython-input-39-400e286b83a0>\u001b[0m in \u001b[0;36m<module>\u001b[0;34m()\u001b[0m\n\u001b[0;32m----> 1\u001b[0;31m \u001b[0mi\u001b[0m\u001b[0;34m.\u001b[0m\u001b[0mid\u001b[0m \u001b[0;34m=\u001b[0m \u001b[0;36m13\u001b[0m\u001b[0;34m\u001b[0m\u001b[0m\n\u001b[0m",
        "\u001b[0;31mAttributeError\u001b[0m: can't set attribute"
       ]
      }
     ],
     "prompt_number": 39
    },
    {
     "cell_type": "heading",
     "level": 2,
     "metadata": {
      "slideshow": {
       "slide_type": "subslide"
      }
     },
     "source": [
      "Passing instances back into C++"
     ]
    },
    {
     "cell_type": "markdown",
     "metadata": {},
     "source": [
      "Once you've created Python wrapper for a C++ class, what you can you do with it? We've seen that you can instantiate the classes in Python, and often that's all you really need to do.\n",
      "\n",
      "On top of that, you can also pass these objects across the Python/C++ boundary seamlessly. A C++ function can return an exposed class into Python, and it can accept wrapped classes from Python.\n",
      "\n",
      "Let's see how that work:"
     ]
    },
    {
     "cell_type": "code",
     "collapsed": false,
     "input": [
      "%%bp_module matrix5\n",
      "\n",
      "#include <boost/python.hpp>\n",
      "\n",
      "namespace matrix5 {\n",
      "\n",
      "class Matrix {\n",
      "public:\n",
      "    Matrix(unsigned int x, \n",
      "           unsigned int y) : size_x_(x), \n",
      "                             size_y_(y) {}\n",
      "    unsigned int size_x() const { return size_x_; }\n",
      "    unsigned int size_y() const { return size_y_; }\n",
      "              \n",
      "private:\n",
      "    unsigned int size_x_;\n",
      "    unsigned int size_y_;\n",
      "};\n",
      "\n",
      "Matrix make_square_matrix(unsigned int size) { return Matrix(size, size); }\n",
      "\n",
      "bool is_square(const Matrix& m) { return m.size_x() == m.size_y(); }\n",
      "\n",
      "}\n",
      "\n",
      "BOOST_PYTHON_MODULE(matrix5) {\n",
      "    using namespace matrix5;\n",
      "    namespace bp=boost::python;\n",
      "        \n",
      "    bp::class_<Matrix>(\"Matrix\", \n",
      "                       bp::init<unsigned int, unsigned int>())\n",
      "        .add_property(\"size_x\", &Matrix::size_x)\n",
      "        .add_property(\"size_y\", &Matrix::size_y)\n",
      "        ;\n",
      "        \n",
      "    bp::def(\"make_square_matrix\", make_square_matrix);\n",
      "    bp::def(\"is_square\", is_square);\n",
      "}"
     ],
     "language": "python",
     "metadata": {
      "slideshow": {
       "slide_type": "fragment"
      }
     },
     "outputs": [],
     "prompt_number": 23
    },
    {
     "cell_type": "code",
     "collapsed": false,
     "input": [
      "from matrix5 import *\n",
      "\n",
      "m = make_square_matrix(10)\n",
      "print(m, m.size_x, m.size_y)\n",
      "\n",
      "print('square?', is_square(m))"
     ],
     "language": "python",
     "metadata": {
      "slideshow": {
       "slide_type": "fragment"
      }
     },
     "outputs": [
      {
       "output_type": "stream",
       "stream": "stdout",
       "text": [
        "(<matrix5.Matrix object at 0x110934b40>, 10, 10)\n",
        "('square?', True)\n"
       ]
      }
     ],
     "prompt_number": 24
    },
    {
     "cell_type": "heading",
     "level": 2,
     "metadata": {},
     "source": [
      "This is awesome!"
     ]
    },
    {
     "cell_type": "markdown",
     "metadata": {
      "slideshow": {
       "slide_type": "fragment"
      }
     },
     "source": [
      "At this point you've got a great many useful tools as your disposal. \n",
      "\n",
      "You can easily - almost trivially - expose C++ functions and classes to Python.\n",
      "\n",
      "You can pass wrapped classes back and forth across the Python/C++ boundary.\n",
      "\n",
      "You can define Python APIs straight from C++.\n",
      "\n",
      "You can express all of this in ways that don't obscure your intent."
     ]
    },
    {
     "cell_type": "heading",
     "level": 2,
     "metadata": {
      "slideshow": {
       "slide_type": "subslide"
      }
     },
     "source": [
      "C++ exceptions"
     ]
    },
    {
     "cell_type": "markdown",
     "metadata": {},
     "source": [
      "The Python and C++ exception models are conceptually similar, but their implementation are entirely different.\n",
      "\n",
      "When exceptions come from C++ to the Python/C++ interface, they need to be translated from the C++ model to Python. \n",
      "\n",
      "By default, Boost.Python will translate any C++ exceptions into `RuntimeErrors` in Python."
     ]
    },
    {
     "cell_type": "code",
     "collapsed": false,
     "input": [
      "%%bp_module default_exception\n",
      "\n",
      "#include <boost/python.hpp>\n",
      "\n",
      "class MyException : public std::exception {};\n",
      "\n",
      "void throw_exception() { throw MyException(); }\n",
      "\n",
      "BOOST_PYTHON_MODULE(default_exception) {\n",
      "    boost::python::def(\"throw_exception\", throw_exception);\n",
      "}"
     ],
     "language": "python",
     "metadata": {
      "slideshow": {
       "slide_type": "fragment"
      }
     },
     "outputs": [],
     "prompt_number": 42
    },
    {
     "cell_type": "code",
     "collapsed": false,
     "input": [
      "from default_exception import throw_exception\n",
      "\n",
      "throw_exception()"
     ],
     "language": "python",
     "metadata": {
      "slideshow": {
       "slide_type": "fragment"
      }
     },
     "outputs": [
      {
       "ename": "RuntimeError",
       "evalue": "std::exception",
       "output_type": "pyerr",
       "traceback": [
        "\u001b[0;31m---------------------------------------------------------------------------\u001b[0m\n\u001b[0;31mRuntimeError\u001b[0m                              Traceback (most recent call last)",
        "\u001b[0;32m<ipython-input-43-ff0c51f0c2a3>\u001b[0m in \u001b[0;36m<module>\u001b[0;34m()\u001b[0m\n\u001b[1;32m      1\u001b[0m \u001b[0;32mfrom\u001b[0m \u001b[0mdefault_exception\u001b[0m \u001b[0;32mimport\u001b[0m \u001b[0mthrow_exception\u001b[0m\u001b[0;34m\u001b[0m\u001b[0m\n\u001b[1;32m      2\u001b[0m \u001b[0;34m\u001b[0m\u001b[0m\n\u001b[0;32m----> 3\u001b[0;31m \u001b[0mthrow_exception\u001b[0m\u001b[0;34m(\u001b[0m\u001b[0;34m)\u001b[0m\u001b[0;34m\u001b[0m\u001b[0m\n\u001b[0m",
        "\u001b[0;31mRuntimeError\u001b[0m: std::exception"
       ]
      }
     ],
     "prompt_number": 43
    },
    {
     "cell_type": "heading",
     "level": 2,
     "metadata": {
      "slideshow": {
       "slide_type": "subslide"
      }
     },
     "source": [
      "Explicitly translating C++ exceptions"
     ]
    },
    {
     "cell_type": "markdown",
     "metadata": {},
     "source": [
      "If you want to convert C++ exceptions into a more appropriate Python exception, you can catch them and use the Python C API to produce what you want.\n",
      "\n",
      "In this case, we'll translate `MyException` into a `SystemError` (just to keep things simple.)"
     ]
    },
    {
     "cell_type": "code",
     "collapsed": false,
     "input": [
      "%%bp_module explicit_raise\n",
      "\n",
      "#include <boost/python.hpp>\n",
      "\n",
      "class MyException : public std::exception {};\n",
      "\n",
      "void throw_exception() { throw MyException(); }\n",
      "\n",
      "void throw_exception_with_translate() {\n",
      "    try {\n",
      "         throw_exception();\n",
      "    } \n",
      "    catch (const MyException&) {\n",
      "        PyErr_SetString(PyExc_SystemError, \"Caught a MyException error...not sure what to do!\");\n",
      "    }\n",
      "}\n",
      "\n",
      "BOOST_PYTHON_MODULE(explicit_raise) {\n",
      "    boost::python::def(\"throw_exception\", throw_exception_with_translate);\n",
      "}"
     ],
     "language": "python",
     "metadata": {
      "slideshow": {
       "slide_type": "fragment"
      }
     },
     "outputs": [],
     "prompt_number": 3
    },
    {
     "cell_type": "code",
     "collapsed": false,
     "input": [
      "from explicit_raise import throw_exception\n",
      "\n",
      "throw_exception()"
     ],
     "language": "python",
     "metadata": {
      "slideshow": {
       "slide_type": "fragment"
      }
     },
     "outputs": [
      {
       "ename": "SystemError",
       "evalue": "Caught a MyException error...not sure what to do!",
       "output_type": "pyerr",
       "traceback": [
        "\u001b[0;31m---------------------------------------------------------------------------\u001b[0m\n\u001b[0;31mSystemError\u001b[0m                               Traceback (most recent call last)",
        "\u001b[0;31mSystemError\u001b[0m: Caught a MyException error...not sure what to do!"
       ]
      }
     ],
     "prompt_number": 4
    },
    {
     "cell_type": "heading",
     "level": 2,
     "metadata": {
      "slideshow": {
       "slide_type": "subslide"
      }
     },
     "source": [
      "Registering C++ exception translators"
     ]
    },
    {
     "cell_type": "markdown",
     "metadata": {},
     "source": [
      "A more scalable and maintainable approach to translating C++ exceptions is to use Boost.Python's `register_exception_translator<>` function.\n",
      "\n",
      "This will set up a global translator for specific C++ exception types, meaning that you don't have to explicitly catch and translate them yourself.\n",
      "\n",
      "Here's how that look:"
     ]
    },
    {
     "cell_type": "code",
     "collapsed": false,
     "input": [
      "%%bp_module registered_exception_translator\n",
      "\n",
      "#include <boost/python.hpp>\n",
      "\n",
      "class MyException : public std::exception {};\n",
      "\n",
      "void throw_exception() { throw MyException(); }\n",
      "\n",
      "void translate_MyException(const MyException&) {\n",
      "    PyErr_SetString(PyExc_SystemError, \"Caught a MyException error...not sure what to do!\");\n",
      "}\n",
      "\n",
      "BOOST_PYTHON_MODULE(registered_exception_translator) {\n",
      "    boost::python::register_exception_translator<MyException>(\n",
      "        translate_MyException);\n",
      "    \n",
      "    boost::python::def(\"throw_exception\", throw_exception);\n",
      "}"
     ],
     "language": "python",
     "metadata": {
      "slideshow": {
       "slide_type": "fragment"
      }
     },
     "outputs": [],
     "prompt_number": 6
    },
    {
     "cell_type": "code",
     "collapsed": false,
     "input": [
      "from registered_exception_translator import throw_exception\n",
      "\n",
      "throw_exception()"
     ],
     "language": "python",
     "metadata": {},
     "outputs": [
      {
       "ename": "SystemError",
       "evalue": "Caught a MyException error...not sure what to do!",
       "output_type": "pyerr",
       "traceback": [
        "\u001b[0;31m---------------------------------------------------------------------------\u001b[0m\n\u001b[0;31mSystemError\u001b[0m                               Traceback (most recent call last)",
        "\u001b[0;32m<ipython-input-7-31435548de4b>\u001b[0m in \u001b[0;36m<module>\u001b[0;34m()\u001b[0m\n\u001b[1;32m      1\u001b[0m \u001b[0;32mfrom\u001b[0m \u001b[0mregistered_exception_translator\u001b[0m \u001b[0;32mimport\u001b[0m \u001b[0mthrow_exception\u001b[0m\u001b[0;34m\u001b[0m\u001b[0m\n\u001b[1;32m      2\u001b[0m \u001b[0;34m\u001b[0m\u001b[0m\n\u001b[0;32m----> 3\u001b[0;31m \u001b[0mthrow_exception\u001b[0m\u001b[0;34m(\u001b[0m\u001b[0;34m)\u001b[0m\u001b[0;34m\u001b[0m\u001b[0m\n\u001b[0m",
        "\u001b[0;31mSystemError\u001b[0m: Caught a MyException error...not sure what to do!"
       ]
      }
     ],
     "prompt_number": 7
    },
    {
     "cell_type": "heading",
     "level": 2,
     "metadata": {
      "slideshow": {
       "slide_type": "subslide"
      }
     },
     "source": [
      "Enums"
     ]
    },
    {
     "cell_type": "markdown",
     "metadata": {},
     "source": [
      "Boost.Python provides a way to expose C++ `enum`s in Python even though Python doesn't have a native notion of `enum`s.\n",
      "\n",
      "As you might have guessed, you do this by using the `enum_<>` template. This takes the C++ enum as its argument, and it allows you to add Python attributes which map to constant values in C++.\n",
      "\n",
      "Here's a simple example of this looks:"
     ]
    },
    {
     "cell_type": "code",
     "collapsed": false,
     "input": [
      "%%bp_module enums\n",
      "\n",
      "#include <boost/python.hpp>\n",
      "\n",
      "// The obvious choices for projections...\n",
      "enum Projection {\n",
      "    Mercator,\n",
      "    Dymaxion,\n",
      "    Sinusoidal\n",
      "};\n",
      "\n",
      "BOOST_PYTHON_MODULE(enums) {\n",
      "    boost::python::enum_<Projection>(\"Projection\")\n",
      "        .value(\"Mercator\", Mercator)\n",
      "        .value(\"Dymaxion\", Dymaxion)\n",
      "        .value(\"Sinusoidal\", Sinusoidal)\n",
      "        ;\n",
      "}"
     ],
     "language": "python",
     "metadata": {
      "slideshow": {
       "slide_type": "fragment"
      }
     },
     "outputs": [],
     "prompt_number": 10
    },
    {
     "cell_type": "code",
     "collapsed": false,
     "input": [
      "import enums\n",
      "\n",
      "print('Class:' ,enums.Projection)\n",
      "print('names:', enums.Projection.names)\n",
      "print('Mercator:', enums.Projection.Mercator)\n",
      "print('Mercator == 0?', enums.Projection.Mercator == 0)\n",
      "print('Dymaxion value:', int(enums.Projection.Dymaxion))"
     ],
     "language": "python",
     "metadata": {
      "slideshow": {
       "slide_type": "fragment"
      }
     },
     "outputs": [
      {
       "output_type": "stream",
       "stream": "stdout",
       "text": [
        "('Class:', <class 'enums.Projection'>)\n",
        "('names:', {'Dymaxion': enums.Projection.Dymaxion, 'Sinusoidal': enums.Projection.Sinusoidal, 'Mercator': enums.Projection.Mercator})\n",
        "('Mercator:', enums.Projection.Mercator)\n",
        "('Mercator == 0?', True)\n",
        "('Dymaxion value:', 1)\n"
       ]
      }
     ],
     "prompt_number": 19
    },
    {
     "cell_type": "heading",
     "level": 1,
     "metadata": {},
     "source": [
      "Derived object types"
     ]
    },
    {
     "cell_type": "heading",
     "level": 1,
     "metadata": {},
     "source": [
      "Working with `boost::python::object`"
     ]
    },
    {
     "cell_type": "heading",
     "level": 1,
     "metadata": {
      "slideshow": {
       "slide_type": "slide"
      }
     },
     "source": [
      "Type Conversion"
     ]
    },
    {
     "cell_type": "heading",
     "level": 1,
     "metadata": {
      "slideshow": {
       "slide_type": "slide"
      }
     },
     "source": [
      "Embedding"
     ]
    },
    {
     "cell_type": "heading",
     "level": 1,
     "metadata": {},
     "source": [
      "Debugging"
     ]
    }
   ],
   "metadata": {}
  }
 ]
}