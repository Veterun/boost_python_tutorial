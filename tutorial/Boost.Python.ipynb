{
 "metadata": {
  "name": ""
 },
 "nbformat": 3,
 "nbformat_minor": 0,
 "worksheets": [
  {
   "cells": [
    {
     "cell_type": "heading",
     "level": 1,
     "metadata": {
      "slideshow": {
       "slide_type": "slide"
      }
     },
     "source": [
      "Integrating C++ and Python with Boost.Python\n"
     ]
    },
    {
     "cell_type": "markdown",
     "metadata": {
      "slideshow": {
       "slide_type": "-"
      }
     },
     "source": [
      "## Austin Bingham\n",
      "\n",
      "### @austin_bingham\n",
      "\n",
      "----\n",
      "\n",
      "<img src=\"files/media/SixtyNorth_logo.png\" width=\"25%\">"
     ]
    },
    {
     "cell_type": "heading",
     "level": 1,
     "metadata": {
      "slideshow": {
       "slide_type": "slide"
      }
     },
     "source": [
      "What is Python / C++ Integration?"
     ]
    },
    {
     "cell_type": "heading",
     "level": 1,
     "metadata": {
      "slideshow": {
       "slide_type": "slide"
      }
     },
     "source": [
      "Basics of the Python C API"
     ]
    },
    {
     "cell_type": "heading",
     "level": 1,
     "metadata": {
      "slideshow": {
       "slide_type": "slide"
      }
     },
     "source": [
      "Core Boost.Python"
     ]
    },
    {
     "cell_type": "heading",
     "level": 1,
     "metadata": {
      "slideshow": {
       "slide_type": "slide"
      }
     },
     "source": [
      "Build plumbing"
     ]
    },
    {
     "cell_type": "heading",
     "level": 1,
     "metadata": {
      "slideshow": {
       "slide_type": "slide"
      }
     },
     "source": [
      "Interlude: Notebook setup"
     ]
    },
    {
     "cell_type": "markdown",
     "metadata": {
      "slideshow": {
       "slide_type": "fragment"
      }
     },
     "source": [
      "First we need to do a little bit of setup so that the notebook knows how to deal with C++/Boost.Python code. \n",
      "\n",
      "The hardest part comes first. In the directory containing this notebook you should find a file named ``bp_magic.py``. This file contains code that tell IPython Notebook how to compile C++ code against your installation of Boost.Python.\n",
      "\n",
      "Here we load the `cppmagic` notebook extension."
     ]
    },
    {
     "cell_type": "code",
     "collapsed": false,
     "input": [
      "%reload_ext bp_magic"
     ],
     "language": "python",
     "metadata": {
      "slideshow": {
       "slide_type": "fragment"
      }
     },
     "outputs": [],
     "prompt_number": 1
    },
    {
     "cell_type": "markdown",
     "metadata": {
      "slideshow": {
       "slide_type": "fragment"
      }
     },
     "source": [
      "And here we verify that it works."
     ]
    },
    {
     "cell_type": "code",
     "collapsed": false,
     "input": [
      "%%bp_program cpp_verify\n",
      "\n",
      "#include<iostream>\n",
      "\n",
      "int main(int, char**)\n",
      "{\n",
      "    std::cout << \"It works!\\n\";\n",
      "    return 0;\n",
      "}"
     ],
     "language": "python",
     "metadata": {
      "slideshow": {
       "slide_type": "fragment"
      }
     },
     "outputs": [
      {
       "metadata": {},
       "output_type": "pyout",
       "prompt_number": 2,
       "text": [
        "['It works!']"
       ]
      }
     ],
     "prompt_number": 2
    },
    {
     "cell_type": "heading",
     "level": 2,
     "metadata": {
      "slideshow": {
       "slide_type": "subslide"
      }
     },
     "source": [
      "Verifying that Boost.Python compiles/links"
     ]
    },
    {
     "cell_type": "markdown",
     "metadata": {
      "slideshow": {
       "slide_type": "-"
      }
     },
     "source": [
      "Now that the C++ compiler appears to be working, let's make sure that we can see properly use Boost.Python. From a C++ construction point of view, this means that we can see the `boost/python.hpp` header and link to `libboost_python`. Let's check that:"
     ]
    },
    {
     "cell_type": "code",
     "collapsed": false,
     "input": [
      "%%bp_program plumbing_test\n",
      "\n",
      "#include <iostream>\n",
      "#include <boost/python.hpp>\n",
      "\n",
      "int main(int, char**) {\n",
      "    std::cout << \"Successfully linked to Boost.Python!!\\n\";\n",
      "    return 0;\n",
      "}"
     ],
     "language": "python",
     "metadata": {
      "slideshow": {
       "slide_type": "-"
      }
     },
     "outputs": [
      {
       "metadata": {},
       "output_type": "pyout",
       "prompt_number": 3,
       "text": [
        "['Successfully linked to Boost.Python!!']"
       ]
      }
     ],
     "prompt_number": 3
    },
    {
     "cell_type": "heading",
     "level": 2,
     "metadata": {
      "slideshow": {
       "slide_type": "subslide"
      }
     },
     "source": [
      "Make a *smoke test* module"
     ]
    },
    {
     "cell_type": "markdown",
     "metadata": {
      "slideshow": {
       "slide_type": "-"
      }
     },
     "source": [
      "Since we can link to Boost.Python, that means we're ready to make our first module with it. We'll name this module `smoke_test` since it won't do much more than verify that it can be imported."
     ]
    },
    {
     "cell_type": "code",
     "collapsed": false,
     "input": [
      "%%bp_module smoke_test\n",
      "\n",
      "#include <boost/python.hpp>\n",
      "\n",
      "namespace bp=boost::python;\n",
      "\n",
      "int test() { return 42; }\n",
      "\n",
      "BOOST_PYTHON_MODULE(smoke_test) {\n",
      "    bp::def(\"test\", test);\n",
      "}"
     ],
     "language": "python",
     "metadata": {
      "slideshow": {
       "slide_type": "-"
      }
     },
     "outputs": [
      {
       "metadata": {},
       "output_type": "pyout",
       "prompt_number": 4,
       "text": [
        "[]"
       ]
      }
     ],
     "prompt_number": 4
    },
    {
     "cell_type": "heading",
     "level": 2,
     "metadata": {
      "slideshow": {
       "slide_type": "subslide"
      }
     },
     "source": [
      "Verify that the module works"
     ]
    },
    {
     "cell_type": "markdown",
     "metadata": {
      "slideshow": {
       "slide_type": "-"
      }
     },
     "source": [
      "And of course now we want to import and execute that module."
     ]
    },
    {
     "cell_type": "code",
     "collapsed": false,
     "input": [
      "import smoke_test\n",
      "smoke_test.test()"
     ],
     "language": "python",
     "metadata": {
      "slideshow": {
       "slide_type": "-"
      }
     },
     "outputs": [
      {
       "metadata": {},
       "output_type": "pyout",
       "prompt_number": 5,
       "text": [
        "42"
       ]
      }
     ],
     "prompt_number": 5
    },
    {
     "cell_type": "markdown",
     "metadata": {
      "slideshow": {
       "slide_type": "-"
      }
     },
     "source": [
      "Awesome! If you saw `42` output from the last script, then you're ready to move on to bigger things."
     ]
    },
    {
     "cell_type": "heading",
     "level": 1,
     "metadata": {
      "slideshow": {
       "slide_type": "slide"
      }
     },
     "source": [
      "Extending"
     ]
    },
    {
     "cell_type": "heading",
     "level": 1,
     "metadata": {
      "slideshow": {
       "slide_type": "slide"
      }
     },
     "source": [
      "Type Conversion"
     ]
    },
    {
     "cell_type": "heading",
     "level": 1,
     "metadata": {
      "slideshow": {
       "slide_type": "slide"
      }
     },
     "source": [
      "Embedding"
     ]
    }
   ],
   "metadata": {}
  }
 ]
}