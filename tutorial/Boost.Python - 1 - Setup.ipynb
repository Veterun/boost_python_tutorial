{
 "metadata": {
  "name": ""
 },
 "nbformat": 3,
 "nbformat_minor": 0,
 "worksheets": [
  {
   "cells": [
    {
     "cell_type": "heading",
     "level": 1,
     "metadata": {
      "slideshow": {
       "slide_type": "slide"
      }
     },
     "source": [
      "Integrating C++ and Python with Boost.Python: Setup\n"
     ]
    },
    {
     "cell_type": "markdown",
     "metadata": {},
     "source": [
      "This is the interactive coding portion of the \"Integrating C++ and Python with Boost.Python\" talk at ACCU 2014. Demonstrating code is problematic in presentations, both because it can be boring to watch for the audience and stressful to present for the presenter. I'm hoping that this notebook format will help alleviate both of these issues!"
     ]
    },
    {
     "cell_type": "heading",
     "level": 2,
     "metadata": {},
     "source": [
      "Setup"
     ]
    },
    {
     "cell_type": "markdown",
     "metadata": {},
     "source": [
      "First we need to do a little bit of setup so that the notebook knows how to deal with C++/Boost.Python code. \n",
      "\n",
      "The hardest part comes first. In the directory containing this notebook you should find a file named ``bp_magic.py``. This file contains code that tell IPython Notebook how to compile C++ code against your installation of Boost.Python.\n",
      "\n",
      "Here we load the `cppmagic` notebook extension."
     ]
    },
    {
     "cell_type": "code",
     "collapsed": false,
     "input": [
      "%reload_ext bp_magic\n",
      "%reload_ext autoreload\n",
      "%autoreload 2"
     ],
     "language": "python",
     "metadata": {},
     "outputs": [],
     "prompt_number": 20
    },
    {
     "cell_type": "markdown",
     "metadata": {},
     "source": [
      "And here we verify that it works."
     ]
    },
    {
     "cell_type": "code",
     "collapsed": false,
     "input": [
      "%%bp_program cpp_verify\n",
      "\n",
      "#include<iostream>\n",
      "\n",
      "int main(int, char**)\n",
      "{\n",
      "    std::cout << \"It works!\\n\";\n",
      "    return 0;\n",
      "}"
     ],
     "language": "python",
     "metadata": {},
     "outputs": [
      {
       "metadata": {},
       "output_type": "pyout",
       "prompt_number": 3,
       "text": [
        "['It works!']"
       ]
      }
     ],
     "prompt_number": 3
    },
    {
     "cell_type": "heading",
     "level": 2,
     "metadata": {},
     "source": [
      "Verifying the Boost.Python plumbing"
     ]
    },
    {
     "cell_type": "markdown",
     "metadata": {},
     "source": [
      "Now that the C++ compiler appears to be working, let's make sure that we can see properly use Boost.Python. From a C++ construction point of view, this means that we can see the `boost/python.hpp` header and link to `libboost_python`. Let's check that:"
     ]
    },
    {
     "cell_type": "code",
     "collapsed": false,
     "input": [
      "%%bp_program plumbing_test\n",
      "\n",
      "#include <iostream>\n",
      "#include <boost/python.hpp>\n",
      "\n",
      "int main(int, char**) {\n",
      "    std::cout << \"Successfully linked to Boost.Python!!\\n\";\n",
      "    return 0;\n",
      "}"
     ],
     "language": "python",
     "metadata": {},
     "outputs": [
      {
       "metadata": {},
       "output_type": "pyout",
       "prompt_number": 4,
       "text": [
        "['Successfully linked to Boost.Python!!']"
       ]
      }
     ],
     "prompt_number": 4
    },
    {
     "cell_type": "markdown",
     "metadata": {},
     "source": [
      "Since we can link to Boost.Python, that means we're ready to make our first module with it. We'll name this module `smoke_test` since it won't do much more than verify that it can be imported."
     ]
    },
    {
     "cell_type": "code",
     "collapsed": false,
     "input": [
      "%%bp_module smoke_test\n",
      "\n",
      "#include <boost/python.hpp>\n",
      "\n",
      "namespace bp=boost::python;\n",
      "\n",
      "int test() { return 7; }\n",
      "\n",
      "BOOST_PYTHON_MODULE(smoke_test) {\n",
      "    bp::def(\"test\", test);\n",
      "}"
     ],
     "language": "python",
     "metadata": {},
     "outputs": [
      {
       "metadata": {},
       "output_type": "pyout",
       "prompt_number": 44,
       "text": [
        "[]"
       ]
      }
     ],
     "prompt_number": 44
    },
    {
     "cell_type": "markdown",
     "metadata": {},
     "source": [
      "And of course now we want to import and execute that module."
     ]
    },
    {
     "cell_type": "code",
     "collapsed": false,
     "input": [
      "reload(smoke_test)\n",
      "print(id(smoke_test.test))\n",
      "smoke_test.test()"
     ],
     "language": "python",
     "metadata": {},
     "outputs": [
      {
       "output_type": "stream",
       "stream": "stdout",
       "text": [
        "140353395265296\n"
       ]
      },
      {
       "metadata": {},
       "output_type": "pyout",
       "prompt_number": 48,
       "text": [
        "5"
       ]
      }
     ],
     "prompt_number": 48
    },
    {
     "cell_type": "markdown",
     "metadata": {},
     "source": [
      "Awesome! If you saw `3` output from the last script, then you're ready to move on to bigger things."
     ]
    },
    {
     "cell_type": "code",
     "collapsed": false,
     "input": [],
     "language": "python",
     "metadata": {},
     "outputs": []
    }
   ],
   "metadata": {}
  }
 ]
}