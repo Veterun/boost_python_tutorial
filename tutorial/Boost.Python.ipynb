{
 "metadata": {
  "name": ""
 },
 "nbformat": 3,
 "nbformat_minor": 0,
 "worksheets": [
  {
   "cells": [
    {
     "cell_type": "heading",
     "level": 1,
     "metadata": {
      "slideshow": {
       "slide_type": "slide"
      }
     },
     "source": [
      "Integrating C++ and Python with Boost.Python\n"
     ]
    },
    {
     "cell_type": "markdown",
     "metadata": {
      "slideshow": {
       "slide_type": "-"
      }
     },
     "source": [
      "## Austin Bingham\n",
      "\n",
      "### @austin_bingham\n",
      "\n",
      "----\n",
      "\n",
      "<img src=\"files/media/SixtyNorth_logo.png\" width=\"25%\">"
     ]
    },
    {
     "cell_type": "heading",
     "level": 1,
     "metadata": {
      "slideshow": {
       "slide_type": "slide"
      }
     },
     "source": [
      "What is Python / C++ Integration?"
     ]
    },
    {
     "cell_type": "heading",
     "level": 1,
     "metadata": {
      "slideshow": {
       "slide_type": "subslide"
      }
     },
     "source": [
      "A lot of language integration can happen between processes"
     ]
    },
    {
     "cell_type": "markdown",
     "metadata": {},
     "source": [
      "<img src=\"files/media/IPC.png\">"
     ]
    },
    {
     "cell_type": "markdown",
     "metadata": {},
     "source": [
      "This is useful and interesting, but not what we're talking about here."
     ]
    },
    {
     "cell_type": "heading",
     "level": 1,
     "metadata": {
      "slideshow": {
       "slide_type": "subslide"
      }
     },
     "source": [
      "Python is a C library"
     ]
    },
    {
     "cell_type": "markdown",
     "metadata": {},
     "source": [
      "<img src=\"files/media/python_libpython.png\">"
     ]
    },
    {
     "cell_type": "heading",
     "level": 1,
     "metadata": {
      "slideshow": {
       "slide_type": "subslide"
      }
     },
     "source": [
      "Integration is fundamentally just using libpython as a library"
     ]
    },
    {
     "cell_type": "markdown",
     "metadata": {},
     "source": [
      "<table border=\"0\">\n",
      "<tr><td><h2>Extension</h2></td><td><h2>Embedding</h2></td></tr>\n",
      "<tr><td><img src=\"files/media/extension_module.png\"></td><td><img src=\"files/media/embedding.png\"></td></tr>\n",
      "</table>"
     ]
    },
    {
     "cell_type": "heading",
     "level": 1,
     "metadata": {
      "slideshow": {
       "slide_type": "subslide"
      }
     },
     "source": [
      "Everything Python does, you can do, too!"
     ]
    },
    {
     "cell_type": "heading",
     "level": 2,
     "metadata": {},
     "source": [
      "This is great because..."
     ]
    },
    {
     "cell_type": "markdown",
     "metadata": {
      "slideshow": {
       "slide_type": "fragment"
      }
     },
     "source": [
      "...it gives you a lot of power."
     ]
    },
    {
     "cell_type": "markdown",
     "metadata": {
      "slideshow": {
       "slide_type": "fragment"
      }
     },
     "source": [
      "...it can help with performance."
     ]
    },
    {
     "cell_type": "markdown",
     "metadata": {
      "slideshow": {
       "slide_type": "fragment"
      }
     },
     "source": [
      "...it provides interoperability with a broad base of existing software."
     ]
    },
    {
     "cell_type": "heading",
     "level": 2,
     "metadata": {
      "slideshow": {
       "slide_type": "fragment"
      }
     },
     "source": [
      "This is terrible because..."
     ]
    },
    {
     "cell_type": "markdown",
     "metadata": {
      "slideshow": {
       "slide_type": "fragment"
      }
     },
     "source": [
      "...the C API can be hard to work with."
     ]
    },
    {
     "cell_type": "markdown",
     "metadata": {
      "slideshow": {
       "slide_type": "fragment"
      }
     },
     "source": [
      "...you are responsible for doing things correctly."
     ]
    },
    {
     "cell_type": "markdown",
     "metadata": {
      "slideshow": {
       "slide_type": "fragment"
      }
     },
     "source": [
      "...it introduces the possibility for bugs that are impossible in pure Python."
     ]
    },
    {
     "cell_type": "heading",
     "level": 1,
     "metadata": {
      "slideshow": {
       "slide_type": "subslide"
      }
     },
     "source": [
      "Are you sure you still want to do this?"
     ]
    },
    {
     "cell_type": "markdown",
     "metadata": {},
     "source": [
      "<img src=\"files/media/dante.jpg\">"
     ]
    },
    {
     "cell_type": "heading",
     "level": 1,
     "metadata": {
      "slideshow": {
       "slide_type": "slide"
      }
     },
     "source": [
      "Basics of the Python C API"
     ]
    },
    {
     "cell_type": "markdown",
     "metadata": {},
     "source": [
      "<img src=\"files/media/python-logo.png\">"
     ]
    },
    {
     "cell_type": "heading",
     "level": 1,
     "metadata": {
      "slideshow": {
       "slide_type": "subslide"
      }
     },
     "source": [
      "PyObject"
     ]
    },
    {
     "cell_type": "markdown",
     "metadata": {
      "slideshow": {
       "slide_type": "fragment"
      }
     },
     "source": [
      "`PyObject` is the central type for everything that happens in the Python C API."
     ]
    },
    {
     "cell_type": "markdown",
     "metadata": {
      "slideshow": {
       "slide_type": "fragment"
      }
     },
     "source": [
      "Every \"thing\" in Python is represented as a `PyObject`."
     ]
    },
    {
     "cell_type": "markdown",
     "metadata": {
      "slideshow": {
       "slide_type": "fragment"
      }
     },
     "source": [
      "`PyObject` manages two central details in Python:\n",
      "\n",
      " * an object's *type*\n",
      " * and object's *reference count*"
     ]
    },
    {
     "cell_type": "markdown",
     "metadata": {},
     "source": [
      "*Examples of `PyObject` in the C API:*\n",
      "\n",
      "```C\n",
      "PyObject* PyObject_GetAttr(PyObject *o, PyObject *attr_name)\n",
      "\n",
      "int PyDict_SetItem(PyObject *p, PyObject *key, PyObject *val)\n",
      "\n",
      "PyObject* PyErr_SetFromErrnoWithFilenameObject(PyObject *type, PyObject *filenameObject)\n",
      "```"
     ]
    },
    {
     "cell_type": "heading",
     "level": 2,
     "metadata": {
      "slideshow": {
       "slide_type": "subslide"
      }
     },
     "source": [
      "Reference counting"
     ]
    },
    {
     "cell_type": "markdown",
     "metadata": {
      "slideshow": {
       "slide_type": "fragment"
      }
     },
     "source": [
      "Every object contains a count of references to that object."
     ]
    },
    {
     "cell_type": "markdown",
     "metadata": {
      "slideshow": {
       "slide_type": "fragment"
      }
     },
     "source": [
      "The garbage collector uses this number to determine when an object can be de/reallocated."
     ]
    },
    {
     "cell_type": "markdown",
     "metadata": {
      "slideshow": {
       "slide_type": "fragment"
      }
     },
     "source": [
      "This is generally invisible to users at the Python level, but it's **critical** to users of the C API."
     ]
    },
    {
     "cell_type": "heading",
     "level": 3,
     "metadata": {
      "slideshow": {
       "slide_type": "subslide"
      }
     },
     "source": [
      "Reference count example"
     ]
    },
    {
     "cell_type": "code",
     "collapsed": false,
     "input": [
      "from sys import getrefcount\n",
      "\n",
      "x = 'a simple string'\n",
      "print('Ref-count of string with on reference: {}'.format(getrefcount(x)))\n",
      "\n",
      "y = x\n",
      "print('Ref-count of string with an alias: {}'.format(getrefcount(x)))\n",
      "\n",
      "y = None\n",
      "print('Ref-count of string after removing alias: {}'.format(getrefcount(x)))"
     ],
     "language": "python",
     "metadata": {},
     "outputs": [
      {
       "output_type": "stream",
       "stream": "stdout",
       "text": [
        "Ref-count of string with on reference: 3\n",
        "Ref-count of string with an alias: 4\n",
        "Ref-count of string after removing alias: 3\n"
       ]
      }
     ],
     "prompt_number": 4
    },
    {
     "cell_type": "heading",
     "level": 3,
     "metadata": {
      "slideshow": {
       "slide_type": "subslide"
      }
     },
     "source": [
      "Reference count example illustrated"
     ]
    },
    {
     "cell_type": "markdown",
     "metadata": {
      "slideshow": {
       "slide_type": "fragment"
      }
     },
     "source": [
      "The string starts with a single reference, `x`.\n",
      "\n",
      "<img src=\"files/media/ref_count_1.png\">"
     ]
    },
    {
     "cell_type": "markdown",
     "metadata": {
      "slideshow": {
       "slide_type": "fragment"
      }
     },
     "source": [
      "The creation of the new reference `y` increments the reference count by 1.\n",
      "\n",
      "<img src=\"files/media/ref_count_2.png\">"
     ]
    },
    {
     "cell_type": "markdown",
     "metadata": {
      "slideshow": {
       "slide_type": "fragment"
      }
     },
     "source": [
      "Reassignment of `y` decrements the reference count on the string.\n",
      "\n",
      "<img src=\"files/media/ref_count_3.png\">"
     ]
    },
    {
     "cell_type": "heading",
     "level": 3,
     "metadata": {
      "slideshow": {
       "slide_type": "subslide"
      }
     },
     "source": [
      "Everything has a ref-count"
     ]
    },
    {
     "cell_type": "code",
     "collapsed": false,
     "input": [
      "print('Ref-count of None: {}'.format(getrefcount(None)))\n",
      "print('Ref-count of sys: {}'.format(getrefcount(sys)))\n",
      "print('Ref-count of sys.getrefcount: {}'.format(getrefcount(getrefcount)))"
     ],
     "language": "python",
     "metadata": {},
     "outputs": [
      {
       "output_type": "stream",
       "stream": "stdout",
       "text": [
        "Ref-count of None: 10567\n",
        "Ref-count of sys: 230\n",
        "Ref-count of sys.getrefcount: 5\n"
       ]
      }
     ],
     "prompt_number": 13
    },
    {
     "cell_type": "heading",
     "level": 3,
     "metadata": {
      "slideshow": {
       "slide_type": "subslide"
      }
     },
     "source": [
      "What can go wrong with reference counting?"
     ]
    },
    {
     "cell_type": "markdown",
     "metadata": {
      "slideshow": {
       "slide_type": "fragment"
      }
     },
     "source": [
      "You can forget to increment it."
     ]
    },
    {
     "cell_type": "markdown",
     "metadata": {
      "slideshow": {
       "slide_type": "fragment"
      }
     },
     "source": [
      "You can forget to decrement it."
     ]
    },
    {
     "cell_type": "markdown",
     "metadata": {
      "slideshow": {
       "slide_type": "fragment"
      }
     },
     "source": [
      "You can increment it too many times."
     ]
    },
    {
     "cell_type": "markdown",
     "metadata": {
      "slideshow": {
       "slide_type": "fragment"
      }
     },
     "source": [
      "You can decrement it too many times."
     ]
    },
    {
     "cell_type": "heading",
     "level": 3,
     "metadata": {
      "slideshow": {
       "slide_type": "subslide"
      }
     },
     "source": [
      "Reference counting API"
     ]
    },
    {
     "cell_type": "markdown",
     "metadata": {},
     "source": [
      "The primary functions (really macros) for doing reference counting are:\n",
      "\n",
      " * `Py_INCREF()`\n",
      " * `Py_XINCREF()` - checks for NULL first\n",
      " * `Py_DECREF()`\n",
      " * `Py_XDECREF()` - checks for NULL first\n",
      " * `Py_CLEAR()` - checks for NULL first\n",
      " \n",
      "See http://docs.python.org/3/c-api/refcounting.html for full details."
     ]
    },
    {
     "cell_type": "heading",
     "level": 2,
     "metadata": {
      "slideshow": {
       "slide_type": "subslide"
      }
     },
     "source": [
      "Exceptions and error handling"
     ]
    },
    {
     "cell_type": "markdown",
     "metadata": {
      "slideshow": {
       "slide_type": "fragment"
      }
     },
     "source": [
      "C doesn't have exceptions, so Python's exceptions are expressed purely in terms of the C language."
     ]
    },
    {
     "cell_type": "markdown",
     "metadata": {
      "slideshow": {
       "slide_type": "fragment"
      }
     },
     "source": [
      "What this ultimately means is that there are some global exception variables which indicate if an exception has been thrown."
     ]
    },
    {
     "cell_type": "markdown",
     "metadata": {
      "slideshow": {
       "slide_type": "fragment"
      }
     },
     "source": [
      "It is up to callers to check and set these as appropriate. "
     ]
    },
    {
     "cell_type": "heading",
     "level": 2,
     "metadata": {
      "slideshow": {
       "slide_type": "subslide"
      }
     },
     "source": [
      "Raising exceptions"
     ]
    },
    {
     "cell_type": "markdown",
     "metadata": {},
     "source": [
      "There are a number of ways to raise exceptions with the C API."
     ]
    },
    {
     "cell_type": "markdown",
     "metadata": {
      "slideshow": {
       "slide_type": "fragment"
      }
     },
     "source": [
      "The most common is `PyErr_SetString`:"
     ]
    },
    {
     "cell_type": "markdown",
     "metadata": {
      "slideshow": {
       "slide_type": "fragment"
      }
     },
     "source": [
      "```C\n",
      "void PyErr_SetString(PyObject *type, const char *message)\n",
      "```"
     ]
    },
    {
     "cell_type": "heading",
     "level": 3,
     "metadata": {
      "slideshow": {
       "slide_type": "fragment"
      }
     },
     "source": [
      "The exception API can be tricky"
     ]
    },
    {
     "cell_type": "markdown",
     "metadata": {
      "slideshow": {
       "slide_type": "fragment"
      }
     },
     "source": [
      "Many C API calls will clear the exception registers."
     ]
    },
    {
     "cell_type": "markdown",
     "metadata": {
      "slideshow": {
       "slide_type": "fragment"
      }
     },
     "source": [
      "Some functions require the registers to be set."
     ]
    },
    {
     "cell_type": "markdown",
     "metadata": {
      "slideshow": {
       "slide_type": "subslide"
      }
     },
     "source": [
      "Read up on the exception API at http://docs.python.org/3/c-api/exceptions.html"
     ]
    },
    {
     "cell_type": "heading",
     "level": 2,
     "metadata": {
      "slideshow": {
       "slide_type": "subslide"
      }
     },
     "source": [
      "Protocols"
     ]
    },
    {
     "cell_type": "markdown",
     "metadata": {
      "slideshow": {
       "slide_type": "-"
      }
     },
     "source": [
      "The various *protocols* in Python each have their own set of API."
     ]
    },
    {
     "cell_type": "markdown",
     "metadata": {
      "slideshow": {
       "slide_type": "-"
      }
     },
     "source": [
      "For example:\n",
      "\n",
      " * `PySequence_*` for working with *sequences*\n",
      " * `PyIter_*` for working with *iterators* and *iterables*\n",
      " * `PyFunction_*` for working with functions (not actually a protocol, but a concrete type)"
     ]
    },
    {
     "cell_type": "heading",
     "level": 2,
     "metadata": {
      "slideshow": {
       "slide_type": "subslide"
      }
     },
     "source": [
      "Read all about it"
     ]
    },
    {
     "cell_type": "markdown",
     "metadata": {},
     "source": [
      "The Python C API is well documented. It's a large API, but the documentation is well-structured enough to generally guide you to where you need to be.\n",
      "\n",
      "You can the full details of the C API at:\n",
      "\n",
      "**http://docs.python.org/3/c-api/index.html**\n",
      "\n",
      "<img src=\"files/media/python-logo.png\">"
     ]
    },
    {
     "cell_type": "heading",
     "level": 1,
     "metadata": {
      "slideshow": {
       "slide_type": "slide"
      }
     },
     "source": [
      "Core Boost.Python"
     ]
    },
    {
     "cell_type": "markdown",
     "metadata": {
      "slideshow": {
       "slide_type": "notes"
      }
     },
     "source": [
      " * boost::python::object\n",
      " * boost::python::error_already_set & boost::python::throw_error_already_set()\n",
      " * list, dict, tuple, etc."
     ]
    },
    {
     "cell_type": "heading",
     "level": 1,
     "metadata": {
      "slideshow": {
       "slide_type": "subslide"
      }
     },
     "source": [
      "`boost::python::object` and `boost::python::handle`"
     ]
    },
    {
     "cell_type": "markdown",
     "metadata": {},
     "source": [
      "`bp::handle<>` is used to take initial ownership of a `PyObject`."
     ]
    },
    {
     "cell_type": "markdown",
     "metadata": {
      "slideshow": {
       "slide_type": "fragment"
      }
     },
     "source": [
      "`bp::object` is constructed from a `bp::handle<>`."
     ]
    },
    {
     "cell_type": "markdown",
     "metadata": {
      "slideshow": {
       "slide_type": "fragment"
      }
     },
     "source": [
      "`bp::object` uses **RAII** manage reference counting on a `PyObject` so that it's harder (but not impossible) for you mess it up."
     ]
    },
    {
     "cell_type": "markdown",
     "metadata": {
      "slideshow": {
       "slide_type": "fragment"
      }
     },
     "source": [
      "<img src=\"files/media/object_to_pyobject.png\">"
     ]
    },
    {
     "cell_type": "heading",
     "level": 1,
     "metadata": {
      "slideshow": {
       "slide_type": "subslide"
      }
     },
     "source": [
      "`boost::python::object` usage example"
     ]
    },
    {
     "cell_type": "markdown",
     "metadata": {},
     "source": [
      "Taking ownership of a so-called *new* refererence:"
     ]
    },
    {
     "cell_type": "markdown",
     "metadata": {},
     "source": [
      "```C++\n",
      "// This creates a \"new\" reference. We are responsible for decref'ing it at some point.\n",
      "PyObject* pyobj = PyList_New(10);\n",
      "\n",
      "// handle<> and object do not incref an object normally.\n",
      "boost::python::object obj(\n",
      "    boost::python::handle<>(pyobj);\n",
      "```"
     ]
    },
    {
     "cell_type": "markdown",
     "metadata": {
      "slideshow": {
       "slide_type": "fragment"
      }
     },
     "source": [
      "Taking a *borrowed* reference: "
     ]
    },
    {
     "cell_type": "markdown",
     "metadata": {
      "slideshow": {
       "slide_type": "fragment"
      }
     },
     "source": [
      "```C++\n",
      "// Getting a list item returns a borrowed reference\n",
      "PyObject* list_item = PyList_GetItem(list_obj, 3);\n",
      "\n",
      "// So we use borrowed() to incref it.\n",
      "boost::python::object obj(\n",
      "    boost::python::handle<>(\n",
      "        boost::python::borrowed(list_item)));\n",
      "```"
     ]
    },
    {
     "cell_type": "heading",
     "level": 1,
     "metadata": {
      "slideshow": {
       "slide_type": "subslide"
      }
     },
     "source": [
      "Exceptions with Boost.Python"
     ]
    },
    {
     "cell_type": "heading",
     "level": 1,
     "metadata": {
      "slideshow": {
       "slide_type": "subslide"
      }
     },
     "source": [
      "Translating C++ exceptions into Python"
     ]
    },
    {
     "cell_type": "markdown",
     "metadata": {},
     "source": [
      "By default Boost.Python will translate C++ exceptions into a `RuntimeError` with the message \"Unidentifiable C++ exception.\""
     ]
    },
    {
     "cell_type": "markdown",
     "metadata": {
      "slideshow": {
       "slide_type": "fragment"
      }
     },
     "source": [
      "To provide better custom exception translation, you can use `boost::python::register_exception_translator()`."
     ]
    },
    {
     "cell_type": "markdown",
     "metadata": {
      "slideshow": {
       "slide_type": "fragment"
      }
     },
     "source": [
      "Read about it in the Boost.Python documentation at http://www.boost.org/doc/libs/1_41_0/libs/python/doc/v2/exception_translator.html"
     ]
    },
    {
     "cell_type": "heading",
     "level": 1,
     "metadata": {
      "slideshow": {
       "slide_type": "subslide"
      }
     },
     "source": [
      "Translating Python exceptions into C++"
     ]
    },
    {
     "cell_type": "markdown",
     "metadata": {},
     "source": [
      "Boost.Python will translate all Python exceptions into a `boost::python::error_already_set` exception."
     ]
    },
    {
     "cell_type": "markdown",
     "metadata": {
      "slideshow": {
       "slide_type": "fragment"
      }
     },
     "source": [
      "You can catch these, interrogate the Python C API exception registers, and take the appropriate action."
     ]
    },
    {
     "cell_type": "markdown",
     "metadata": {
      "slideshow": {
       "slide_type": "fragment"
      }
     },
     "source": [
      "**Handy debugging tip!** Boost.Python always throws `error_already_set` exceptions using `boost::python::throw_error_already_set()`. Setting a breakpoint here can be **very** useful when debugging exceptions."
     ]
    },
    {
     "cell_type": "heading",
     "level": 1,
     "metadata": {
      "slideshow": {
       "slide_type": "slide"
      }
     },
     "source": [
      "Build plumbing"
     ]
    },
    {
     "cell_type": "heading",
     "level": 1,
     "metadata": {
      "slideshow": {
       "slide_type": "slide"
      }
     },
     "source": [
      "Interlude: Notebook setup"
     ]
    },
    {
     "cell_type": "markdown",
     "metadata": {
      "slideshow": {
       "slide_type": "fragment"
      }
     },
     "source": [
      "First we need to do a little bit of setup so that the notebook knows how to deal with C++/Boost.Python code. \n",
      "\n",
      "The hardest part comes first. In the directory containing this notebook you should find a file named ``bp_magic.py``. This file contains code that tell IPython Notebook how to compile C++ code against your installation of Boost.Python.\n",
      "\n",
      "Here we load the `cppmagic` notebook extension."
     ]
    },
    {
     "cell_type": "code",
     "collapsed": false,
     "input": [
      "%reload_ext bp_magic"
     ],
     "language": "python",
     "metadata": {
      "slideshow": {
       "slide_type": "fragment"
      }
     },
     "outputs": [],
     "prompt_number": 1
    },
    {
     "cell_type": "markdown",
     "metadata": {
      "slideshow": {
       "slide_type": "fragment"
      }
     },
     "source": [
      "And here we verify that it works."
     ]
    },
    {
     "cell_type": "code",
     "collapsed": false,
     "input": [
      "%%bp_program cpp_verify\n",
      "\n",
      "#include<iostream>\n",
      "\n",
      "int main(int, char**)\n",
      "{\n",
      "    std::cout << \"It works!\\n\";\n",
      "    return 0;\n",
      "}"
     ],
     "language": "python",
     "metadata": {
      "slideshow": {
       "slide_type": "fragment"
      }
     },
     "outputs": [
      {
       "metadata": {},
       "output_type": "pyout",
       "prompt_number": 2,
       "text": [
        "['It works!']"
       ]
      }
     ],
     "prompt_number": 2
    },
    {
     "cell_type": "heading",
     "level": 2,
     "metadata": {
      "slideshow": {
       "slide_type": "subslide"
      }
     },
     "source": [
      "Verifying that Boost.Python compiles/links"
     ]
    },
    {
     "cell_type": "markdown",
     "metadata": {
      "slideshow": {
       "slide_type": "-"
      }
     },
     "source": [
      "Now that the C++ compiler appears to be working, let's make sure that we can see properly use Boost.Python. From a C++ construction point of view, this means that we can see the `boost/python.hpp` header and link to `libboost_python`. Let's check that:"
     ]
    },
    {
     "cell_type": "code",
     "collapsed": false,
     "input": [
      "%%bp_program plumbing_test\n",
      "\n",
      "#include <iostream>\n",
      "#include <boost/python.hpp>\n",
      "\n",
      "int main(int, char**) {\n",
      "    std::cout << \"Successfully linked to Boost.Python!!\\n\";\n",
      "    return 0;\n",
      "}"
     ],
     "language": "python",
     "metadata": {
      "slideshow": {
       "slide_type": "-"
      }
     },
     "outputs": [
      {
       "metadata": {},
       "output_type": "pyout",
       "prompt_number": 3,
       "text": [
        "['Successfully linked to Boost.Python!!']"
       ]
      }
     ],
     "prompt_number": 3
    },
    {
     "cell_type": "heading",
     "level": 2,
     "metadata": {
      "slideshow": {
       "slide_type": "subslide"
      }
     },
     "source": [
      "Make a *smoke test* module"
     ]
    },
    {
     "cell_type": "markdown",
     "metadata": {
      "slideshow": {
       "slide_type": "-"
      }
     },
     "source": [
      "Since we can link to Boost.Python, that means we're ready to make our first module with it. We'll name this module `smoke_test` since it won't do much more than verify that it can be imported."
     ]
    },
    {
     "cell_type": "code",
     "collapsed": false,
     "input": [
      "%%bp_module smoke_test\n",
      "\n",
      "#include <boost/python.hpp>\n",
      "\n",
      "namespace bp=boost::python;\n",
      "\n",
      "int test() { return 42; }\n",
      "\n",
      "BOOST_PYTHON_MODULE(smoke_test) {\n",
      "    bp::def(\"test\", test);\n",
      "}"
     ],
     "language": "python",
     "metadata": {
      "slideshow": {
       "slide_type": "-"
      }
     },
     "outputs": [
      {
       "metadata": {},
       "output_type": "pyout",
       "prompt_number": 4,
       "text": [
        "[]"
       ]
      }
     ],
     "prompt_number": 4
    },
    {
     "cell_type": "heading",
     "level": 2,
     "metadata": {
      "slideshow": {
       "slide_type": "subslide"
      }
     },
     "source": [
      "Verify that the module works"
     ]
    },
    {
     "cell_type": "markdown",
     "metadata": {
      "slideshow": {
       "slide_type": "-"
      }
     },
     "source": [
      "And of course now we want to import and execute that module."
     ]
    },
    {
     "cell_type": "code",
     "collapsed": false,
     "input": [
      "import smoke_test\n",
      "smoke_test.test()"
     ],
     "language": "python",
     "metadata": {
      "slideshow": {
       "slide_type": "-"
      }
     },
     "outputs": [
      {
       "metadata": {},
       "output_type": "pyout",
       "prompt_number": 5,
       "text": [
        "42"
       ]
      }
     ],
     "prompt_number": 5
    },
    {
     "cell_type": "markdown",
     "metadata": {
      "slideshow": {
       "slide_type": "-"
      }
     },
     "source": [
      "Awesome! If you saw `42` output from the last script, then you're ready to move on to bigger things."
     ]
    },
    {
     "cell_type": "heading",
     "level": 1,
     "metadata": {
      "slideshow": {
       "slide_type": "slide"
      }
     },
     "source": [
      "Extending"
     ]
    },
    {
     "cell_type": "heading",
     "level": 1,
     "metadata": {
      "slideshow": {
       "slide_type": "slide"
      }
     },
     "source": [
      "Type Conversion"
     ]
    },
    {
     "cell_type": "heading",
     "level": 1,
     "metadata": {
      "slideshow": {
       "slide_type": "slide"
      }
     },
     "source": [
      "Embedding"
     ]
    }
   ],
   "metadata": {}
  }
 ]
}